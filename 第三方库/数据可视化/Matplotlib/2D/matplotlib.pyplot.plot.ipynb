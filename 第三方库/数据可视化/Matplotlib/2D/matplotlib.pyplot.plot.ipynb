{
 "cells": [
  {
   "cell_type": "markdown",
   "metadata": {},
   "source": [
    "### matplotlib.pyplot.plot在二维坐标下绘制x轴和y轴的图像"
   ]
  },
  {
   "cell_type": "markdown",
   "metadata": {},
   "source": [
    "相关参数：\n",
    "\n",
    "```\n",
    "plot([x], y, [fmt], data=None, **kwargs)\n",
    "plot([x], y, [fmt], [x2], y2, [fmt2], ..., **kwargs)\n",
    "```\n",
    "#### 参数:\n",
    "\n",
    "***x, y : 数组或标量***\n",
    "    - 数据点的水平/垂直坐标。 x值是可选的。如果没有给出，则默认为[0, ..., N-1].\n",
    "    - 通常，这些参数是长度为N的数组。但是，也支持标量（相当于具有常量值的数组）。 参数也可以是二维的。然后，列表示单独的数据集。\n",
    "\n",
    "***fmt : 字符串, 可选***\n",
    "    - 格式字符串，例如红色圆圈'ro'。有关格式字符串的完整说明，请参阅“注释”部分。\n",
    "    - 格式字符串只是快速设置基本行属性的缩写。所有这些以及更多也可以通过关键字参数来控制。\n",
    " ***data：可索引对象，可选 ***\n",
    "     - 带有标记数据的对象。如果给定，请提供标签名称以在x和y中绘图。\n",
    "     \n",
    "#### Returns:\t\n",
    "    - lines：  表示绘制数据的Line2D对象列表。\n",
    "    \n",
    "#### 其他参数\n",
    "*** scalex, scaley : bool, 可选, 默认: True ***\n",
    "    - 这些参数确定视图限制是否适合数据限制，这些值将传递给函数autoscale_view。\n",
    "\n",
    "*** kwargs：[Line2D](https://matplotlib.org/api/_as_gen/matplotlib.lines.Line2D.html#matplotlib.lines.Line2D)属性，可选***\n",
    "    - kwargs用于指定属性，如线条标签（用于自动图例），线宽，抗锯齿，标记面颜色。例：\n",
    "    \n",
    "```\n",
    ">>> plot([1,2,3], [1,2,3], 'go-', label='line 1', linewidth=2)\n",
    ">>> plot([1,2,3], [1,4,9], 'rs',  label='line 2')\n",
    "```\n",
    "如果使用一个绘图命令创建多行，则kwargs将应用于所有这些行。"
   ]
  },
  {
   "cell_type": "raw",
   "metadata": {},
   "source": [
    ">>> plot(x, y)        # 使用默认线条样式和颜色绘制x和y\n",
    ">>> plot(x, y, 'bo')    # 使用蓝色圆圈标记绘制x和y\n",
    ">>> plot(y)          # x的索引为 0 ··· n-1\n",
    ">>> plot(y, 'r+')      # 同上，但有红色加号"
   ]
  },
  {
   "cell_type": "markdown",
   "metadata": {},
   "source": [
    "您可以使用[Line2D](https://matplotlib.org/api/_as_gen/matplotlib.lines.Line2D.html#matplotlib.lines.Line2D)属性作为关键字参数，以更好地控制外观。 行属性和fmt可以混合使用。 以下两个调用产生相同的结果："
   ]
  },
  {
   "cell_type": "raw",
   "metadata": {},
   "source": [
    ">>> plot(x, y, 'go--', linewidth=2, markersize=12)\n",
    ">>> plot(x, y, color='green', marker='o', linestyle='dashed', linewidth=2, markersize=12)"
   ]
  },
  {
   "cell_type": "markdown",
   "metadata": {},
   "source": [
    "> 注意与fmt冲突时，关键字参数优先。"
   ]
  },
  {
   "cell_type": "markdown",
   "metadata": {},
   "source": [
    "#### fmt参数（格式化字符串）\n",
    "\n",
    "- 格式字符串由颜色，标记和线条的部分组成\n",
    "\n",
    "- 每个都是可选的。如果未提供，则使用样式循环中的值。例外：如果给出了行，但没有标记，则数据将是没有标记的行。\n",
    "\n",
    "> *** fmt = '[color][marker][line]' ***\n",
    "\n",
    "颜色：\n",
    "\n",
    "支持以下颜色缩写：\n",
    "\n",
    "|字符|  颜色|\n",
    "|:-:|:-|\n",
    "|'b'\t|blue（蓝色）|\n",
    "|'g'\t|green（绿色）|\n",
    "|'r'\t|red（红色）|\n",
    "|'c'\t|cyan（青色）|\n",
    "|'m'\t|magenta（品红）|\n",
    "|'y'\t|yellow（黄色）|\n",
    "|'k'\t|black（黑色）|\n",
    "|'w'\t|white（白色）|\n",
    "\n",
    "如果觉得上述颜色有限可以通过函数 [matplotlib.colors](https://matplotlib.org/api/colors_api.html#module-matplotlib.colors)自定义，例如：全名('green') 或者16进制字符串 ('#008000').\n",
    "\n",
    "标记：\n",
    "<table >\n",
    "<tr><th>字符</th><th>描述</th></tr>\n",
    "<tr><td>'.'</td><td>\tpoint marker</td></tr>\n",
    "<tr><td>','</td><td>\tpixel marker</td></tr>\n",
    "<tr><td>'o'</td><td>\tcircle marker</td></tr>\n",
    "<tr><td>'v'</td><td>\ttriangle_down marker</td></tr>\n",
    "<tr><td>'^'</td><td>\ttriangle_up marker</td></tr>\n",
    "<tr><td>'<'</td><td>\ttriangle_left marker</td></tr>\n",
    "<tr><td>'>'</td><td>\ttriangle_right marker</td></tr>\n",
    "<tr><td>'1'</td><td>\ttri_down marker</td></tr>\n",
    "<tr><td>'2'</td><td>\ttri_up marker</td></tr>\n",
    "<tr><td>'3'</td><td>\ttri_left marker</td></tr>\n",
    "<tr><td>'4'</td><td>\ttri_right marker</td></tr>\n",
    "<tr><td>'s'</td><td>\tsquare marker</td></tr>\n",
    "<tr><td>'p'</td><td>\tpentagon marker</td></tr>\n",
    "<tr><td>'*'</td><td>\tstar marker</td></tr>\n",
    "<tr><td>'h'</td><td>\thexagon1 marker</td></tr>\n",
    "<tr><td>'H'</td><td>\thexagon2 marker</td></tr>\n",
    "<tr><td>'+'</td><td>\tplus marker</td></tr>\n",
    "<tr><td>'x'</td><td>\tx marker</td></tr>\n",
    "<tr><td>'D'</td><td>\tdiamond marker</td></tr>\n",
    "<tr><td>'d'</td><td>\tthin_diamond marker</td></tr>\n",
    "<tr><td>'|'</td><td>\tvline marker</td></tr>\n",
    "<tr><td>'_'</td><td>\thline marker</td></tr>\n",
    "</table>\n",
    "\n",
    "线条风格：\n",
    "<table>\n",
    "<tr><th>字符</th><th>描述</th></tr>\n",
    "<tr><td>'-'</td><td>\tsolid line style</td></tr>\n",
    "<tr><td>'--'</td><td>\tdashed line style</td></tr>\n",
    "<tr><td>'-.'</td><td>\tdash-dot line style</td></tr></td></tr>\n",
    "<tr><td>':'</td><td>\tdotted line style</td></tr>\n",
    "</table>\n",
    "\n"
   ]
  },
  {
   "cell_type": "code",
   "execution_count": 2,
   "metadata": {},
   "outputs": [
    {
     "data": {
      "text/plain": [
       "[<matplotlib.lines.Line2D at 0x27828cd07f0>]"
      ]
     },
     "execution_count": 2,
     "metadata": {},
     "output_type": "execute_result"
    },
    {
     "data": {
      "image/png": "[encoded data removed]",
      "text/plain": [
       "<Figure size 432x288 with 1 Axes>"
      ]
     },
     "metadata": {
      "needs_background": "light"
     },
     "output_type": "display_data"
    }
   ],
   "source": [
    "import matplotlib.pyplot as plt\n",
    "import numpy as np\n",
    "\n",
    "np.random.seed(19680801)\n",
    "y = np.random.randint(0,10,20)   \n",
    "plt.plot(y,'k^-')"
   ]
  },
  {
   "cell_type": "raw",
   "metadata": {},
   "source": [
    "示例格式字符串：\n",
    "\n",
    "'b'    #蓝色标记，默认形状\n",
    "'ro'   #红色圆圈\n",
    "'g-'   #绿色实线\n",
    "'--'   #带有默认颜色的虚线\n",
    "'k^:'  #由一条虚线连接的黑色三角形标记"
   ]
  }
 ],
 "metadata": {
  "kernelspec": {
   "display_name": "Python 3",
   "language": "python",
   "name": "python3"
  },
  "language_info": {
   "codemirror_mode": {
    "name": "ipython",
    "version": 3
   },
   "file_extension": ".py",
   "mimetype": "text/x-python",
   "name": "python",
   "nbconvert_exporter": "python",
   "pygments_lexer": "ipython3",
   "version": "3.7.0"
  }
 },
 "nbformat": 4,
 "nbformat_minor": 2
}
