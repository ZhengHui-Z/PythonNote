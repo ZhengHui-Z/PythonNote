{
 "cells": [
  {
   "cell_type": "markdown",
   "metadata": {},
   "source": [
    "### matplotlib.pyplot.plot在二维坐标下绘制x轴和y轴的图像"
   ]
  },
  {
   "cell_type": "markdown",
   "metadata": {},
   "source": [
    "相关参数：\n",
    "\n",
    "```\n",
    "plot([x], y, [fmt], data=None, **kwargs)\n",
    "plot([x], y, [fmt], [x2], y2, [fmt2], ..., **kwargs)\n",
    "```\n",
    "点或线节点的坐标由x，y给出。"
   ]
  },
  {
   "cell_type": "raw",
   "metadata": {},
   "source": [
    ">>> plot(x, y)        # 使用默认线条样式和颜色绘制x和y\n",
    ">>> plot(x, y, 'bo')    # 使用蓝色圆圈标记绘制x和y\n",
    ">>> plot(y)          # x的索引为 0 ··· n-1\n",
    ">>> plot(y, 'r+')      # 同上，但有红色加号"
   ]
  },
  {
   "cell_type": "markdown",
   "metadata": {},
   "source": [
    "您可以使用[Line2D](https://matplotlib.org/api/_as_gen/matplotlib.lines.Line2D.html#matplotlib.lines.Line2D)属性作为关键字参数，以更好地控制外观。 行属性和fmt可以混合使用。 以下两个调用产生相同的结果："
   ]
  },
  {
   "cell_type": "raw",
   "metadata": {},
   "source": [
    ">>> plot(x, y, 'go--', linewidth=2, markersize=12)\n",
    ">>> plot(x, y, color='green', marker='o', linestyle='dashed', linewidth=2, markersize=12)"
   ]
  },
  {
   "cell_type": "markdown",
   "metadata": {},
   "source": [
    "> 注意与fmt冲突时，关键字参数优先。"
   ]
  }
 ],
 "metadata": {
  "kernelspec": {
   "display_name": "Python 3",
   "language": "python",
   "name": "python3"
  },
  "language_info": {
   "codemirror_mode": {
    "name": "ipython",
    "version": 3
   },
   "file_extension": ".py",
   "mimetype": "text/x-python",
   "name": "python",
   "nbconvert_exporter": "python",
   "pygments_lexer": "ipython3",
   "version": "3.6.5"
  }
 },
 "nbformat": 4,
 "nbformat_minor": 2
}
