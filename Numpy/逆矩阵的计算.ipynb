{
 "cells": [
  {
   "cell_type": "code",
   "execution_count": 123,
   "metadata": {},
   "outputs": [],
   "source": [
    "import time\n",
    "import numpy as np\n"
   ]
  },
  {
   "cell_type": "code",
   "execution_count": 124,
   "metadata": {},
   "outputs": [],
   "source": [
    "def g(x):\n",
    "#     return x / (np.sum(np.exp(x)))\n",
    "    return x / (np.sum(np.exp(x)))"
   ]
  },
  {
   "cell_type": "code",
   "execution_count": 358,
   "metadata": {},
   "outputs": [
    {
     "data": {
      "text/plain": [
       "(100, 1)"
      ]
     },
     "execution_count": 358,
     "metadata": {},
     "output_type": "execute_result"
    }
   ],
   "source": [
    "np.random.seed(int(time.time()))\n",
    "lay = 100\n",
    "data = np.mat(np.random.randint(0,255,[lay,1]))\n",
    "data.shape"
   ]
  },
  {
   "cell_type": "code",
   "execution_count": 447,
   "metadata": {},
   "outputs": [
    {
     "name": "stdout",
     "output_type": "stream",
     "text": [
      "B.shape (100, 1000)\n",
      "temH.shape (100, 1000)\n",
      "H.shape (100, 1000)\n",
      "H_1.shape (1000, 100)\n",
      "T.shape: (100, 1)\n"
     ]
    },
    {
     "data": {
      "text/plain": [
       "(matrix([[ 2.],\n",
       "         [ 2.],\n",
       "         [ 2.],\n",
       "         [ 2.],\n",
       "         [ 2.],\n",
       "         [ 2.],\n",
       "         [ 2.],\n",
       "         [ 2.],\n",
       "         [ 2.],\n",
       "         [ 2.],\n",
       "         [ 2.],\n",
       "         [ 2.],\n",
       "         [ 2.],\n",
       "         [ 2.],\n",
       "         [ 2.],\n",
       "         [ 2.],\n",
       "         [ 2.],\n",
       "         [ 2.],\n",
       "         [ 2.],\n",
       "         [ 2.],\n",
       "         [ 2.],\n",
       "         [ 2.],\n",
       "         [ 2.],\n",
       "         [ 2.],\n",
       "         [ 2.],\n",
       "         [ 2.],\n",
       "         [ 2.],\n",
       "         [ 2.],\n",
       "         [ 2.],\n",
       "         [ 2.],\n",
       "         [ 2.],\n",
       "         [ 2.],\n",
       "         [ 2.],\n",
       "         [ 2.],\n",
       "         [ 2.],\n",
       "         [ 2.],\n",
       "         [ 2.],\n",
       "         [ 2.],\n",
       "         [ 2.],\n",
       "         [ 2.],\n",
       "         [ 2.],\n",
       "         [ 2.],\n",
       "         [ 2.],\n",
       "         [ 2.],\n",
       "         [ 2.],\n",
       "         [ 2.],\n",
       "         [ 2.],\n",
       "         [ 2.],\n",
       "         [ 2.],\n",
       "         [ 2.],\n",
       "         [ 2.],\n",
       "         [ 2.],\n",
       "         [ 2.],\n",
       "         [ 2.],\n",
       "         [ 2.],\n",
       "         [ 2.],\n",
       "         [ 2.],\n",
       "         [ 2.],\n",
       "         [ 2.],\n",
       "         [ 2.],\n",
       "         [ 2.],\n",
       "         [ 2.],\n",
       "         [ 2.],\n",
       "         [ 2.],\n",
       "         [ 2.],\n",
       "         [ 2.],\n",
       "         [ 2.],\n",
       "         [ 2.],\n",
       "         [ 2.],\n",
       "         [ 2.],\n",
       "         [ 2.],\n",
       "         [ 2.],\n",
       "         [ 2.],\n",
       "         [ 2.],\n",
       "         [ 2.],\n",
       "         [ 2.],\n",
       "         [ 2.],\n",
       "         [ 2.],\n",
       "         [ 2.],\n",
       "         [ 2.],\n",
       "         [ 2.],\n",
       "         [ 2.],\n",
       "         [ 2.],\n",
       "         [ 2.],\n",
       "         [ 2.],\n",
       "         [ 2.],\n",
       "         [ 2.],\n",
       "         [ 2.],\n",
       "         [ 2.],\n",
       "         [ 2.],\n",
       "         [ 2.],\n",
       "         [ 2.],\n",
       "         [ 2.],\n",
       "         [ 2.],\n",
       "         [ 2.],\n",
       "         [ 2.],\n",
       "         [ 2.],\n",
       "         [ 2.],\n",
       "         [ 2.],\n",
       "         [ 2.]]), matrix([[ 2.],\n",
       "         [ 2.],\n",
       "         [ 2.],\n",
       "         [ 2.],\n",
       "         [ 2.],\n",
       "         [ 2.],\n",
       "         [ 2.],\n",
       "         [ 2.],\n",
       "         [ 2.],\n",
       "         [ 2.],\n",
       "         [ 2.],\n",
       "         [ 2.],\n",
       "         [ 2.],\n",
       "         [ 2.],\n",
       "         [ 2.],\n",
       "         [ 2.],\n",
       "         [ 2.],\n",
       "         [ 2.],\n",
       "         [ 2.],\n",
       "         [ 2.],\n",
       "         [ 2.],\n",
       "         [ 2.],\n",
       "         [ 2.],\n",
       "         [ 2.],\n",
       "         [ 2.],\n",
       "         [ 2.],\n",
       "         [ 2.],\n",
       "         [ 2.],\n",
       "         [ 2.],\n",
       "         [ 2.],\n",
       "         [ 2.],\n",
       "         [ 2.],\n",
       "         [ 2.],\n",
       "         [ 2.],\n",
       "         [ 2.],\n",
       "         [ 2.],\n",
       "         [ 2.],\n",
       "         [ 2.],\n",
       "         [ 2.],\n",
       "         [ 2.],\n",
       "         [ 2.],\n",
       "         [ 2.],\n",
       "         [ 2.],\n",
       "         [ 2.],\n",
       "         [ 2.],\n",
       "         [ 2.],\n",
       "         [ 2.],\n",
       "         [ 2.],\n",
       "         [ 2.],\n",
       "         [ 2.],\n",
       "         [ 2.],\n",
       "         [ 2.],\n",
       "         [ 2.],\n",
       "         [ 2.],\n",
       "         [ 2.],\n",
       "         [ 2.],\n",
       "         [ 2.],\n",
       "         [ 2.],\n",
       "         [ 2.],\n",
       "         [ 2.],\n",
       "         [ 2.],\n",
       "         [ 2.],\n",
       "         [ 2.],\n",
       "         [ 2.],\n",
       "         [ 2.],\n",
       "         [ 2.],\n",
       "         [ 2.],\n",
       "         [ 2.],\n",
       "         [ 2.],\n",
       "         [ 2.],\n",
       "         [ 2.],\n",
       "         [ 2.],\n",
       "         [ 2.],\n",
       "         [ 2.],\n",
       "         [ 2.],\n",
       "         [ 2.],\n",
       "         [ 2.],\n",
       "         [ 2.],\n",
       "         [ 2.],\n",
       "         [ 2.],\n",
       "         [ 2.],\n",
       "         [ 2.],\n",
       "         [ 2.],\n",
       "         [ 2.],\n",
       "         [ 2.],\n",
       "         [ 2.],\n",
       "         [ 2.],\n",
       "         [ 2.],\n",
       "         [ 2.],\n",
       "         [ 2.],\n",
       "         [ 2.],\n",
       "         [ 2.],\n",
       "         [ 2.],\n",
       "         [ 2.],\n",
       "         [ 2.],\n",
       "         [ 2.],\n",
       "         [ 2.],\n",
       "         [ 2.],\n",
       "         [ 2.],\n",
       "         [ 2.]]))"
      ]
     },
     "execution_count": 447,
     "metadata": {},
     "output_type": "execute_result"
    }
   ],
   "source": [
    "\n",
    "def elm_train(data,lay):\n",
    "    np.random.seed(int(time.time()))\n",
    "    W = np.mat(np.random.normal(size=(data.shape[1], lay)).astype('float64')) # (1 * 100)\n",
    "    B = np.mat(np.random.normal(size=(data.shape[0], lay)).astype('float64')) # (1*100)\n",
    "    temH = np.dot(data,W) + B\n",
    "    H = temH\n",
    "    H_1 = np.linalg.pinv(H)\n",
    "    T = np.mat(np.ones((H_1.shape[1],1)).astype('float64') + 1)\n",
    "    beita = np.dot(H_1,T)\n",
    "    ##################test####################\n",
    "    print(\"B.shape\",B.shape)\n",
    "    print(\"temH.shape\",temH.shape)\n",
    "    print(\"H.shape\",H.shape)\n",
    "    print(\"H_1.shape\",H_1.shape)\n",
    "    print(\"T.shape:\",T.shape)\n",
    "    ######################################\n",
    "    return (temH, H, T, W, B, beita, T)\n",
    "\n",
    "\n",
    "temH, H, T, W, B, beita, lable = elm_train(data,1000)\n",
    "res = np.dot(H,beita)\n",
    "T,res"
   ]
  },
  {
   "cell_type": "code",
   "execution_count": 446,
   "metadata": {},
   "outputs": [
    {
     "data": {
      "text/plain": [
       "(matrix([[  23.95867821,  273.32763963,  194.22030567, ...,  212.50784954,\n",
       "           132.37056071,  209.86213191],\n",
       "         [  14.03608655,  164.75072077,  116.82663912, ...,  129.48138918,\n",
       "            78.97939661,  123.48896496],\n",
       "         [  29.68869238,  318.27328868,  226.11556034, ...,  247.0797132 ,\n",
       "           156.2414717 ,  241.7819436 ],\n",
       "         ..., \n",
       "         [   4.04721044,   30.7384863 ,   20.48748223, ...,   23.80296519,\n",
       "            15.07822321,   23.34726069],\n",
       "         [  10.95577215,  109.49751758,   79.54970932, ...,   85.21050573,\n",
       "            54.68836783,   84.57825106],\n",
       "         [   5.92605978,   65.06510152,   45.31036677, ...,   51.10894775,\n",
       "            32.44821966,   50.30127791]]),\n",
       " matrix([[ 0.,  0.,  0., ...,  0.,  0.,  0.],\n",
       "         [ 0.,  0.,  0., ...,  0.,  0.,  0.],\n",
       "         [ 0.,  0.,  0., ...,  0.,  0.,  0.],\n",
       "         ..., \n",
       "         [ 0.,  0.,  0., ...,  0.,  0.,  0.],\n",
       "         [ 0.,  0.,  0., ...,  0.,  0.,  0.],\n",
       "         [ 0.,  0.,  0., ...,  0.,  0.,  0.]]))"
      ]
     },
     "execution_count": 446,
     "metadata": {},
     "output_type": "execute_result"
    }
   ],
   "source": [
    "temH, H"
   ]
  },
  {
   "cell_type": "code",
   "execution_count": 432,
   "metadata": {},
   "outputs": [],
   "source": [
    "data1 = np.mat(np.random.randint(0,255,[lay,1]))"
   ]
  },
  {
   "cell_type": "code",
   "execution_count": 433,
   "metadata": {},
   "outputs": [
    {
     "name": "stdout",
     "output_type": "stream",
     "text": [
      "TT.shape (100, 1)\n",
      "lable.shape: (100, 1)\n",
      "Res.shape: (100, 1)\n",
      "0.0\n",
      "TT.shape (100, 1)\n",
      "lable.shape: (100, 1)\n",
      "Res.shape: (100, 1)\n",
      "0.0\n"
     ]
    },
    {
     "name": "stderr",
     "output_type": "stream",
     "text": [
      "C:\\Users\\Albert\\Anaconda3\\lib\\site-packages\\ipykernel_launcher.py:2: RuntimeWarning: overflow encountered in exp\n",
      "  \n"
     ]
    }
   ],
   "source": [
    "data[12] = 100\n",
    "def elm_test(data,W,B,beita,lable):\n",
    "    temH = np.dot(data, W) + B\n",
    "    H = g(temH)\n",
    "    TT = np.dot(H,beita)\n",
    "    Res = lable - TT\n",
    "    ################Test#################\n",
    "    print(\"TT.shape\",TT.shape)\n",
    "    print(\"lable.shape:\",lable.shape)\n",
    "    print(\"Res.shape:\",Res.shape)\n",
    "    #################################\n",
    "    return np.cov(Res.T)\n",
    "\n",
    "print(elm_test(data,W,B,beita,lable))\n",
    "print(elm_test(data1,W,B,beita,lable))"
   ]
  },
  {
   "cell_type": "code",
   "execution_count": null,
   "metadata": {},
   "outputs": [],
   "source": []
  },
  {
   "cell_type": "code",
   "execution_count": null,
   "metadata": {},
   "outputs": [],
   "source": []
  },
  {
   "cell_type": "code",
   "execution_count": null,
   "metadata": {},
   "outputs": [],
   "source": []
  },
  {
   "cell_type": "code",
   "execution_count": null,
   "metadata": {},
   "outputs": [],
   "source": []
  },
  {
   "cell_type": "code",
   "execution_count": null,
   "metadata": {},
   "outputs": [],
   "source": []
  },
  {
   "cell_type": "code",
   "execution_count": 120,
   "metadata": {},
   "outputs": [],
   "source": [
    "# 画图\n",
    "from PIL import Image"
   ]
  },
  {
   "cell_type": "code",
   "execution_count": 122,
   "metadata": {},
   "outputs": [],
   "source": [
    "img = Image.fromarray(data)\n",
    "img.show()"
   ]
  }
 ],
 "metadata": {
  "kernelspec": {
   "display_name": "Python 3",
   "language": "python",
   "name": "python3"
  },
  "language_info": {
   "codemirror_mode": {
    "name": "ipython",
    "version": 3
   },
   "file_extension": ".py",
   "mimetype": "text/x-python",
   "name": "python",
   "nbconvert_exporter": "python",
   "pygments_lexer": "ipython3",
   "version": "3.6.3"
  }
 },
 "nbformat": 4,
 "nbformat_minor": 2
}
