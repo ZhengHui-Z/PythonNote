{
 "cells": [
  {
   "cell_type": "code",
   "execution_count": 1,
   "metadata": {},
   "outputs": [
    {
     "name": "stderr",
     "output_type": "stream",
     "text": [
      "C:\\Users\\Albert\\Anaconda3\\envs\\env_ai\\lib\\site-packages\\h5py\\__init__.py:36: FutureWarning: Conversion of the second argument of issubdtype from `float` to `np.floating` is deprecated. In future, it will be treated as `np.float64 == np.dtype(float).type`.\n",
      "  from ._conv import register_converters as _register_converters\n"
     ]
    }
   ],
   "source": [
    "import tensorflow as tf"
   ]
  },
  {
   "cell_type": "markdown",
   "metadata": {},
   "source": [
    "TensorFlow打印tensor值：\n",
    "tensorflow提供输出中间值方法方便debug。 \n",
    "> 这个函数就是tf.Print。\n",
    "\n",
    ">tf.Print( input_, data, message=None, first_n=None, summarize=None, name=None )\n",
    "\n",
    "参数: \n",
    "- input_:    通过此op的一个tensor. \n",
    "- data:     当此op被计算之后打印输出的tensor list。 \n",
    "- message:   错误消息的前缀，是一个string。 \n",
    "- first_n:   只记录first_n次. 总是记录负数;这是个缺省. \n",
    "- summarize:  对每个tensor只打印的条目数量。如果是None，对于每个输入tensor只打印3个元素。 \n",
    "- name:     op的名字.\n",
    "\n",
    "返回值: \n",
    "- 和input_相同的tensor.\n"
   ]
  },
  {
   "cell_type": "code",
   "execution_count": 192,
   "metadata": {},
   "outputs": [],
   "source": [
    "# Example\n",
    "def show(x):\n",
    "    x=tf.Print(x,[x,x.shape,'any thing i want'],message='Debug message:',summarize=100)\n",
    "    init = tf.global_variables_initializer()\n",
    "\n",
    "    with tf.Session() as sess:\n",
    "        sess.run(init)\n",
    "        print(\"------------\")\n",
    "        print(x)\n",
    "        print(sess.run(x))"
   ]
  },
  {
   "cell_type": "markdown",
   "metadata": {},
   "source": [
    "### 创建常量tensor\n",
    "```\n",
    "tf.constant(\n",
    "    value,\n",
    "    dtype=None,\n",
    "    shape=None,\n",
    "    name='Const',\n",
    "    verify_shape=False\n",
    ")\n",
    "```\n",
    "Args:\n",
    "- value: A constant value (or list) of output type dtype.\n",
    "- dtype: The type of the elements of the resulting tensor.\n",
    "- shape: Optional dimensions of resulting tensor.\n",
    "- name: Optional name for the tensor.\n",
    "- verify_shape: Boolean that enables verification of a shape of values.\n",
    "\n",
    "Returns:\n",
    "- A Constant Tensor."
   ]
  },
  {
   "cell_type": "markdown",
   "metadata": {},
   "source": [
    "### 1.常量tensor "
   ]
  },
  {
   "cell_type": "code",
   "execution_count": 185,
   "metadata": {},
   "outputs": [
    {
     "name": "stdout",
     "output_type": "stream",
     "text": [
      "------------\n",
      "Tensor(\"Print_70:0\", shape=(2, 3), dtype=float32)\n",
      "[[0. 0. 0.]\n",
      " [0. 0. 0.]]\n",
      "------------\n",
      "Tensor(\"Print_71:0\", shape=(1, 3), dtype=float32)\n",
      "[[1. 1. 1.]]\n",
      "------------\n",
      "Tensor(\"Print_72:0\", shape=(2, 4), dtype=int32)\n",
      "[[8 8 8 8]\n",
      " [8 8 8 8]]\n",
      "------------\n",
      "Tensor(\"Print_73:0\", shape=(3, 3), dtype=int32)\n",
      "[[1 2 3]\n",
      " [4 5 6]\n",
      " [7 8 9]]\n",
      "------------\n",
      "Tensor(\"Print_74:0\", shape=(2, 4), dtype=float32)\n",
      "[[8. 8. 8. 8.]\n",
      " [8. 8. 8. 8.]]\n"
     ]
    }
   ],
   "source": [
    "# 填充0\n",
    "# tf.zeros(\n",
    "#     shape,\n",
    "#     dtype=tf.float32,\n",
    "#     name=None\n",
    "# )\n",
    "show(tf.zeros([2, 3]))\n",
    "\n",
    "# 填充1\n",
    "# tf.ones(\n",
    "#     shape,\n",
    "#     dtype=tf.float32,\n",
    "#     name=None\n",
    "# )\n",
    "show(tf.ones([1, 3]))\n",
    "\n",
    "# 填充指定值\n",
    "show(tf.fill([2, 4], 8))\n",
    "\n",
    "#创建一个自定义的常量\n",
    "show(tf.constant([\n",
    "    [1, 2, 3],\n",
    "    [4, 5, 6],\n",
    "    [7, 8, 9]\n",
    "]))\n",
    "\n",
    "# 等价于fill\n",
    "show(tf.constant(8, tf.float32, [2,4]))"
   ]
  },
  {
   "cell_type": "markdown",
   "metadata": {},
   "source": [
    "### 2.其于其它变量的shape来创建常量"
   ]
  },
  {
   "cell_type": "code",
   "execution_count": 186,
   "metadata": {},
   "outputs": [
    {
     "name": "stdout",
     "output_type": "stream",
     "text": [
      "------------\n",
      "Tensor(\"Print_75:0\", shape=(2, 3), dtype=float32)\n",
      "[[0. 0. 0.]\n",
      " [0. 0. 0.]]\n",
      "------------\n",
      "Tensor(\"Print_76:0\", shape=(3, 3), dtype=float32)\n",
      "[[1. 1. 1.]\n",
      " [1. 1. 1.]\n",
      " [1. 1. 1.]]\n"
     ]
    }
   ],
   "source": [
    "zeros = tf.zeros([2, 3])\n",
    "show(tf.zeros_like(zeros))\n",
    "\n",
    "ones = tf.ones([3, 3])\n",
    "show(tf.ones_like(ones))"
   ]
  },
  {
   "cell_type": "markdown",
   "metadata": {},
   "source": [
    "### 3.序列类常量"
   ]
  },
  {
   "cell_type": "code",
   "execution_count": 189,
   "metadata": {},
   "outputs": [
    {
     "name": "stdout",
     "output_type": "stream",
     "text": [
      "------------\n",
      "Tensor(\"Print_80:0\", shape=(11,), dtype=float32)\n",
      "[0.         0.1        0.2        0.3        0.4        0.5\n",
      " 0.6        0.7        0.8        0.90000004 1.        ]\n",
      "------------\n",
      "Tensor(\"Print_81:0\", shape=(10,), dtype=float32)\n",
      "[0.         0.1        0.2        0.3        0.4        0.5\n",
      " 0.6        0.70000005 0.8000001  0.9000001 ]\n"
     ]
    }
   ],
   "source": [
    "#使用样本个数，常用\n",
    "linear_tsr = tf.linspace(start=0.0, stop=1, num=11)\n",
    "show(linear_tsr)\n",
    "\n",
    "#等价于linspace，但使用步长，有时不方便 \n",
    "range_tsr = tf.range(0, 1, 0.1)\n",
    "show(range_tsr)"
   ]
  },
  {
   "cell_type": "markdown",
   "metadata": {},
   "source": [
    "### 4.随机类常量"
   ]
  },
  {
   "cell_type": "code",
   "execution_count": 193,
   "metadata": {},
   "outputs": [
    {
     "name": "stdout",
     "output_type": "stream",
     "text": [
      "------------\n",
      "Tensor(\"Print_82:0\", shape=(2, 3), dtype=float32)\n",
      "[[8.281622  1.3080239 7.36483  ]\n",
      " [1.1540735 3.909098  5.1322756]]\n",
      "------------\n",
      "Tensor(\"Print_83:0\", shape=(2, 3), dtype=float32)\n",
      "[[-0.11423887 -0.04876159 -0.0490853 ]\n",
      " [ 0.12505543  0.03645957 -0.02149018]]\n",
      "------------\n",
      "Tensor(\"Print_84:0\", shape=(2, 3), dtype=float32)\n",
      "[[ 0.05192407 -0.0404477   0.02894362]\n",
      " [ 0.00758826 -0.0449824   0.05653958]]\n",
      "------------\n",
      "Tensor(\"Print_85:0\", shape=(9,), dtype=int32)\n",
      "[1 2 3 4 5 6 7 8 9]\n",
      "------------\n",
      "Tensor(\"Print_86:0\", shape=(9,), dtype=int32)\n",
      "[7 3 1 5 2 6 8 4 9]\n",
      "------------\n",
      "Tensor(\"Print_87:0\", shape=(3, 4), dtype=float32)\n",
      "[[84.8997    87.771454  62.022972  73.2254   ]\n",
      " [56.019447  93.32345   13.54661   26.176857 ]\n",
      " [31.59089    3.191197  62.688232   4.7851205]]\n",
      "------------\n",
      "Tensor(\"Print_88:0\", shape=(2, 2), dtype=float32)\n",
      "[[40.569614 36.05387 ]\n",
      " [22.989845 38.497223]]\n"
     ]
    }
   ],
   "source": [
    "rand_unif_tsr = tf.random_uniform([2,3], 0, 10) #[0,10)的均匀分布\n",
    "show(rand_unif_tsr)\n",
    "\n",
    "randnorm = tf.random_normal([2,3], 0, 0.1) #均值0，标准差 0.1\n",
    "show(randnorm)\n",
    "\n",
    "trunc_norm = tf.truncated_normal([2,3], 0, 0.1) #同上，但2个标准差之外的截掉\n",
    "show(trunc_norm)\n",
    "\n",
    "value = tf.range(1,10)\n",
    "show(value)\n",
    "\n",
    "shuffle_output = tf.random_shuffle(value) #洗牌\n",
    "show(shuffle_output)\n",
    "\n",
    "rand_int_tsr = tf.random_uniform([3,4], 0, 100)\n",
    "cropped_output = tf.random_crop(rand_int_tsr, [2,2])\n",
    "show(rand_int_tsr)  #在3*4的矩阵上，随机取一个 2*2的子矩阵，常用于彩色图片 （高，宽，3颜色通道）\n",
    "show(cropped_output)"
   ]
  },
  {
   "cell_type": "markdown",
   "metadata": {},
   "source": [
    "### 创建变量tensor"
   ]
  },
  {
   "cell_type": "code",
   "execution_count": 202,
   "metadata": {},
   "outputs": [
    {
     "name": "stdout",
     "output_type": "stream",
     "text": [
      "------------\n",
      "Tensor(\"Print_108:0\", shape=(2, 2), dtype=float32)\n",
      "[[77.92115  79.89994 ]\n",
      " [25.708044 71.838905]]\n",
      "------------\n",
      "Tensor(\"Print_109:0\", shape=(3,), dtype=float32)\n",
      "[7. 8. 9.]\n",
      "------------\n",
      "Tensor(\"Print_110:0\", shape=(2,), dtype=int32)\n",
      "[1 2]\n",
      "------------\n",
      "Tensor(\"Print_111:0\", shape=(4,), dtype=int32)\n",
      "[4 5 6 7]\n",
      "------------\n",
      "Tensor(\"Print_112:0\", shape=(3,), dtype=int32)\n",
      "[1 2 3]\n"
     ]
    }
   ],
   "source": [
    "cropped_output_var = tf.Variable(cropped_output)\n",
    "show(cropped_output_var)\n",
    "\n",
    "\n",
    "cropped_output_var2 = tf.Variable(tf.lin_space(7.0, 9, 3))\n",
    "\n",
    "show(cropped_output_var2)\n",
    "\n",
    "\n",
    "var1 = tf.Variable(tf.range(1,3))\n",
    "var2 = tf.Variable(tf.range(4,8))\n",
    "show(var1)\n",
    "show(var2)\n",
    "\n",
    "\n",
    "#转任意数组或常量到tensor\n",
    "a = [1, 2, 3]\n",
    "show(tf.convert_to_tensor(a))"
   ]
  }
 ],
 "metadata": {
  "kernelspec": {
   "display_name": "Python 3",
   "language": "python",
   "name": "python3"
  },
  "language_info": {
   "codemirror_mode": {
    "name": "ipython",
    "version": 3
   },
   "file_extension": ".py",
   "mimetype": "text/x-python",
   "name": "python",
   "nbconvert_exporter": "python",
   "pygments_lexer": "ipython3",
   "version": "3.6.5"
  }
 },
 "nbformat": 4,
 "nbformat_minor": 2
}
