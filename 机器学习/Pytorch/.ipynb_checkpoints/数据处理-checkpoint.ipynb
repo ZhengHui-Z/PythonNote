{
 "cells": [
  {
   "cell_type": "code",
   "execution_count": 13,
   "metadata": {},
   "outputs": [
    {
     "data": {
      "text/plain": [
       "<torch._C.Generator at 0x7f2f9403d590>"
      ]
     },
     "execution_count": 13,
     "metadata": {},
     "output_type": "execute_result"
    }
   ],
   "source": [
    "import cv2\n",
    "\n",
    "torch.manual_seed(1) "
   ]
  },
  {
   "cell_type": "markdown",
   "metadata": {},
   "source": [
    "## 生成batch数据\n",
    "现在有了由数据文件生成的结构数据MyDataset，那么怎么在训练时提供batch数据呢？PyTorch提供了生成batch数据的类。\n",
    "\n",
    "PyTorch用类torch.utils.data.DataLoader加载数据，并对数据进行采样，生成batch迭代器。\n",
    "\n",
    "```\n",
    "class torch.utils.data.DataLoader(\n",
    "    dataset,\n",
    "    batch_size=1,\n",
    "    shuffle=False,\n",
    "    sampler=None,\n",
    "    num_workers=0,\n",
    "    collate_fn=<function default_collate>,\n",
    "    pin_memory=False,\n",
    "    drop_last=False\n",
    ")\n",
    "\n",
    "```\n",
    "参数： \n",
    "- dataset：Dataset类型，从其中加载数据 \n",
    "- batch_size：int，可选。每个batch加载多少样本 \n",
    "- shuffle：bool，可选。为True时表示每个epoch都对数据进行洗牌 \n",
    "- sampler：Sampler，可选。从数据集中采样样本的方法。 \n",
    "- num_workers：int，可选。加载数据时使用多少子进程。默认值为0，表示在主进程中加载数据。 \n",
    "- collate_fn：callable，可选。 \n",
    "- pin_memory：bool，可选 \n",
    "- drop_last：bool，可选。True表示如果最后剩下不完全的batch,丢弃。False表示不丢弃。\n",
    "\n",
    "# numpy 转为 pytorch格式\n",
    "\n",
    "> torch_data = torch.from_numpy(np_data)\n",
    "\n",
    "# torch 转为numpy\n",
    "> tensor2array = torch_data.numpy()"
   ]
  },
  {
   "cell_type": "code",
   "execution_count": 70,
   "metadata": {
    "scrolled": true
   },
   "outputs": [
    {
     "name": "stdout",
     "output_type": "stream",
     "text": [
      "/home/albert/PythonNote/Pytorch/img/3.jpg\n",
      "/home/albert/PythonNote/Pytorch/img/2.jpg\n",
      "/home/albert/PythonNote/Pytorch/img/5.jpg\n",
      "/home/albert/PythonNote/Pytorch/img/1.jpg\n",
      "test isdir\n",
      "/home/albert/PythonNote/Pytorch/img/4.jpg\n",
      "(5, 1, 5)\n"
     ]
    }
   ],
   "source": [
    "# 样例\n",
    "# 图片转数据\n",
    "import torch\n",
    "import torch.utils.data as Data\n",
    "import os\n",
    "import numpy as np\n",
    "path = \"/home/albert/PythonNote/Pytorch/img/\"\n",
    "list = os.listdir(path)\n",
    "a = []\n",
    "for li in list:\n",
    "    tem = path+li\n",
    "    if os.path.isdir(tem):\n",
    "        print(li,\"isdir\")\n",
    "    else:\n",
    "        print(tem)\n",
    "        img = cv2.imread(tem,0)\n",
    "        a.append(img.tolist())\n",
    "\n",
    "train_data  = torch.from_numpy(np.array(a))\n",
    "\n",
    "lable = np.array([[1,2,3,4,5],\n",
    "                  [2,2,3,4,5],\n",
    "                  [3,2,3,4,5],\n",
    "                  [4,2,3,4,5],\n",
    "                  [5,2,3,4,5],\n",
    "                 ]).reshape(5,1,5)\n",
    "print(lable.shape)\n",
    "train_lable = torch.from_numpy(lable)\n",
    "\n",
    "\n",
    "torch_dataset = Data.TensorDataset(data_tensor=train_data,target_tensor=train_lable)\n",
    "torch_dataset[4]\n",
    "\n",
    "# 把 dataset 放入 DataLoader\n",
    "loader = Data.DataLoader(\n",
    "    dataset=torch_dataset,      # torch TensorDataset format\n",
    "    batch_size=1,               # mini batch size\n",
    "    shuffle=True,               # 要不要打乱数据 (打乱比较好)\n",
    "    num_workers=2,              # 多线程来读数据\n",
    ")\n",
    "\n"
   ]
  },
  {
   "cell_type": "code",
   "execution_count": 71,
   "metadata": {},
   "outputs": [
    {
     "name": "stdout",
     "output_type": "stream",
     "text": [
      "0 ---------------\n",
      "\n",
      "( 0 ,.,.) = \n",
      "  227  202  236  ...   198  197  197\n",
      "  225  227  215  ...   198  197  197\n",
      "  223  228  218  ...   198  197  197\n",
      "      ...         ⋱        ...      \n",
      "  222  222  222  ...   199  199  198\n",
      "  222  222  222  ...   199  199  198\n",
      "  222  222  222  ...   199  199  198\n",
      "[torch.LongTensor of size 1x32x280]\n",
      " \n",
      "(0 ,.,.) = \n",
      "  3  2  3  4  5\n",
      "[torch.LongTensor of size 1x1x5]\n",
      "\n",
      "1 ---------------\n",
      "\n",
      "( 0 ,.,.) = \n",
      "  167  166  165  ...   175  177  178\n",
      "  169  168  167  ...   175  176  177\n",
      "  172  171  169  ...   175  176  176\n",
      "      ...         ⋱        ...      \n",
      "  168  170  178  ...   173  173  173\n",
      "  170  171  169  ...   173  173  173\n",
      "  176  173  168  ...   173  173  173\n",
      "[torch.LongTensor of size 1x32x280]\n",
      " \n",
      "(0 ,.,.) = \n",
      "  5  2  3  4  5\n",
      "[torch.LongTensor of size 1x1x5]\n",
      "\n",
      "2 ---------------\n",
      "\n",
      "( 0 ,.,.) = \n",
      "  143  143  143  ...   144  144  144\n",
      "  143  143  143  ...   144  144  144\n",
      "  143  143  143  ...   144  144  144\n",
      "      ...         ⋱        ...      \n",
      "  136  139  123  ...   141  141  142\n",
      "  137  144  132  ...   141  142  142\n",
      "  138  144  132  ...   142  142  142\n",
      "[torch.LongTensor of size 1x32x280]\n",
      " \n",
      "(0 ,.,.) = \n",
      "  1  2  3  4  5\n",
      "[torch.LongTensor of size 1x1x5]\n",
      "\n",
      "3 ---------------\n",
      "\n",
      "( 0 ,.,.) = \n",
      "  204  205  205  ...   204  204  204\n",
      "  204  205  205  ...   205  204  204\n",
      "  204  204  205  ...   205  205  204\n",
      "      ...         ⋱        ...      \n",
      "  205  205  205  ...   210  210  210\n",
      "  205  205  205  ...   210  210  210\n",
      "  205  205  205  ...   210  210  210\n",
      "[torch.LongTensor of size 1x32x280]\n",
      " \n",
      "(0 ,.,.) = \n",
      "  4  2  3  4  5\n",
      "[torch.LongTensor of size 1x1x5]\n",
      "\n",
      "4 ---------------\n",
      "\n",
      "( 0 ,.,.) = \n",
      "  145  145  143  ...   136  136  136\n",
      "  141  141  141  ...   135  135  135\n",
      "  142  142  142  ...   135  135  135\n",
      "      ...         ⋱        ...      \n",
      "  142  141  140  ...   140  140  140\n",
      "  142  141  140  ...   140  140  140\n",
      "  143  142  141  ...   140  140  140\n",
      "[torch.LongTensor of size 1x32x280]\n",
      " \n",
      "(0 ,.,.) = \n",
      "  2  2  3  4  5\n",
      "[torch.LongTensor of size 1x1x5]\n",
      "\n"
     ]
    }
   ],
   "source": [
    "for step, (batch_x, batch_y) in enumerate(loader):\n",
    "    print(step,\"---------------\")\n",
    "    print(batch_x, batch_y)"
   ]
  }
 ],
 "metadata": {
  "kernelspec": {
   "display_name": "Python 3",
   "language": "python",
   "name": "python3"
  },
  "language_info": {
   "codemirror_mode": {
    "name": "ipython",
    "version": 3
   },
   "file_extension": ".py",
   "mimetype": "text/x-python",
   "name": "python",
   "nbconvert_exporter": "python",
   "pygments_lexer": "ipython3",
   "version": "3.6.4"
  }
 },
 "nbformat": 4,
 "nbformat_minor": 2
}
