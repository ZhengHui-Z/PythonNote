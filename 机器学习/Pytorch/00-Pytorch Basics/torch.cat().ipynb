{
 "cells": [
  {
   "cell_type": "markdown",
   "metadata": {},
   "source": [
    " PyTorch的concat也就是torch.cat\n",
    " 矩阵拼接功能\n",
    " cat(seq, dim=0, out=None) -> Tensor\n",
    "Args:\n",
    "        seq (sequence of tensors): any python sequence of tensors of the same type.\n",
    "            Non-empty tensors provided must have the same shape, except in the\n",
    "            cat dimension.\n",
    "        dim (int, optional): the dimension over which the tensors are concatenated\n",
    "        out (Tensor, optional): the output tensor\n",
    "Example::\n",
    "    \n",
    "        >>> x = torch.randn(2, 3)\n",
    "        >>> x\n",
    "    \n",
    "         0.5983 -0.0341  2.4918\n",
    "         1.5981 -0.5265 -0.8735\n",
    "        [torch.FloatTensor of size 2x3]\n",
    "    \n",
    "        >>> torch.cat((x, x, x), 0)\n",
    "    \n",
    "         0.5983 -0.0341  2.4918\n",
    "         1.5981 -0.5265 -0.8735\n",
    "         0.5983 -0.0341  2.4918\n",
    "         1.5981 -0.5265 -0.8735\n",
    "         0.5983 -0.0341  2.4918\n",
    "         1.5981 -0.5265 -0.8735\n",
    "        [torch.FloatTensor of size 6x3]\n",
    " \n",
    " 实例"
   ]
  },
  {
   "cell_type": "code",
   "execution_count": 1,
   "metadata": {},
   "outputs": [],
   "source": [
    "import torch\n",
    "a = torch.ones([1,2])\n",
    "b = torch.ones([1,2])"
   ]
  },
  {
   "cell_type": "code",
   "execution_count": 2,
   "metadata": {},
   "outputs": [
    {
     "data": {
      "text/plain": [
       "\n",
       " 1  1\n",
       "[torch.FloatTensor of size 1x2]"
      ]
     },
     "execution_count": 2,
     "metadata": {},
     "output_type": "execute_result"
    }
   ],
   "source": [
    "a"
   ]
  },
  {
   "cell_type": "code",
   "execution_count": 3,
   "metadata": {},
   "outputs": [
    {
     "data": {
      "text/plain": [
       "\n",
       " 1  1\n",
       "[torch.FloatTensor of size 1x2]"
      ]
     },
     "execution_count": 3,
     "metadata": {},
     "output_type": "execute_result"
    }
   ],
   "source": [
    "b"
   ]
  },
  {
   "cell_type": "code",
   "execution_count": 4,
   "metadata": {},
   "outputs": [
    {
     "data": {
      "text/plain": [
       "\n",
       " 1  1  1  1\n",
       "[torch.FloatTensor of size 1x4]"
      ]
     },
     "execution_count": 4,
     "metadata": {},
     "output_type": "execute_result"
    }
   ],
   "source": [
    "torch.cat([a,b],1)"
   ]
  },
  {
   "cell_type": "code",
   "execution_count": 5,
   "metadata": {},
   "outputs": [
    {
     "data": {
      "text/plain": [
       "\n",
       " 1  1\n",
       " 1  1\n",
       "[torch.FloatTensor of size 2x2]"
      ]
     },
     "execution_count": 5,
     "metadata": {},
     "output_type": "execute_result"
    }
   ],
   "source": [
    "torch.cat([a,b],0)"
   ]
  }
 ],
 "metadata": {
  "kernelspec": {
   "display_name": "Python 3",
   "language": "python",
   "name": "python3"
  },
  "language_info": {
   "codemirror_mode": {
    "name": "ipython",
    "version": 3
   },
   "file_extension": ".py",
   "mimetype": "text/x-python",
   "name": "python",
   "nbconvert_exporter": "python",
   "pygments_lexer": "ipython3",
   "version": "3.6.4"
  }
 },
 "nbformat": 4,
 "nbformat_minor": 2
}
