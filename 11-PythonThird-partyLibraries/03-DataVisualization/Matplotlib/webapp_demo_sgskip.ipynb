{
 "cells": [
  {
   "cell_type": "code",
   "execution_count": 1,
   "metadata": {},
   "outputs": [],
   "source": [
    "%matplotlib inline"
   ]
  },
  {
   "cell_type": "markdown",
   "metadata": {},
   "source": [
    "\n",
    "# Webapp Demo\n",
    "\n",
    "\n",
    "This example shows how to use the agg backend directly to create\n",
    "images, which may be of use to web application developers who want\n",
    "full control over their code without using the pyplot interface to\n",
    "manage figures, figure closing etc.\n",
    "\n",
    "<div class=\"alert alert-info\"><h4>Note</h4><p>It is not necessary to avoid using the pyplot interface in order to\n",
    "    create figures without a graphical front-end - simply setting\n",
    "    the backend to \"Agg\" would be sufficient.</p></div>\n",
    "\n",
    "It is also worth noting that, because matplotlib can save figures to file-like\n",
    "object, matplotlib can also be used inside a cgi-script *without* needing to\n",
    "write a figure to disk.\n",
    "\n",
    "\n"
   ]
  },
  {
   "cell_type": "code",
   "execution_count": 2,
   "metadata": {},
   "outputs": [],
   "source": [
    "from matplotlib.backends.backend_agg import FigureCanvasAgg\n",
    "from matplotlib.figure import Figure\n",
    "import numpy as np\n",
    "\n",
    "# Fixing random state for reproducibility\n",
    "np.random.seed(19680801)\n",
    "\n",
    "\n",
    "def make_fig():\n",
    "    \"\"\"\n",
    "    Make a figure and save it to \"webagg.png\".\n",
    "\n",
    "    \"\"\"\n",
    "    fig = Figure()\n",
    "    ax = fig.add_subplot(1, 1, 1)\n",
    "\n",
    "    ax.plot([1, 2, 3], 'ro--', markersize=12, markerfacecolor='g')\n",
    "\n",
    "    # make a translucent scatter collection\n",
    "    x = np.random.rand(100)\n",
    "    y = np.random.rand(100)\n",
    "    area = np.pi * (10 * np.random.rand(100)) ** 2  # 0 to 10 point radii\n",
    "    c = ax.scatter(x, y, area)\n",
    "    c.set_alpha(0.5)\n",
    "\n",
    "    # add some text decoration\n",
    "    ax.set_title('My first image')\n",
    "    ax.set_ylabel('Some numbers')\n",
    "    ax.set_xticks((.2, .4, .6, .8))\n",
    "    labels = ax.set_xticklabels(('Bill', 'Fred', 'Ted', 'Ed'))\n",
    "\n",
    "    # To set object properties, you can either iterate over the\n",
    "    # objects manually, or define you own set command, as in setapi\n",
    "    # above.\n",
    "    for label in labels:\n",
    "        label.set_rotation(45)\n",
    "        label.set_fontsize(12)\n",
    "\n",
    "    FigureCanvasAgg(fig).print_png('webapp.png', dpi=150)\n",
    "\n",
    "\n",
    "make_fig()"
   ]
  }
 ],
 "metadata": {
  "kernelspec": {
   "display_name": "Python 3",
   "language": "python",
   "name": "python3"
  },
  "language_info": {
   "codemirror_mode": {
    "name": "ipython",
    "version": 3
   },
   "file_extension": ".py",
   "mimetype": "text/x-python",
   "name": "python",
   "nbconvert_exporter": "python",
   "pygments_lexer": "ipython3",
   "version": "3.7.0"
  }
 },
 "nbformat": 4,
 "nbformat_minor": 1
}
