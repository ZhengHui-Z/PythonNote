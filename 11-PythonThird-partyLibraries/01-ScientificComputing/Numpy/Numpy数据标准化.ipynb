{
 "cells": [
  {
   "cell_type": "markdown",
   "metadata": {},
   "source": [
    "# numpy.std() 计算矩阵标准差"
   ]
  },
  {
   "cell_type": "code",
   "execution_count": 1,
   "metadata": {},
   "outputs": [],
   "source": [
    "import numpy as np\n",
    "a = np.array([[1, 2], [3, 4]])"
   ]
  },
  {
   "cell_type": "code",
   "execution_count": 4,
   "metadata": {},
   "outputs": [
    {
     "name": "stdout",
     "output_type": "stream",
     "text": [
      "计算全局标准差:  1.118033988749895\n",
      "axis=0计算每一列的标准差:  [1. 1.]\n",
      "计算每一行的标准差:  [0.5 0.5]\n"
     ]
    }
   ],
   "source": [
    "# 计算全局标准差\n",
    "print(\"计算全局标准差: \", np.std(a))\n",
    "\n",
    "\n",
    "# axis=0计算每一列的标准差\n",
    "print(\"axis=0计算每一列的标准差: \", np.std(a, axis=0))\n",
    "\n",
    "# 计算每一行的标准差\n",
    "print(\"计算每一行的标准差: \", np.std(a, axis=1))"
   ]
  },
  {
   "cell_type": "markdown",
   "metadata": {},
   "source": [
    "# 利用广播机制标准化Numpy矩阵"
   ]
  },
  {
   "cell_type": "code",
   "execution_count": 5,
   "metadata": {},
   "outputs": [],
   "source": [
    "a = np.array([[1, 2], [3, 4]])"
   ]
  },
  {
   "cell_type": "code",
   "execution_count": 11,
   "metadata": {},
   "outputs": [
    {
     "data": {
      "text/plain": [
       "(array([[-1.34164079, -0.4472136 ],\n",
       "        [ 0.4472136 ,  1.34164079]]), (2, 2))"
      ]
     },
     "execution_count": 11,
     "metadata": {},
     "output_type": "execute_result"
    }
   ],
   "source": [
    "b = (a - a.mean())/a.std()\n",
    "b, b.shape"
   ]
  },
  {
   "cell_type": "code",
   "execution_count": 12,
   "metadata": {},
   "outputs": [
    {
     "data": {
      "text/plain": [
       "(array([[0.        , 0.33333333],\n",
       "        [0.66666667, 1.        ]]), (2, 2))"
      ]
     },
     "execution_count": 12,
     "metadata": {},
     "output_type": "execute_result"
    }
   ],
   "source": [
    "b = (a - a.min())/(a.max() - a.min())\n",
    "b, b.shape"
   ]
  }
 ],
 "metadata": {
  "kernelspec": {
   "display_name": "Python 3",
   "language": "python",
   "name": "python3"
  },
  "language_info": {
   "codemirror_mode": {
    "name": "ipython",
    "version": 3
   },
   "file_extension": ".py",
   "mimetype": "text/x-python",
   "name": "python",
   "nbconvert_exporter": "python",
   "pygments_lexer": "ipython3",
   "version": "3.7.0"
  }
 },
 "nbformat": 4,
 "nbformat_minor": 2
}
