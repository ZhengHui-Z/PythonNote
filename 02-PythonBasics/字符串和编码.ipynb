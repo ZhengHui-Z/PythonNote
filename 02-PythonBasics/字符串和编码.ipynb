{
 "cells": [
  {
   "cell_type": "markdown",
   "metadata": {},
   "source": [
    "# 一、字符串"
   ]
  },
  {
   "cell_type": "markdown",
   "metadata": {},
   "source": [
    "### 字符串赋值\n",
    "\n",
    "> 字符串变量赋值时字符串可用单或双引号"
   ]
  },
  {
   "cell_type": "code",
   "execution_count": 1,
   "metadata": {},
   "outputs": [
    {
     "name": "stdout",
     "output_type": "stream",
     "text": [
      "##########################\n",
      "Hello World!\n",
      "##########################\n",
      "Hello World!\n",
      "##########################\n",
      "\n",
      "Hello\n",
      "World!\n",
      "\n",
      "##########################\n",
      "Hello World!\n"
     ]
    }
   ],
   "source": [
    "# 双引号赋值\n",
    "string = \"Hello World!\"\n",
    "print(\"##########################\")\n",
    "print(string)\n",
    "\n",
    "# 单引号赋值\n",
    "string1 = 'Hello World!'\n",
    "print(\"##########################\")\n",
    "print(string1)\n",
    "\n",
    "# 三引号赋值（换行赋值）\n",
    "string2 = \"\"\"\n",
    "Hello\n",
    "World!\n",
    "\"\"\"\n",
    "print(\"##########################\")\n",
    "print(string2)\n",
    "\n",
    "# 列表赋值\n",
    "string3 = ['H', 'e', 'l', 'l', 'o', \" \", 'W', 'o', 'r', 'l', 'd', '!']\n",
    "print(\"##########################\")\n",
    "string3 = \"\".join(string3)\n",
    "print(string3)"
   ]
  },
  {
   "cell_type": "markdown",
   "metadata": {},
   "source": [
    "### 字符串索引\n",
    "\n",
    "![](./img/o99aU.png)"
   ]
  },
  {
   "cell_type": "code",
   "execution_count": 2,
   "metadata": {},
   "outputs": [
    {
     "name": "stdout",
     "output_type": "stream",
     "text": [
      "a\n",
      "b\n",
      "c\n",
      "d\n",
      "e\n",
      "f\n",
      "g\n",
      "h\n",
      "##########################\n",
      "cdefg\n",
      "##########################\n",
      "h\n",
      "##########################\n",
      "defg\n"
     ]
    }
   ],
   "source": [
    "string = \"abcdefgh\"\n",
    "\n",
    "for s in string:\n",
    "    print(s)\n",
    "\n",
    "print(\"##########################\")\n",
    "print(string[2:7])\n",
    "print(\"##########################\")\n",
    "print(string[-1])\n",
    "print(\"##########################\")\n",
    "print(string[-5:-1])"
   ]
  },
  {
   "cell_type": "markdown",
   "metadata": {},
   "source": [
    "### 字符串中的 (+) 号(*) 号"
   ]
  },
  {
   "cell_type": "code",
   "execution_count": 45,
   "metadata": {},
   "outputs": [
    {
     "name": "stdout",
     "output_type": "stream",
     "text": [
      "aaa\n",
      "ahello string\n"
     ]
    }
   ],
   "source": [
    "a = 'a'\n",
    "\n",
    "print(a*3) # 重复字符串\n",
    "print(a + 'hello string') #凭借字符串，同join方法相似"
   ]
  },
  {
   "cell_type": "markdown",
   "metadata": {},
   "source": [
    "### 字符串的replace函数"
   ]
  },
  {
   "cell_type": "code",
   "execution_count": 49,
   "metadata": {},
   "outputs": [
    {
     "name": "stdout",
     "output_type": "stream",
     "text": [
      "abcbaua\n",
      "AbcbAuA\n"
     ]
    }
   ],
   "source": [
    "a = \"abcbaua\"\n",
    "print(a)\n",
    "print(a.replace('a','A')) # 查找全部a并替换为A"
   ]
  },
  {
   "cell_type": "markdown",
   "metadata": {},
   "source": [
    "### 格式化字符串的函数str.format()"
   ]
  },
  {
   "cell_type": "code",
   "execution_count": 50,
   "metadata": {},
   "outputs": [
    {
     "name": "stdout",
     "output_type": "stream",
     "text": [
      "可以23333在指定66666位置插入变量string\n"
     ]
    }
   ],
   "source": [
    "print(\"可以{0}在指定{1}位置插入变量{2}\".format(23333, 66666, \"string\"))"
   ]
  },
  {
   "cell_type": "markdown",
   "metadata": {},
   "source": [
    "### 大小写转换"
   ]
  },
  {
   "cell_type": "code",
   "execution_count": 51,
   "metadata": {},
   "outputs": [
    {
     "name": "stdout",
     "output_type": "stream",
     "text": [
      "ab xy\n",
      "AB XY\n"
     ]
    }
   ],
   "source": [
    "print('ab XY'.lower())\n",
    "print('ab XY'.upper())"
   ]
  },
  {
   "cell_type": "markdown",
   "metadata": {},
   "source": [
    "### isXXX判断\n",
    "\n",
    "```\n",
    "对于非Unicode字符串，前3个方法是等价的。\n",
    "str.isdecimal() 判断是否是十进制\n",
    "str.isdigit()  判断是否是数字\n",
    "str.isnumeric()判断是否是数字\n",
    "\n",
    "str.isalpha() 判断是否全是字母\n",
    "str.isalnum()判断是否是字母或数字\n",
    "\n",
    "str.islower() 判断是否全部小写\n",
    "str.isupper() 判断是否全部大写\n",
    "str.istitle() 判断是否首字母大写\n",
    "```"
   ]
  },
  {
   "cell_type": "code",
   "execution_count": 88,
   "metadata": {},
   "outputs": [
    {
     "name": "stdout",
     "output_type": "stream",
     "text": [
      "'33'.isdecimal():  True\n",
      "'34'.isdigit():  True\n",
      "'abc'.isalpha():  True\n",
      "'ab2'.isalpha():  False\n",
      "'a34'.isalnum():  True\n",
      "'a34'.islower():  True\n",
      "'AB'.isupper():  True\n",
      "'Aa'.isupper():  False\n",
      "'Aa Bc'.istitle():  True\n"
     ]
    }
   ],
   "source": [
    "print(\"'33'.isdecimal(): \", '33'.isdecimal())\n",
    "\n",
    "print(\"'34'.isdigit(): \", '34'.isdigit())\n",
    "\n",
    "print(\"'abc'.isalpha(): \",'abc'.isalpha())\n",
    "print(\"'ab2'.isalpha(): \", 'ab2'.isalpha())\n",
    "\n",
    "print(\"'a34'.isalnum(): \",'a34'.isalnum())\n",
    "\n",
    "print(\"'a34'.islower(): \",'a34'.islower())\n",
    "\n",
    "print(\"'AB'.isupper(): \", 'AB'.isupper())\n",
    "\n",
    "print(\"'Aa'.isupper(): \",'Aa'.isupper())\n",
    "\n",
    "print(\"'Aa Bc'.istitle(): \",'Aa Bc'.istitle())"
   ]
  },
  {
   "cell_type": "markdown",
   "metadata": {},
   "source": [
    "### 分割字符串 str.split()"
   ]
  },
  {
   "cell_type": "code",
   "execution_count": 92,
   "metadata": {},
   "outputs": [
    {
     "name": "stdout",
     "output_type": "stream",
     "text": [
      "['hdk', 'asf', 'al', 'dk', 'fj']\n"
     ]
    }
   ],
   "source": [
    "S = \"hdk asf al dk fj\"\n",
    "\n",
    "print(S.split(\" \")) # 根据空格切割\n"
   ]
  },
  {
   "cell_type": "code",
   "execution_count": 94,
   "metadata": {},
   "outputs": [
    {
     "data": {
      "text/plain": [
       "['www', 'doiido', 'com']"
      ]
     },
     "execution_count": 94,
     "metadata": {},
     "output_type": "execute_result"
    }
   ],
   "source": [
    "# 一个很好的例子\n",
    "str=\"hello boy<[www.doiido.com]>byebye\"\n",
    "str.split(\"[\")[1].split(\"]\")[0]\n",
    "'www.doiido.com'\n",
    "str.split(\"[\")[1].split(\"]\")[0].split(\".\")\n",
    "['www', 'doiido', 'com']"
   ]
  },
  {
   "cell_type": "markdown",
   "metadata": {},
   "source": [
    "### 字符串在输出时的对齐"
   ]
  },
  {
   "cell_type": "code",
   "execution_count": 87,
   "metadata": {},
   "outputs": [
    {
     "name": "stdout",
     "output_type": "stream",
     "text": [
      "dsafds fads###################\n",
      "###################dsafds fads\n",
      "#########dsafds fads##########\n",
      "0000000000000000000dsafds fads\n"
     ]
    }
   ],
   "source": [
    "S = \"dsafds fads\"\n",
    "width = 30\n",
    "fillchar = '#'\n",
    "print(S.ljust(width, fillchar))\n",
    "#输出width个字符，S左对齐，不足部分用fillchar填充，默认的为空格。 \n",
    "print(S.rjust(width, fillchar)) #右对齐 \n",
    "print(S.center(width, fillchar)) #中间对齐 \n",
    "print(S.zfill(width)) #把S变成width长，并在右对齐，不足部分用0补足"
   ]
  },
  {
   "cell_type": "markdown",
   "metadata": {},
   "source": [
    "# 二、Python 编码\n",
    "\n",
    "## 2.1、编码类型\n",
    "\n",
    "1、ascci码\n",
    "\n",
    "ascci码由美国人发明，用1个字节（byte）存储英文和字符，前期用了128个，后来新加了其他欧洲国家的符号，128~255这一段。\n",
    "256个字符，基本上就是键盘上的所有字符。\n",
    "\n",
    "2、unicode\n",
    "\n",
    "2个byte，65535。因为后来发现还有其他国家的语言，而256个字符太少。\n",
    "\n",
    "3、utf-8\n",
    "\n",
    "UTF-8是Unicode的实现方式之一。\n",
    "UTF-8最大的一个特点，就是它是一种变长的编码方式。它可以使用1~4个字节表示一个符号，根据不同的符号而变化字节长度。\n",
    "UTF-8的编码规则很简单，只有二条：\n",
    "\n",
    "- 对于单字节的符号，字节的第一位设为0，后面7位为这个符号的unicode码。因此对于英语字母，UTF-8编码和ASCII码是相同的。\n",
    "- 对于n字节的符号（n>1），第一个字节的前n位都设为1，第n+1位设为0，后面字节的前两位一律设为10。剩下的没有提及的二进制位，全部为这个符号的unicode码。\n",
    "\n",
    "下表总结了编码规则，字母x表示可用编码的位。\n",
    "\n",
    "\n",
    "|Unicode符号范围         |       UTF-8编码方式|\n",
    "|--|--|\n",
    "|(十六进制)              |       （二进制）|\n",
    "|0000 0000-0000 007F | 0xxxxxxx|\n",
    "|0000 0080-0000 07FF | 110xxxxx 10xxxxxx|\n",
    "|0000 0800-0000 FFFF | 1110xxxx 10xxxxxx 10xxxxxx|\n",
    "|0001 0000-0010 FFFF | 11110xxx 10xxxxxx 10xxxxxx 10xxxxxx|\n",
    "\n",
    "如果一个字节的第一位是0，则这个字节单独就是一个字符；如果第一位是1，则连续有多少个1，就表示当前字符占用多少个字节。\n",
    "- 比如\"严\"的unicode是4E25（100111000100101），4E25处在第三行的范围内（0000 0800-0000 FFFF），因此\"严\"的UTF-8编码需要三个字节，即格式是\"1110xxxx 10xxxxxx 10xxxxxx\"。然后，从\"严\"的最后一个二进制位开始，依次从后向前填入格式中的x，高位补0，得到\"严\"的UTF-8编码是\"11100100 10111000 10100101\"。\n",
    "\n",
    "4、GBK\n",
    "\n",
    "GBK全称《汉字内码扩展规范》（GBK即“国标）就是国家制定的标准。\n",
    "\n",
    "其实GBK在就是将每个汉字对应一个数字编码，http://www.mytju.com/classCode/tools/encode_gb2312.asp 这个网址可以查看到具体的编码对应关系：\n",
    "\n",
    "比如：中国  二字，对应的各种编码如下。\n",
    "\n",
    "![GBK编码](./img/gbk.png)"
   ]
  },
  {
   "cell_type": "markdown",
   "metadata": {},
   "source": [
    "## python中的解码和编码\n",
    "在python中，编码解码其实是不同编码系统间的转换，默认情况下，转换目标是Unicode，即编码unicode→str，解码str→unicode，其中str指的是字节流而str.decode是将字节流str按给定的解码方式解码，并转换成utf-8形式，u.encode是将unicode类按给定的编码方式转换成字节流str\n",
    "> 注意调用encode方法的是unicode对象生成的是字节流，调用decode方法的是str对象（字节流）生成的是unicode对象，若str对象调用encode会默认先按系统默认编码方式decode成unicode对象再encode，忽视了中间默认的decode往往导致报错,自己写代码时只需记住str字节流调用decode，unicode对象调用\n"
   ]
  },
  {
   "cell_type": "markdown",
   "metadata": {},
   "source": [
    "## 2.2为什么要转码\n",
    "\n",
    "在python程序运行过程中，如果遇到编码不一致（就好像中国人和美国人在一起，如果语言不通的话，就无法沟通。），就需要进行转码。相当于需要有一个翻译。\n",
    "\n",
    "在运行Python程序的过程中，会涉及到三个方面的编码：\n",
    "- Python程序文件本身的编码(test.py文件的编码）--自身文件（注意：python2默认编码为ascii，如果我们写的代码里面有非ascii字符，比如中文字符，py程序就会不认识。python3中默认编码规范为UTF-8，所以不会出现中文乱码的情况）\n",
    "- Python程序运行时环境的编码(比如securecrt，类似mysql客户端连接时的编码）--客户端\n",
    "- Python程序读取外部文件的编码（引用外部文件的编码）--外部文件"
   ]
  },
  {
   "cell_type": "markdown",
   "metadata": {},
   "source": [
    "## 2.3编码转换\n",
    "\n",
    "### **unicode为桥梁，utf-8和gbk互转需要经过unicode这个翻译，不然他们二者是无法直接沟通。**\n",
    "\n",
    "### a.encode（* *）：将a 编码 为 * *编码格式的字符串或unicode对象\n",
    "\n",
    "### a.decode（* *）：将a 解码 为 unicode编码格式的字符串或unicode对象\n",
    "\n",
    "\n",
    "![encode](./img/encode.png)"
   ]
  },
  {
   "cell_type": "markdown",
   "metadata": {},
   "source": [
    "### 操作范例：\n",
    "\n",
    "1、查看默认编码，python遇到中文字符，会识别他是utf-8编码。"
   ]
  },
  {
   "cell_type": "code",
   "execution_count": 31,
   "metadata": {},
   "outputs": [
    {
     "data": {
      "text/plain": [
       "('中文', str)"
      ]
     },
     "execution_count": 31,
     "metadata": {},
     "output_type": "execute_result"
    }
   ],
   "source": [
    "str_test = '中文'\n",
    "str_test, type(str_test)"
   ]
  },
  {
   "cell_type": "code",
   "execution_count": 32,
   "metadata": {},
   "outputs": [
    {
     "data": {
      "text/plain": [
       "(b'\\xe4\\xb8\\xad\\xe6\\x96\\x87', bytes)"
      ]
     },
     "execution_count": 32,
     "metadata": {},
     "output_type": "execute_result"
    }
   ],
   "source": [
    "str_utf8 = str_test.encode('utf-8')\n",
    "str_utf8, type(str_utf8)"
   ]
  },
  {
   "cell_type": "code",
   "execution_count": 34,
   "metadata": {},
   "outputs": [
    {
     "ename": "AttributeError",
     "evalue": "'str' object has no attribute 'decode'",
     "output_type": "error",
     "traceback": [
      "\u001b[1;31m---------------------------------------------------------------------------\u001b[0m",
      "\u001b[1;31mAttributeError\u001b[0m                            Traceback (most recent call last)",
      "\u001b[1;32m<ipython-input-34-39aa68afdf9b>\u001b[0m in \u001b[0;36m<module>\u001b[1;34m\u001b[0m\n\u001b[1;32m----> 1\u001b[1;33m \u001b[0mstr_test\u001b[0m\u001b[1;33m.\u001b[0m\u001b[0mdecode\u001b[0m\u001b[1;33m(\u001b[0m\u001b[1;34m'utf-8'\u001b[0m\u001b[1;33m)\u001b[0m\u001b[1;33m\u001b[0m\u001b[0m\n\u001b[0m",
      "\u001b[1;31mAttributeError\u001b[0m: 'str' object has no attribute 'decode'"
     ]
    }
   ],
   "source": [
    "str_test.decode('utf-8')"
   ]
  },
  {
   "cell_type": "code",
   "execution_count": 36,
   "metadata": {},
   "outputs": [
    {
     "data": {
      "text/plain": [
       "'中文'"
      ]
     },
     "execution_count": 36,
     "metadata": {},
     "output_type": "execute_result"
    }
   ],
   "source": [
    "str_test.encode('utf-8').decode('utf8')"
   ]
  },
  {
   "cell_type": "markdown",
   "metadata": {},
   "source": [
    "（1）a是一个字符串，其编码格式是unicode，类型为str字符串，但是将其进行编码成utf8格式，会出现开头为b的字节字符串，其类型为 bytes 故可以发现两者是不同的。（2）字符串str本身没有decode这个方法，因为其本身就是unicode的（3）将a先解码在编码就可以变为原来的字符串，说明，在python3中编码必须经过unicode进行转化\n",
    "\n",
    "2、将utf-8转为unicode编码\n",
    "utf-8转为unicode编码是，需要指定他本身是什么格式的编码，类似于加密。查看myname_unicode变量时，发现他是unicode编码格式了。\n",
    "\n",
    "3、将unicode编码转为utf-8"
   ]
  }
 ],
 "metadata": {
  "kernelspec": {
   "display_name": "Python 3",
   "language": "python",
   "name": "python3"
  },
  "language_info": {
   "codemirror_mode": {
    "name": "ipython",
    "version": 3
   },
   "file_extension": ".py",
   "mimetype": "text/x-python",
   "name": "python",
   "nbconvert_exporter": "python",
   "pygments_lexer": "ipython3",
   "version": "3.6.6"
  }
 },
 "nbformat": 4,
 "nbformat_minor": 2
}
