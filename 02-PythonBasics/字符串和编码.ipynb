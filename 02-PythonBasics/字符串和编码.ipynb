{
 "cells": [
  {
   "cell_type": "markdown",
   "metadata": {},
   "source": [
    "## 一、字符串"
   ]
  },
  {
   "cell_type": "markdown",
   "metadata": {},
   "source": [
    "### 字符串赋值\n",
    "\n",
    "> 字符串变量赋值时字符串可用单或双引号"
   ]
  },
  {
   "cell_type": "code",
   "execution_count": 30,
   "metadata": {},
   "outputs": [
    {
     "name": "stdout",
     "output_type": "stream",
     "text": [
      "##########################\n",
      "Hello World!\n",
      "##########################\n",
      "Hello World!\n",
      "##########################\n",
      "\n",
      "Hello\n",
      "World!\n",
      "\n",
      "##########################\n",
      "Hello World!\n"
     ]
    }
   ],
   "source": [
    "# 双引号赋值\n",
    "string = \"Hello World!\"\n",
    "print(\"##########################\")\n",
    "print(string)\n",
    "\n",
    "# 单引号赋值\n",
    "string1 = 'Hello World!'\n",
    "print(\"##########################\")\n",
    "print(string1)\n",
    "\n",
    "# 三引号赋值（换行赋值）\n",
    "string2 = \"\"\"\n",
    "Hello\n",
    "World!\n",
    "\"\"\"\n",
    "print(\"##########################\")\n",
    "print(string2)\n",
    "\n",
    "# 列表赋值\n",
    "string3 = ['H', 'e', 'l', 'l', 'o', \" \", 'W', 'o', 'r', 'l', 'd', '!']\n",
    "print(\"##########################\")\n",
    "string3 = \"\".join(string3)\n",
    "print(string3)"
   ]
  },
  {
   "cell_type": "markdown",
   "metadata": {},
   "source": [
    "### 字符串索引\n",
    "\n",
    "![](./img/o99aU.png)"
   ]
  },
  {
   "cell_type": "code",
   "execution_count": 43,
   "metadata": {},
   "outputs": [
    {
     "name": "stdout",
     "output_type": "stream",
     "text": [
      "a\n",
      "b\n",
      "c\n",
      "d\n",
      "e\n",
      "f\n",
      "g\n",
      "h\n",
      "##########################\n",
      "cdefg\n",
      "##########################\n",
      "h\n",
      "##########################\n",
      "defg\n"
     ]
    }
   ],
   "source": [
    "string = \"abcdefgh\"\n",
    "\n",
    "for s in string:\n",
    "    print(s)\n",
    "\n",
    "print(\"##########################\")\n",
    "print(string[2:7])\n",
    "print(\"##########################\")\n",
    "print(string[-1])\n",
    "print(\"##########################\")\n",
    "print(string[-5:-1])"
   ]
  },
  {
   "cell_type": "markdown",
   "metadata": {},
   "source": [
    "### 字符串中的 (+) 号(*) 号"
   ]
  },
  {
   "cell_type": "code",
   "execution_count": 45,
   "metadata": {},
   "outputs": [
    {
     "name": "stdout",
     "output_type": "stream",
     "text": [
      "aaa\n",
      "ahello string\n"
     ]
    }
   ],
   "source": [
    "a = 'a'\n",
    "\n",
    "print(a*3) # 重复字符串\n",
    "print(a + 'hello string') #凭借字符串，同join方法相似"
   ]
  },
  {
   "cell_type": "markdown",
   "metadata": {},
   "source": [
    "### 字符串的replace函数"
   ]
  },
  {
   "cell_type": "code",
   "execution_count": 49,
   "metadata": {},
   "outputs": [
    {
     "name": "stdout",
     "output_type": "stream",
     "text": [
      "abcbaua\n",
      "AbcbAuA\n"
     ]
    }
   ],
   "source": [
    "a = \"abcbaua\"\n",
    "print(a)\n",
    "print(a.replace('a','A')) # 查找全部a并替换为A"
   ]
  },
  {
   "cell_type": "markdown",
   "metadata": {},
   "source": [
    "### 格式化字符串的函数str.format()"
   ]
  },
  {
   "cell_type": "code",
   "execution_count": 50,
   "metadata": {},
   "outputs": [
    {
     "name": "stdout",
     "output_type": "stream",
     "text": [
      "可以23333在指定66666位置插入变量string\n"
     ]
    }
   ],
   "source": [
    "print(\"可以{0}在指定{1}位置插入变量{2}\".format(23333, 66666, \"string\"))"
   ]
  },
  {
   "cell_type": "markdown",
   "metadata": {},
   "source": [
    "### 大小写转换"
   ]
  },
  {
   "cell_type": "code",
   "execution_count": 51,
   "metadata": {},
   "outputs": [
    {
     "name": "stdout",
     "output_type": "stream",
     "text": [
      "ab xy\n",
      "AB XY\n"
     ]
    }
   ],
   "source": [
    "print('ab XY'.lower())\n",
    "print('ab XY'.upper())"
   ]
  },
  {
   "cell_type": "markdown",
   "metadata": {},
   "source": [
    "### isXXX判断\n",
    "\n",
    "```\n",
    "对于非Unicode字符串，前3个方法是等价的。\n",
    "str.isdecimal() 判断是否是十进制\n",
    "str.isdigit()  判断是否是数字\n",
    "str.isnumeric()判断是否是数字\n",
    "\n",
    "str.isalpha() 判断是否全是字母\n",
    "str.isalnum()判断是否是字母或数字\n",
    "\n",
    "str.islower() 判断是否全部小写\n",
    "str.isupper() 判断是否全部大写\n",
    "str.istitle() 判断是否首字母大写\n",
    "```"
   ]
  },
  {
   "cell_type": "code",
   "execution_count": 88,
   "metadata": {},
   "outputs": [
    {
     "name": "stdout",
     "output_type": "stream",
     "text": [
      "'33'.isdecimal():  True\n",
      "'34'.isdigit():  True\n",
      "'abc'.isalpha():  True\n",
      "'ab2'.isalpha():  False\n",
      "'a34'.isalnum():  True\n",
      "'a34'.islower():  True\n",
      "'AB'.isupper():  True\n",
      "'Aa'.isupper():  False\n",
      "'Aa Bc'.istitle():  True\n"
     ]
    }
   ],
   "source": [
    "print(\"'33'.isdecimal(): \", '33'.isdecimal())\n",
    "\n",
    "print(\"'34'.isdigit(): \", '34'.isdigit())\n",
    "\n",
    "print(\"'abc'.isalpha(): \",'abc'.isalpha())\n",
    "print(\"'ab2'.isalpha(): \", 'ab2'.isalpha())\n",
    "\n",
    "print(\"'a34'.isalnum(): \",'a34'.isalnum())\n",
    "\n",
    "print(\"'a34'.islower(): \",'a34'.islower())\n",
    "\n",
    "print(\"'AB'.isupper(): \", 'AB'.isupper())\n",
    "\n",
    "print(\"'Aa'.isupper(): \",'Aa'.isupper())\n",
    "\n",
    "print(\"'Aa Bc'.istitle(): \",'Aa Bc'.istitle())"
   ]
  },
  {
   "cell_type": "markdown",
   "metadata": {},
   "source": [
    "### 分割字符串 str.split()"
   ]
  },
  {
   "cell_type": "code",
   "execution_count": 92,
   "metadata": {},
   "outputs": [
    {
     "name": "stdout",
     "output_type": "stream",
     "text": [
      "['hdk', 'asf', 'al', 'dk', 'fj']\n"
     ]
    }
   ],
   "source": [
    "S = \"hdk asf al dk fj\"\n",
    "\n",
    "print(S.split(\" \")) # 根据空格切割\n"
   ]
  },
  {
   "cell_type": "code",
   "execution_count": 94,
   "metadata": {},
   "outputs": [
    {
     "data": {
      "text/plain": [
       "['www', 'doiido', 'com']"
      ]
     },
     "execution_count": 94,
     "metadata": {},
     "output_type": "execute_result"
    }
   ],
   "source": [
    "# 一个很好的例子\n",
    "str=\"hello boy<[www.doiido.com]>byebye\"\n",
    "str.split(\"[\")[1].split(\"]\")[0]\n",
    "'www.doiido.com'\n",
    "str.split(\"[\")[1].split(\"]\")[0].split(\".\")\n",
    "['www', 'doiido', 'com']"
   ]
  },
  {
   "cell_type": "markdown",
   "metadata": {},
   "source": [
    "### 字符串在输出时的对齐"
   ]
  },
  {
   "cell_type": "code",
   "execution_count": 87,
   "metadata": {},
   "outputs": [
    {
     "name": "stdout",
     "output_type": "stream",
     "text": [
      "dsafds fads###################\n",
      "###################dsafds fads\n",
      "#########dsafds fads##########\n",
      "0000000000000000000dsafds fads\n"
     ]
    }
   ],
   "source": [
    "S = \"dsafds fads\"\n",
    "width = 30\n",
    "fillchar = '#'\n",
    "print(S.ljust(width, fillchar))\n",
    "#输出width个字符，S左对齐，不足部分用fillchar填充，默认的为空格。 \n",
    "print(S.rjust(width, fillchar)) #右对齐 \n",
    "print(S.center(width, fillchar)) #中间对齐 \n",
    "print(S.zfill(width)) #把S变成width长，并在右对齐，不足部分用0补足"
   ]
  },
  {
   "cell_type": "markdown",
   "metadata": {},
   "source": [
    "## 二、Python 编码"
   ]
  }
 ],
 "metadata": {
  "kernelspec": {
   "display_name": "Python 3",
   "language": "python",
   "name": "python3"
  },
  "language_info": {
   "codemirror_mode": {
    "name": "ipython",
    "version": 3
   },
   "file_extension": ".py",
   "mimetype": "text/x-python",
   "name": "python",
   "nbconvert_exporter": "python",
   "pygments_lexer": "ipython3",
   "version": "3.7.0"
  }
 },
 "nbformat": 4,
 "nbformat_minor": 2
}
