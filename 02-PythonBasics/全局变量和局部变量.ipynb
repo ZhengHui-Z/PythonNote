{
 "cells": [
  {
   "cell_type": "markdown",
   "metadata": {},
   "source": [
    "#### 全局变量和局部变量\n",
    "定义：\n",
    "\n",
    "全局变量：在模块内、在所有函数的外面、在class外面\n",
    "\n",
    "局部变量：在函数内、在class的方法内"
   ]
  },
  {
   "cell_type": "code",
   "execution_count": 25,
   "metadata": {},
   "outputs": [
    {
     "name": "stdout",
     "output_type": "stream",
     "text": [
      "外部变量a的地址：2612040577072\n",
      "参数b的地址：2612040577072\n",
      "内部变量a的地址：2612041055184\n",
      "内部打印变量a: 里面的a\n",
      "外部打印变量a: 外面的a\n",
      "最后变量a的地址：2612040577072\n"
     ]
    }
   ],
   "source": [
    "# 全局变量和局部变量的例子一\n",
    "\n",
    "a = \"外面的a\" # 全局变量\n",
    "print (\"外部变量a的地址：{0}\".format(id(a)))\n",
    "def test(b):\n",
    "    print (\"参数b的地址：{0}\".format(id(b)))\n",
    "    a = \"里面的a\" # 函数内定义的局部变量\n",
    "    print (\"内部变量a的地址：{0}\".format(id(a)))\n",
    "    print (\"内部打印变量a: {0}\".format(a))\n",
    "    \n",
    "test(a)\n",
    "print (\"外部打印变量a: {0}\".format(a)) # 输出666说明test()函数内定义的是局部变量，只是变量名相同，存储了空间不相同。\n",
    "print (\"最后变量a的地址：{0}\".format(id(a)))"
   ]
  },
  {
   "cell_type": "code",
   "execution_count": 55,
   "metadata": {},
   "outputs": [
    {
     "name": "stdout",
     "output_type": "stream",
     "text": [
      "外部变量a的地址：2612040577264\n",
      "内部变量a的地址：2612041253952\n",
      "内部打印变量a: test里面的a\n",
      "内部打印变量a: test2内部的a\n",
      "最后外部打印变量a: test里面的a\n",
      "最后变量a的地址：2612041253952\n"
     ]
    }
   ],
   "source": [
    "# 全局变量和局部变量的例子二\n",
    "\n",
    "\"\"\"\n",
    "函数内部要调用外部的全局变量必须使用关键字 global 申明，否则就是函数内的局部变量\n",
    "\"\"\"\n",
    "\n",
    "a = \"外面的a\" # 全局变量\n",
    "print (\"外部变量a的地址：{0}\".format(id(a)))\n",
    "def test():\n",
    "    #########################################################\n",
    "    global a # 定义全局变量a\n",
    "    a = \"test里面的a\" # 函数内定义的局部变量\n",
    "    #########################################################\n",
    "    print (\"内部变量a的地址：{0}\".format(id(a)))\n",
    "    print (\"内部打印变量a: {0}\".format(a))\n",
    "\n",
    "    \n",
    "def test2():\n",
    "    a = \"test2内部的a\"\n",
    "    print(\"内部打印变量a: {0}\".format(a))\n",
    "\n",
    "test()\n",
    "test2()\n",
    "print (\"最后外部打印变量a: {0}\".format(a))\n",
    "print (\"最后变量a的地址：{0}\".format(id(a)))"
   ]
  },
  {
   "cell_type": "code",
   "execution_count": 50,
   "metadata": {},
   "outputs": [
    {
     "name": "stdout",
     "output_type": "stream",
     "text": [
      "外部变量a的地址：2612040577072\n"
     ]
    },
    {
     "ename": "SyntaxError",
     "evalue": "name 'a' is assigned to before global declaration (<ipython-input-50-2efa033374bc>, line 9)",
     "output_type": "error",
     "traceback": [
      "\u001b[1;36m  File \u001b[1;32m\"<ipython-input-50-2efa033374bc>\"\u001b[1;36m, line \u001b[1;32m9\u001b[0m\n\u001b[1;33m    global a # 定义全局变量a\u001b[0m\n\u001b[1;37m    ^\u001b[0m\n\u001b[1;31mSyntaxError\u001b[0m\u001b[1;31m:\u001b[0m name 'a' is assigned to before global declaration\n"
     ]
    }
   ],
   "source": [
    "# 全局变量和局部变量的例子三\n",
    "# 在相同作用域中变量赋值在转换为全局变量是不可行的，会报错\n",
    "\n",
    "a = \"外面的a\" # 全局变量\n",
    "print (\"外部变量a的地址：{0}\".format(id(a)))\n",
    "def test():\n",
    "    #########################################################\n",
    "    a = \"test里面的a\" # 函数内定义的局部变量\n",
    "    global a # 定义全局变量a\n",
    "    #########################################################\n",
    "    print (\"内部变量a的地址：{0}\".format(id(a)))\n",
    "    print (\"内部打印变量a: {0}\".format(a))\n",
    "    \n",
    "test()\n",
    "print (\"外部打印变量a: {0}\".format(a))\n",
    "print (\"最后变量a的地址：{0}\".format(id(a)))"
   ]
  },
  {
   "cell_type": "code",
   "execution_count": 48,
   "metadata": {},
   "outputs": [
    {
     "name": "stdout",
     "output_type": "stream",
     "text": [
      "外部变量a的地址：2612041055472\n",
      "内部变量a的地址：2612041055856\n",
      "内部打印变量a: 里面的a\n",
      "外部打印变量a: 外面的a\n",
      "最后变量a的地址：2612041055472\n"
     ]
    }
   ],
   "source": [
    "# 全局变量和局部变量的例子四\n",
    "\"\"\"\n",
    "该例子说明外部定义的global变量对函数的局部变量不相互影响\n",
    "\"\"\"\n",
    "\n",
    "#########################################################\n",
    "global a # 定义全局变量a\n",
    "#########################################################\n",
    "\n",
    "a = \"外面的a\" # 全局变量\n",
    "print (\"外部变量a的地址：{0}\".format(id(a)))\n",
    "def test():\n",
    "    a = \"里面的a\" # 函数内定义的局部变量\n",
    "    print (\"内部变量a的地址：{0}\".format(id(a)))\n",
    "    print (\"内部打印变量a: {0}\".format(a))\n",
    "    \n",
    "test()\n",
    "print (\"外部打印变量a: {0}\".format(a))\n",
    "print (\"最后变量a的地址：{0}\".format(id(a)))"
   ]
  }
 ],
 "metadata": {
  "kernelspec": {
   "display_name": "Python 3",
   "language": "python",
   "name": "python3"
  },
  "language_info": {
   "codemirror_mode": {
    "name": "ipython",
    "version": 3
   },
   "file_extension": ".py",
   "mimetype": "text/x-python",
   "name": "python",
   "nbconvert_exporter": "python",
   "pygments_lexer": "ipython3",
   "version": "3.7.0"
  }
 },
 "nbformat": 4,
 "nbformat_minor": 2
}
