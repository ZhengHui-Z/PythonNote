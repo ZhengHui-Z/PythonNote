{
 "cells": [
  {
   "cell_type": "code",
   "execution_count": 2,
   "metadata": {},
   "outputs": [],
   "source": [
    "import os"
   ]
  },
  {
   "cell_type": "markdown",
   "metadata": {},
   "source": [
    "# 文件列表\n",
    "\n",
    "判断文件夹和文件\n",
    "> os.path.isdir(path)\n",
    "\n",
    "> os.path.isfile(path)\n",
    "\n"
   ]
  },
  {
   "cell_type": "code",
   "execution_count": 21,
   "metadata": {},
   "outputs": [],
   "source": [
    "path = \"/media/albert/resource/BaiduNetdiskDownload/Synthetic Chinese String Dataset/Synthetic Chinese String Dataset/images/\"\n",
    "list = os.listdir(path)\n",
    "sum = 0\n",
    "train_data = []\n",
    "for li in list:\n",
    "    temp = path+li\n",
    "    if os.path.isdir(temp):\n",
    "        print(temp,\"isdir\")\n",
    "    else:\n",
    "        train_data.append(temp)\n",
    "\n"
   ]
  },
  {
   "cell_type": "code",
   "execution_count": null,
   "metadata": {},
   "outputs": [],
   "source": [
    "print (train_data.__len__)"
   ]
  }
 ],
 "metadata": {
  "kernelspec": {
   "display_name": "Python 3",
   "language": "python",
   "name": "python3"
  },
  "language_info": {
   "codemirror_mode": {
    "name": "ipython",
    "version": 3
   },
   "file_extension": ".py",
   "mimetype": "text/x-python",
   "name": "python",
   "nbconvert_exporter": "python",
   "pygments_lexer": "ipython3",
   "version": "3.6.4"
  }
 },
 "nbformat": 4,
 "nbformat_minor": 2
}
