{
 "cells": [
  {
   "cell_type": "markdown",
   "metadata": {},
   "source": [
    "# 变量\n",
    "\n",
    "- #### Python 中的变量赋值不需要类型声明。\n",
    "\n",
    "> 变量存储在内存中的值。这就意味着在创建变量时会在内存中开辟一个空间。\n",
    "基于变量的数据类型，解释器会分配指定内存，并决定什么数据可以被存储在内存中。\n",
    "因此，变量可以指定不同的数据类型，这些变量可以存储整数，小数或字符。\n",
    "\n",
    "- #### 变量赋值\n",
    "> ***Python 中的变量赋值不需要类型声明。***\n",
    "\n",
    "    - 每个变量在内存中创建，都包括变量的标识，名称和数据这些信息。\n",
    "    - 每个变量在使用前都必须赋值，变量赋值以后该变量才会被创建。\n",
    "    - 等号（=）用来给变量赋值。\n",
    "    - 等号（=）运算符左边是一个变量名,等号（=）运算符右边是存储在变量中的值。\n",
    "\n",
    "\n",
    "注：Python中的元祖和列表十分相似，不过元组是不可变的，即你不能修改元组。"
   ]
  },
  {
   "cell_type": "code",
   "execution_count": 5,
   "metadata": {},
   "outputs": [
    {
     "name": "stdout",
     "output_type": "stream",
     "text": [
      "12345678901\n",
      "23\n",
      "Jobs\n",
      "男\n"
     ]
    }
   ],
   "source": [
    "tel = 12345678901 # 赋值整型变量\n",
    "age = 23 # 浮点型\n",
    "name = \"Jobs\" \n",
    "gender = \"男\"# 字符串\n",
    "\n",
    "print (tel)\n",
    "print (age)\n",
    "print (name)\n",
    "print (gender)"
   ]
  },
  {
   "cell_type": "code",
   "execution_count": 7,
   "metadata": {},
   "outputs": [
    {
     "name": "stdout",
     "output_type": "stream",
     "text": [
      "1 1 1\n"
     ]
    }
   ],
   "source": [
    "# 多个变量赋值\n",
    "a = b = c = 1\n",
    "\n",
    "print(a, b, c)"
   ]
  },
  {
   "cell_type": "markdown",
   "metadata": {},
   "source": [
    "# 数据类型\n",
    "### Python 定义了一些标准类型，用于存储各种类型的数据。\n",
    "\n",
    "Python有五个标准的数据类型：\n",
    "\n",
    "- Numbers（数字, Python支持四种不同的数字类型）：\n",
    "    - int（有符号整型）\n",
    "    - long（长整型[也可以代表八进制和十六进制]）\n",
    "    - float（浮点型）\n",
    "    - complex（复数）\n",
    "- String（字符串）\n",
    "- List（列表）\n",
    "- Tuple（元组）\n",
    "- Dictionary（字典）"
   ]
  },
  {
   "cell_type": "markdown",
   "metadata": {},
   "source": [
    "# Python数据类型转换\n",
    "\n",
    "|函数|\t描述|\n",
    "|:---:|:---:|\n",
    "|int(x [,base])|将x转换为一个整数|\n",
    "|long(x [,base] )|将x转换为一个长整数|\n",
    "|float(x)|将x转换到一个浮点数|\n",
    "|complex(real [,imag])|创建一个复数|\n",
    "|str(x)|将对象 x 转换为字符串|\n",
    "|repr(x)|将对象 x 转换为表达式字符串|\n",
    "|eval(str)|用来计算在字符串中的有效Python表达式,并返回一个对象|\n",
    "|tuple(s)|将序列 s 转换为一个元组|\n",
    "|list(s)|将序列 s 转换为一个列表|\n",
    "|set(s)|转换为可变集合|\n",
    "|dict(d)|创建一个字典。d 必须是一个序列 (key,value)元组。|\n",
    "|frozenset(s)|转换为不可变集合|\n",
    "|chr(x)|将一个整数转换为一个字符|\n",
    "|unichr(x)|将一个整数转换为Unicode字符|\n",
    "|ord(x)|将一个字符转换为它的整数值|\n",
    "|hex(x)|将一个整数转换为一个十六进制字符串|\n",
    "|oct(x)||将一个整数转换为一个八进制字符串|\n"
   ]
  },
  {
   "cell_type": "markdown",
   "metadata": {},
   "source": [
    "### Python变量命名规则：\n",
    "\n",
    "- 变量名只能包含字母、数字和下划线。变量名可以字母或下划线开头，但不能以数字开头，例如，可将变量命名为message_1，但不能将其命名为1_message。\n",
    "- 变量名不能包含空格，但可使用下划线来分隔其中的单词。例如，变量名greeting_message可行，但变量名greeting message会引发错误。\n",
    "- 不要将Python关键字和函数名用作变量名，即不要使用Python保留用于特殊用途的单词，如print。\n",
    "- 变量名应既简短又具有描述性。例如，name比n好，student_name比s_n好，name_length比length_of_persons_name好。\n",
    "- 慎用小写字母l和大写字母O，因给他们可能被人错看成数字1和0；"
   ]
  }
 ],
 "metadata": {
  "kernelspec": {
   "display_name": "Python 3",
   "language": "python",
   "name": "python3"
  },
  "language_info": {
   "codemirror_mode": {
    "name": "ipython",
    "version": 3
   },
   "file_extension": ".py",
   "mimetype": "text/x-python",
   "name": "python",
   "nbconvert_exporter": "python",
   "pygments_lexer": "ipython3",
   "version": "3.7.0"
  }
 },
 "nbformat": 4,
 "nbformat_minor": 2
}
