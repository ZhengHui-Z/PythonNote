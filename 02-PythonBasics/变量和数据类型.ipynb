{
 "cells": [
  {
   "cell_type": "markdown",
   "metadata": {},
   "source": [
    "# 变量\n",
    "\n",
    "- #### Python 中的变量赋值不需要类型声明。\n",
    "\n",
    "> 变量存储在内存中的值。这就意味着在创建变量时会在内存中开辟一个空间。\n",
    "基于变量的数据类型，解释器会分配指定内存，并决定什么数据可以被存储在内存中。\n",
    "因此，变量可以指定不同的数据类型，这些变量可以存储整数，小数或字符。\n",
    "\n",
    "- #### 变量赋值\n",
    "> ***Python 中的变量赋值不需要类型声明。***\n",
    "\n",
    "    - 每个变量在内存中创建，都包括变量的标识，名称和数据这些信息。\n",
    "    - 每个变量在使用前都必须赋值，变量赋值以后该变量才会被创建。\n",
    "    - 等号（=）用来给变量赋值。\n",
    "    - 等号（=）运算符左边是一个变量名,等号（=）运算符右边是存储在变量中的值。\n",
    "\n",
    "\n",
    "注：Python中的元祖和列表十分相似，不过元组是不可变的，即你不能修改元组。"
   ]
  },
  {
   "cell_type": "code",
   "execution_count": null,
   "metadata": {},
   "outputs": [],
   "source": []
  },
  {
   "cell_type": "markdown",
   "metadata": {},
   "source": [
    "# 数据类型\n",
    "### Python 定义了一些标准类型，用于存储各种类型的数据。\n",
    "\n",
    "Python有五个标准的数据类型：\n",
    "\n",
    "- Numbers（数字）\n",
    "- String（字符串）\n",
    "- List（列表）\n",
    "- Tuple（元组）\n",
    "- Dictionary（字典）"
   ]
  }
 ],
 "metadata": {
  "kernelspec": {
   "display_name": "Python 3",
   "language": "python",
   "name": "python3"
  },
  "language_info": {
   "codemirror_mode": {
    "name": "ipython",
    "version": 3
   },
   "file_extension": ".py",
   "mimetype": "text/x-python",
   "name": "python",
   "nbconvert_exporter": "python",
   "pygments_lexer": "ipython3",
   "version": "3.7.0"
  }
 },
 "nbformat": 4,
 "nbformat_minor": 2
}
