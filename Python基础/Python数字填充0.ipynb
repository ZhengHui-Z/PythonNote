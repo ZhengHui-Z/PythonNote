{
 "cells": [
  {
   "cell_type": "markdown",
   "metadata": {},
   "source": [
    "Python 数字填充0"
   ]
  },
  {
   "cell_type": "code",
   "execution_count": 11,
   "metadata": {},
   "outputs": [
    {
     "name": "stdout",
     "output_type": "stream",
     "text": [
      "00123\n"
     ]
    }
   ],
   "source": [
    "\n",
    "n = \"123\"\n",
    "s = n.zfill(5)\n",
    "print (s)\n",
    "# assert s == \"00123\""
   ]
  },
  {
   "cell_type": "code",
   "execution_count": 10,
   "metadata": {},
   "outputs": [
    {
     "name": "stdout",
     "output_type": "stream",
     "text": [
      "-0123\n"
     ]
    }
   ],
   "source": [
    "# zfill()也可以给负数补0\n",
    "\n",
    "n = \"-123\"\n",
    "s = n.zfill(5)\n",
    "print(s)\n",
    "# assert s == \"-0123\""
   ]
  },
  {
   "cell_type": "code",
   "execution_count": 9,
   "metadata": {},
   "outputs": [
    {
     "name": "stdout",
     "output_type": "stream",
     "text": [
      "00123\n"
     ]
    }
   ],
   "source": [
    "\n",
    "n = 123\n",
    "s = \"%05d\" % n\n",
    "# assert s == \"00123\"\n",
    "print (s)"
   ]
  }
 ],
 "metadata": {
  "kernelspec": {
   "display_name": "Python 3",
   "language": "python",
   "name": "python3"
  },
  "language_info": {
   "codemirror_mode": {
    "name": "ipython",
    "version": 3
   },
   "file_extension": ".py",
   "mimetype": "text/x-python",
   "name": "python",
   "nbconvert_exporter": "python",
   "pygments_lexer": "ipython3",
   "version": "3.6.3"
  }
 },
 "nbformat": 4,
 "nbformat_minor": 2
}
