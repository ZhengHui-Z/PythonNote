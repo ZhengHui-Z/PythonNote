{
 "cells": [
  {
   "cell_type": "markdown",
   "metadata": {},
   "source": [
    "# Working with Documents\n",
    "python-docx允许您创建新文档以及更改现有文档。"
   ]
  },
  {
   "cell_type": "markdown",
   "metadata": {},
   "source": [
    "## 打开一个文档"
   ]
  },
  {
   "cell_type": "markdown",
   "metadata": {},
   "source": [
    "如果不指定打开的文档，程序将会自动创建一个新文档并打开，如下面的程序\n",
    "\n",
    "- 这将从内置的默认模板创建一个新文档，并将其保存为一个名为“new.docx”的文件。\n",
    "- 所谓的“默认模板”实际上只是一个没有内容的Word文件，存储在已安装的python-docx包中。这和你从模板中选择Word的文件> New后选择Word的Document template差不多。"
   ]
  },
  {
   "cell_type": "code",
   "execution_count": 2,
   "metadata": {},
   "outputs": [],
   "source": [
    "from docx import Document\n",
    "\n",
    "# Document()方法未指定打开文档\n",
    "document = Document()\n",
    "# 'new.docx'将会是一个新建的空白文档\n",
    "document.save('new.docx')"
   ]
  },
  {
   "cell_type": "markdown",
   "metadata": {},
   "source": [
    "## 打开一个已经存在的文档\n",
    "如果您希望对最终文档有更多的控制权，或者希望更改现有文档，则需要在Document()方法中指定文件名。如："
   ]
  },
  {
   "cell_type": "code",
   "execution_count": 3,
   "metadata": {},
   "outputs": [],
   "source": [
    "document = Document('demo.docx')\n",
    "document.save('new1.docx')"
   ]
  },
  {
   "cell_type": "markdown",
   "metadata": {},
   "source": [
    "一些注意事项：\n",
    "- 您可以通过这种方式打开Word 2007或更高版本的文件(。Word 2003和更早版本的doc文件无法工作)。虽然您可能还不能操作所有的内容，但是已经在其中的内容将会很好地加载和保存。特性集还在构建中，所以还不能添加或更改诸如标题或脚注之类的内容，但是如果文档中包含这些内容，那么python-docx就会很有礼貌地把它们放在一边，并足够聪明地保存它们，而不会真正理解它们是什么。\n",
    "- 如果您使用相同的文件名打开和保存文件，python-docx会乖乖地覆盖原始文件，而不会发出任何提示。你要确保这是你想要的。"
   ]
  },
  {
   "cell_type": "code",
   "execution_count": 7,
   "metadata": {},
   "outputs": [
    {
     "data": {
      "text/plain": [
       "<docx.section.Sections at 0x20052bd6630>"
      ]
     },
     "execution_count": 7,
     "metadata": {},
     "output_type": "execute_result"
    }
   ],
   "source": [
    "document.sections."
   ]
  }
 ],
 "metadata": {
  "kernelspec": {
   "display_name": "Python 3",
   "language": "python",
   "name": "python3"
  },
  "language_info": {
   "codemirror_mode": {
    "name": "ipython",
    "version": 3
   },
   "file_extension": ".py",
   "mimetype": "text/x-python",
   "name": "python",
   "nbconvert_exporter": "python",
   "pygments_lexer": "ipython3",
   "version": "3.6.6"
  }
 },
 "nbformat": 4,
 "nbformat_minor": 2
}
