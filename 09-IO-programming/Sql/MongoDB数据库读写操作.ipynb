{
 "cells": [
  {
   "cell_type": "markdown",
   "metadata": {},
   "source": [
    "# Python Mongodb\n",
    "Mongodb 是目前最流行的 NoSQL 数据库之一，使用的数据类型 BSON（类似 JSON）。\n",
    "\n",
    "## 一、环境准备PyMongo\n",
    "Python 要连接 MongoDB 需要 MongoDB 驱动，这里我们使用 PyMongo 驱动来连接。\n",
    "\n",
    "[PyMongo官网传送门](http://api.mongodb.com/python/current/installation.html)"
   ]
  },
  {
   "cell_type": "markdown",
   "metadata": {},
   "source": [
    "## 二、pymongo使用方法"
   ]
  },
  {
   "cell_type": "markdown",
   "metadata": {},
   "source": [
    "### 2.1连接数据库"
   ]
  },
  {
   "cell_type": "code",
   "execution_count": 5,
   "metadata": {},
   "outputs": [],
   "source": [
    "\"\"\"\n",
    "MongoDB存储\n",
    "    在这里我们来看一下Python3下MongoDB的存储操作，在本节开始之前请确保你已经安装好了MongoDB并启动了其服务，另外安装好了Python\n",
    "    的PyMongo库。\n",
    " \n",
    "连接MongoDB\n",
    "    连接MongoDB我们需要使用PyMongo库里面的MongoClient，一般来说传入MongoDB的IP及端口即可，第一个参数为地址host，\n",
    "    第二个参数为端口port，端口如果不传默认是27017。\n",
    "\"\"\"\n",
    "import pymongo\n",
    "\n",
    "\"\"\"\n",
    "这样我们就可以创建一个MongoDB的连接对象了。另外MongoClient的第一个参数host还可以直接传MongoDB的连接字符串，以mongodb开头，\n",
    "例如：client = MongoClient('mongodb://localhost:27017/')可以达到同样的连接效果。\n",
    "\"\"\"\n",
    "client = pymongo.MongoClient(host='localhost', port=27017)"
   ]
  },
  {
   "cell_type": "markdown",
   "metadata": {},
   "source": [
    "### 2.2指定数据库"
   ]
  },
  {
   "cell_type": "code",
   "execution_count": 6,
   "metadata": {},
   "outputs": [],
   "source": [
    "\n",
    "# MongoDB中还分为一个个数据库，我们接下来的一步就是指定要操作哪个数据库，在这里我以test数据库为例进行说明，所以下一步我们\n",
    "# 需要在程序中指定要使用的数据库。\n",
    " \n",
    "db = client.test\n",
    "# 调用client的test属性即可返回test数据库，当然也可以这样来指定：\n",
    "# db = client['test']\n",
    "#　两种方式是等价的。\n"
   ]
  },
  {
   "cell_type": "markdown",
   "metadata": {},
   "source": [
    "### 2.3指定集合并插入数据"
   ]
  },
  {
   "cell_type": "code",
   "execution_count": 10,
   "metadata": {},
   "outputs": [
    {
     "name": "stdout",
     "output_type": "stream",
     "text": [
      "<pymongo.results.InsertOneResult object at 0x000001C872A76B88>\n"
     ]
    }
   ],
   "source": [
    "# MongoDB的每个数据库又包含了许多集合Collection，也就类似与关系型数据库中的表，下一步我们需要指定要操作的集合，\n",
    "# 在这里我们指定一个集合名称为students，学生集合。还是和指定数据库类似，指定集合也有两种方式。\n",
    " \n",
    "collection = db.students\n",
    "# collection = db['students']\n",
    "# 插入数据,接下来我们便可以进行数据插入了，对于students这个Collection，我们新建一条学生数据，以字典的形式表示：\n",
    " \n",
    "student = {\n",
    "    'id': '20170101',\n",
    "    'name': 'Jordan',\n",
    "    'age': 20,\n",
    "    'gender': 'male'\n",
    "}\n",
    "# 在这里我们指定了学生的学号、姓名、年龄和性别，然后接下来直接调用collection的insert()方法即可插入数据。\n",
    " \n",
    "result = collection.insert_one(student)\n",
    "print(result)\n",
    "# 运行结果：\n"
   ]
  },
  {
   "cell_type": "markdown",
   "metadata": {},
   "source": [
    "- 在MongoDB中，每条数据其实都有一个_id属性来唯一标识，如果没有显式指明_id，MongoDB会自动产生一个ObjectId类型的_id属性。\n",
    "- insert()方法会在执行后返回的_id值。"
   ]
  },
  {
   "cell_type": "markdown",
   "metadata": {},
   "source": [
    "> - 实际上在PyMongo 3.X版本中，insert()方法官方已经不推荐使用了，当然继续使用也没有什么问题，\n",
    "- 官方推荐使用insert_one()和insert_many()方法将插入单条和多条记录分开。"
   ]
  },
  {
   "cell_type": "code",
   "execution_count": 12,
   "metadata": {},
   "outputs": [
    {
     "name": "stdout",
     "output_type": "stream",
     "text": [
      "<pymongo.results.InsertManyResult object at 0x000001C87278CA88>\n"
     ]
    }
   ],
   "source": [
    "# 当然我们也可以同时插入多条数据，只需要以列表形式传递即可，示例如下：\n",
    " \n",
    "student1 = {\n",
    "    'id': '20170101',\n",
    "    'name': 'Jordan',\n",
    "    'age': 20,\n",
    "    'gender': 'male'\n",
    "}\n",
    " \n",
    "student2 = {\n",
    "    'id': '20170202',\n",
    "    'name': 'Mike',\n",
    "    'age': 21,\n",
    "    'gender': 'male'\n",
    "}\n",
    " \n",
    "result = collection.insert_many([student1, student2])\n",
    "print(result)\n",
    "# 返回的结果是对应的_id的集合，运行结果："
   ]
  },
  {
   "cell_type": "markdown",
   "metadata": {},
   "source": [
    "### 2.4查询\n",
    "\n",
    "> 插入数据后我们可以利用find_one()或find()方法进行查询，find_one()查询得到是单个结果，find()则返回多个结果。"
   ]
  },
  {
   "cell_type": "code",
   "execution_count": 14,
   "metadata": {},
   "outputs": [
    {
     "name": "stdout",
     "output_type": "stream",
     "text": [
      "<class 'dict'>\n",
      "{'_id': ObjectId('5c2f2b900cf63e2e08407598'), 'id': '20170202', 'name': 'Mike', 'age': 21, 'gender': 'male'}\n"
     ]
    }
   ],
   "source": [
    "# 在这里我们查询name为Mike的数据，它的返回结果是字典类型，运行结果：\n",
    "# <class'dict'>\n",
    "# {'_id': ObjectId('5c2f2b900cf63e2e08407598'), 'id': '20170202', 'name': 'Mike', 'age': 21, 'gender': 'male'}\n",
    "# 可以发现它多了一个_id属性，这就是MongoDB在插入的过程中自动添加的。\n",
    "\n",
    "result = collection.find_one({'name': 'Mike'})\n",
    "print(type(result))\n",
    "print(result)"
   ]
  },
  {
   "cell_type": "markdown",
   "metadata": {},
   "source": [
    "### 我们也可以直接根据ObjectId来查询，这里需要使用bson库里面的ObjectId。"
   ]
  },
  {
   "cell_type": "code",
   "execution_count": 17,
   "metadata": {},
   "outputs": [
    {
     "name": "stdout",
     "output_type": "stream",
     "text": [
      "{'_id': ObjectId('5c2f2b900cf63e2e08407598'), 'id': '20170202', 'name': 'Mike', 'age': 21, 'gender': 'male'}\n"
     ]
    }
   ],
   "source": [
    "from bson.objectid import ObjectId\n",
    " \n",
    "result = collection.find_one({'_id': ObjectId('5c2f2b900cf63e2e08407598')})\n",
    "print(result)\n",
    "# 其查询结果依然是字典类型，运行结果："
   ]
  },
  {
   "cell_type": "markdown",
   "metadata": {},
   "source": [
    "### 对于多条数据的查询，我们可以使用find()方法，例如在这里查找年龄为20的数据，示例如下："
   ]
  },
  {
   "cell_type": "code",
   "execution_count": 19,
   "metadata": {},
   "outputs": [
    {
     "name": "stdout",
     "output_type": "stream",
     "text": [
      "<pymongo.cursor.Cursor object at 0x000001C872A77470>\n",
      "{'_id': ObjectId('5c2f2a0a0cf63e43645e7931'), 'id': '20170101', 'name': 'Jordan', 'age': 20, 'gender': 'male'}\n",
      "{'_id': ObjectId('5c2f2a280cf63e291ce097bb'), 'id': '20170101', 'name': 'Jordan', 'age': 20, 'gender': 'male'}\n",
      "{'_id': ObjectId('5c2f2b900cf63e2e08407596'), 'id': '20170101', 'name': 'Jordan', 'age': 20, 'gender': 'male'}\n",
      "{'_id': ObjectId('5c2f2b900cf63e2e08407597'), 'id': '20170101', 'name': 'Jordan', 'age': 20, 'gender': 'male'}\n",
      "{'_id': ObjectId('5c2f2ece0cf63e27d42a9f98'), 'id': '20170101', 'name': 'Jordan', 'age': 20, 'gender': 'male'}\n",
      "{'_id': ObjectId('5c2f2eda0cf63e27d42a9f99'), 'id': '20170101', 'name': 'Jordan', 'age': 20, 'gender': 'male'}\n",
      "{'_id': ObjectId('5c2f2f250cf63e27d42a9f9a'), 'id': '20170101', 'name': 'Jordan', 'age': 20, 'gender': 'male'}\n",
      "{'_id': ObjectId('5c2f2f4e0cf63e27d42a9f9b'), 'id': '20170101', 'name': 'Jordan', 'age': 20, 'gender': 'male'}\n",
      "{'_id': ObjectId('5c2f2f530cf63e27d42a9f9d'), 'id': '20170101', 'name': 'Jordan', 'age': 20, 'gender': 'male'}\n"
     ]
    }
   ],
   "source": [
    "results = collection.find({'age': 20})\n",
    "print(results)\n",
    "for result in results:\n",
    "    print(result)\n",
    "# 运行结果："
   ]
  },
  {
   "cell_type": "markdown",
   "metadata": {},
   "source": [
    "### 如果要查询年龄大于20的数据，则写法如下："
   ]
  },
  {
   "cell_type": "code",
   "execution_count": 24,
   "metadata": {},
   "outputs": [
    {
     "name": "stdout",
     "output_type": "stream",
     "text": [
      "<pymongo.cursor.Cursor object at 0x000001C872B16780>\n",
      "{'_id': ObjectId('5c2f2b900cf63e2e08407598'), 'id': '20170202', 'name': 'Mike', 'age': 21, 'gender': 'male'}\n",
      "{'_id': ObjectId('5c2f2f4e0cf63e27d42a9f9c'), 'id': '20170202', 'name': 'Mike', 'age': 21, 'gender': 'male'}\n",
      "{'_id': ObjectId('5c2f2f530cf63e27d42a9f9e'), 'id': '20170202', 'name': 'Mike', 'age': 21, 'gender': 'male'}\n"
     ]
    }
   ],
   "source": [
    "# 在这里将比较符号归纳如下表：\n",
    "\"\"\"\n",
    "符号含义示例\n",
    "$lt小于{'age': {'$lt': 20}}\n",
    "$gt大于{'age': {'$gt': 20}}\n",
    "$lte小于等于{'age': {'$lte': 20}}\n",
    "$gte大于等于{'age': {'$gte': 20}}\n",
    "$ne不等于{'age': {'$ne': 20}}\n",
    "$in在范围内{'age': {'$in': [20, 23]}}\n",
    "$nin不在范围内{'age': {'$nin': [20, 23]}}\n",
    "\"\"\"\n",
    "\n",
    "results = collection.find({'age': {'$gt': 20}})\n",
    "# 在这里查询的条件键值已经不是单纯的数字了，而是一个字典，其键名为比较符号$gt，意思是大于，键值为20，这样便可以查询出所有\n",
    "# 年龄大于20的数据。\n",
    "\n",
    "print(results)\n",
    "for result in results:\n",
    "    print(result)"
   ]
  },
  {
   "cell_type": "code",
   "execution_count": 25,
   "metadata": {},
   "outputs": [
    {
     "name": "stdout",
     "output_type": "stream",
     "text": [
      "<pymongo.cursor.Cursor object at 0x000001C872B16630>\n",
      "{'_id': ObjectId('5c2f2b900cf63e2e08407598'), 'id': '20170202', 'name': 'Mike', 'age': 21, 'gender': 'male'}\n",
      "{'_id': ObjectId('5c2f2f4e0cf63e27d42a9f9c'), 'id': '20170202', 'name': 'Mike', 'age': 21, 'gender': 'male'}\n",
      "{'_id': ObjectId('5c2f2f530cf63e27d42a9f9e'), 'id': '20170202', 'name': 'Mike', 'age': 21, 'gender': 'male'}\n"
     ]
    }
   ],
   "source": [
    "# 另外还可以进行正则匹配查询，例如查询名字以M开头的学生数据，示例如下：\n",
    " \n",
    "results = collection.find({'name': {'$regex': '^M.*'}})\n",
    "# 在这里使用了$regex来指定正则匹配，^M.*代表以M开头的正则表达式，这样就可以查询所有符合该正则的结果。\n",
    " \n",
    "# 在这里将一些功能符号再归类如下：\n",
    "\"\"\"\n",
    "符号含义示例示例含义\n",
    "$regex匹配正则{'name': {'$regex': '^M.*'}}name以M开头\n",
    "$exists属性是否存在{'name': {'$exists': True}}name属性存在\n",
    "$type类型判断{'age': {'$type': 'int'}}age的类型为int\n",
    "$mod数字模操作{'age': {'$mod': [5, 0]}}年龄模5余0\n",
    "$text文本查询{'$text': {'$search': 'Mike'}}text类型的属性中包含Mike字符串\n",
    "$where高级条件查询{'$where': 'obj.fans_count == obj.follows_count'}自身粉丝数等于关注数\n",
    "\"\"\"\n",
    "# 这些操作的更详细用法在可以在MongoDB官方文档找到：\n",
    "# https://docs.mongodb.com/manual/reference/operator/query/\n",
    "\n",
    "print(results)\n",
    "for result in results:\n",
    "    print(result)"
   ]
  },
  {
   "cell_type": "markdown",
   "metadata": {},
   "source": [
    "### 2.5计数"
   ]
  },
  {
   "cell_type": "code",
   "execution_count": 40,
   "metadata": {},
   "outputs": [
    {
     "name": "stdout",
     "output_type": "stream",
     "text": [
      "12\n",
      "9\n"
     ]
    }
   ],
   "source": [
    "# 要统计查询结果有多少条数据，可以调用count()方法，如统计所有数据条数：\n",
    "# 要统计查询结果有多少条数据，可以调用count()方法，如统计所有数据条数：\n",
    " \n",
    "count = collection.count_documents({})\n",
    "print(count)\n",
    "# 或者统计符合某个条件的数据：\n",
    " \n",
    "count = collection.count_documents({'age': 20})\n",
    "print(count)"
   ]
  },
  {
   "cell_type": "markdown",
   "metadata": {},
   "source": [
    "### 2.6排序"
   ]
  },
  {
   "cell_type": "code",
   "execution_count": 41,
   "metadata": {},
   "outputs": [
    {
     "name": "stdout",
     "output_type": "stream",
     "text": [
      "['Jordan', 'Jordan', 'Jordan', 'Jordan', 'Jordan', 'Jordan', 'Jordan', 'Jordan', 'Jordan', 'Mike', 'Mike', 'Mike']\n"
     ]
    }
   ],
   "source": [
    "# 可以调用sort方法，传入排序的字段及升降序标志即可，示例如下：\n",
    " \n",
    "results = collection.find().sort('name', pymongo.ASCENDING)\n",
    "print([result['name'] for result in results])\n",
    "# 运行结果：\n",
    " \n",
    "# ['Harden', 'Jordan', 'Kevin', 'Mark', 'Mike']"
   ]
  },
  {
   "cell_type": "code",
   "execution_count": 42,
   "metadata": {},
   "outputs": [
    {
     "name": "stdout",
     "output_type": "stream",
     "text": [
      "['Jordan', 'Jordan', 'Jordan', 'Jordan', 'Jordan', 'Jordan', 'Jordan', 'Mike', 'Mike', 'Mike']\n",
      "['Jordan', 'Jordan']\n"
     ]
    }
   ],
   "source": [
    "# 偏移,可能想只取某几个元素，在这里可以利用skip()方法偏移几个位置，比如偏移2，就忽略前2个元素，得到第三个及以后的元素。\n",
    " \n",
    "results = collection.find().sort('name', pymongo.ASCENDING).skip(2)\n",
    "print([result['name'] for result in results])\n",
    "# 运行结果：\n",
    "# ['Kevin', 'Mark', 'Mike']\n",
    "# 另外还可以用limit()方法指定要取的结果个数，示例如下：\n",
    " \n",
    "results = collection.find().sort('name', pymongo.ASCENDING).skip(2).limit(2)\n",
    "print([result['name'] for result in results])\n",
    "# 运行结果：\n",
    "# ['Kevin', 'Mark']\n",
    "# 如果不加limit()原本会返回三个结果，加了限制之后，会截取2个结果返回。\n",
    " \n",
    "# 值得注意的是，在数据库数量非常庞大的时候，如千万、亿级别，最好不要使用大的偏移量来查询数据，很可能会导致内存溢出，\n",
    "# 可以使用类似find({'_id': {'$gt': ObjectId('593278c815c2602678bb2b8d')}}) 这样的方法来查询，记录好上次查询的_id"
   ]
  },
  {
   "cell_type": "markdown",
   "metadata": {},
   "source": [
    "### 2.7更新"
   ]
  },
  {
   "cell_type": "code",
   "execution_count": 60,
   "metadata": {
    "slideshow": {
     "slide_type": "fragment"
    }
   },
   "outputs": [
    {
     "name": "stdout",
     "output_type": "stream",
     "text": [
      "{'_id': ObjectId('5c2f2b900cf63e2e08407598'), 'id': '20170202', 'name': 'Mike', 'age': 28, 'gender': 'male'}\n",
      "<pymongo.results.UpdateResult object at 0x000001C872B95FC8>\n",
      "<pymongo.results.UpdateResult object at 0x000001C872B95E88>\n",
      "1 1\n",
      "<pymongo.results.UpdateResult object at 0x000001C872B951C8>\n",
      "1 1\n",
      "<pymongo.results.UpdateResult object at 0x000001C872B95E88>\n",
      "3 3\n"
     ]
    }
   ],
   "source": [
    "# 对于数据更新可以使用update()方法，指定更新的条件和更新后的数据即可，例如：\n",
    "\n",
    "condition = {'id': '20170202'}\n",
    "student = collection.find_one(condition)\n",
    "print(student)\n",
    "student['age'] = 25\n",
    "result = collection.update_one(condition, {'$set':student})\n",
    "print(result)\n",
    "\n",
    "# 在这里我们将name为Kevin的数据的年龄进行更新，首先指定查询条件，然后将数据查询出来，修改年龄，\n",
    "# 之后调用update方法将原条件和修改后的数据传入，即可完成数据的更新。\n",
    " \n",
    "# 运行结果：\n",
    " \n",
    "# {'ok': 1, 'nModified': 1, 'n': 1, 'updatedExisting': True}\n",
    "# 返回结果是字典形式，ok即代表执行成功，nModified代表影响的数据条数。\n",
    " \n",
    "# 另外update()方法其实也是官方不推荐使用的方法，在这里也分了update_one()方法和update_many()方法，用法更加严格，\n",
    "# 第二个参数需要使用$类型操作符作为字典的键名，我们用示例感受一下。\n",
    "\n",
    "condition = {'name': 'Mike'}\n",
    "student = collection.find_one(condition)\n",
    "student['age'] = 26\n",
    "result = collection.update_one(condition, {'$set': student})\n",
    "print(result)\n",
    "print(result.matched_count, result.modified_count)\n",
    "# 在这里调用了update_one方法，第二个参数不能再直接传入修改后的字典，而是需要使用{'$set': student}这样的形式，\n",
    "# 其返回结果是UpdateResult类型，然后调用matched_count和modified_count属性分别可以获得匹配的数据条数和影响的数据条数。\n",
    " \n",
    "# 运行结果：\n",
    "#\n",
    "# <pymongo.results.UpdateResult object at 0x10d17b678>\n",
    "# 1 0\n",
    "# 我们再看一个例子：\n",
    " \n",
    "condition = {'age': {'$gt': 20}}\n",
    "result = collection.update_one(condition, {'$inc': {'age': 1}})\n",
    "print(result)\n",
    "print(result.matched_count, result.modified_count)\n",
    "# 在这里我们指定查询条件为年龄大于20，然后更新条件为{'$inc': {'age': 1}}，执行之后会讲第一条符合条件的数据年龄加1。\n",
    " \n",
    "# 运行结果：\n",
    "#\n",
    "# <pymongo.results.UpdateResult object at 0x10b8874c8>\n",
    "# 1 1\n",
    "# 可以看到匹配条数为1条，影响条数也为1条。\n",
    " \n",
    "# 如果调用update_many()方法，则会将所有符合条件的数据都更新，示例如下：\n",
    " \n",
    "condition = {'age': {'$gt': 20}}\n",
    "result = collection.update_many(condition, {'$inc': {'age': 1}})\n",
    "print(result)\n",
    "print(result.matched_count, result.modified_count)\n",
    "# 这时候匹配条数就不再为1条了，运行结果如下：\n",
    "#\n",
    "# <pymongo.results.UpdateResult object at 0x10c6384c8>\n",
    "# 3 3\n",
    "# 可以看到这时所有匹配到的数据都会被更新。"
   ]
  },
  {
   "cell_type": "code",
   "execution_count": null,
   "metadata": {},
   "outputs": [],
   "source": [
    "# 删除\n",
    "# 删除操作比较简单，直接调用remove()方法指定删除的条件即可，符合条件的所有数据均会被删除，示例如下：\n",
    " \n",
    "result = collection.remove({'name': 'Kevin'})\n",
    "print(result)\n",
    "# 运行结果：\n",
    "#\n",
    "# {'ok': 1, 'n': 1}\n",
    "# 另外依然存在两个新的推荐方法，delete_one()和delete_many()方法，示例如下：\n",
    " \n",
    "result = collection.delete_one({'name': 'Kevin'})\n",
    "print(result)\n",
    "print(result.deleted_count)\n",
    "result = collection.delete_many({'age': {'$lt': 25}})\n",
    "print(result.deleted_count)\n",
    "# 运行结果：\n",
    " \n",
    "# <pymongo.results.DeleteResult object at 0x10e6ba4c8>\n",
    "# 1\n",
    "# 4\n",
    "# delete_one()即删除第一条符合条件的数据，delete_many()即删除所有符合条件的数据，返回结果是DeleteResult类型，\n",
    "# 可以调用deleted_count属性获取删除的数据条数。\n",
    " \n",
    "# 更多\n",
    "# 另外PyMongo还提供了一些组合方法，如find_one_and_delete()、find_one_and_replace()、find_one_and_update()，\n",
    "# 就是查找后删除、替换、更新操作，用法与上述方法基本一致。\n",
    " \n",
    "# 另外还可以对索引进行操作，如create_index()、create_indexes()、drop_index()等。\n",
    " \n",
    "# 详细用法可以参见官方文档：http://api.mongodb.com/python/current/api/pymongo/collection.html\n",
    " \n",
    "# 另外还有对数据库、集合本身以及其他的一些操作，在这不再一一讲解，可以参见\n",
    "# 官方文档：http://api.mongodb.com/python/current/api/pymongo/"
   ]
  }
 ],
 "metadata": {
  "kernelspec": {
   "display_name": "Python 3",
   "language": "python",
   "name": "python3"
  },
  "language_info": {
   "codemirror_mode": {
    "name": "ipython",
    "version": 3
   },
   "file_extension": ".py",
   "mimetype": "text/x-python",
   "name": "python",
   "nbconvert_exporter": "python",
   "pygments_lexer": "ipython3",
   "version": "3.7.0"
  }
 },
 "nbformat": 4,
 "nbformat_minor": 2
}
