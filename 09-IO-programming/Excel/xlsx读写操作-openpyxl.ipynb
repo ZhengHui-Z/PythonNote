{
 "cells": [
  {
   "cell_type": "markdown",
   "metadata": {},
   "source": [
    "# openpyxl之读取xlsx\n",
    "\n",
    "1、基本概念\n",
    "\n",
    "在openpyxl中，主要用到三个概念：Workbooks，Sheets，Cells。\n",
    "\n",
    "- Workbook就是一个excel工作表；\n",
    "- Sheet是工作表中的一张表页；\n",
    "- Cell就是简单的一个格。\n",
    "\n",
    "openpyxl就是围绕着这三个概念进行的，不管读写都是“三板斧”：打开Workbook，定位Sheet，操作Cell。下面分读和写分别介绍几个常见的方法。"
   ]
  },
  {
   "cell_type": "markdown",
   "metadata": {},
   "source": [
    "![](page1.png)"
   ]
  },
  {
   "cell_type": "markdown",
   "metadata": {},
   "source": [
    "### 文件加载\n",
    "\n",
    "通过openpyxl.load_workbook()方法加载已经存在的xlsx文件"
   ]
  },
  {
   "cell_type": "code",
   "execution_count": 2,
   "metadata": {},
   "outputs": [
    {
     "name": "stdout",
     "output_type": "stream",
     "text": [
      "<Worksheet \"双到表(村)\"> utf-8 ['双到表(村)']\n"
     ]
    }
   ],
   "source": [
    "# 读取xlsx文件\n",
    "import openpyxl\n",
    "import sys\n",
    "\n",
    "excel = openpyxl.load_workbook(\"data.xlsx\")\n",
    "\n",
    "print(excel.active, excel.encoding, excel.sheetnames)"
   ]
  },
  {
   "cell_type": "markdown",
   "metadata": {},
   "source": [
    "### Workbook对象提供了很多属性和方法，其中，大部分方法都与sheet有关，部分属性如下：\n",
    "\n",
    "- active：获取当前活跃的Worksheet\n",
    "- worksheets：以列表的形式返回所有的Worksheet(表格)\n",
    "- read_only：判断是否以read_only模式打开Excel文档\n",
    "- encoding：获取文档的字符集编码\n",
    "- properties：获取文档的元数据，如标题，创建者，创建日期等\n",
    "- sheetnames：获取工作簿中的表（列表）"
   ]
  },
  {
   "cell_type": "markdown",
   "metadata": {},
   "source": [
    "### 获取单元格内容"
   ]
  },
  {
   "cell_type": "code",
   "execution_count": 72,
   "metadata": {},
   "outputs": [
    {
     "name": "stdout",
     "output_type": "stream",
     "text": [
      "因病  :  0.5669642857142857\n",
      "因学  :  0.26785714285714285\n",
      "缺技术  :  0.026785714285714284\n",
      "自身发展动力不  :  0.013392857142857142\n",
      "因残  :  0.09821428571428571\n",
      "缺劳力  :  0.008928571428571428\n",
      "缺资金  :  0.013392857142857142\n",
      "因灾  :  0.004464285714285714\n",
      "总计： 0.9999999999999999\n"
     ]
    }
   ],
   "source": [
    "sheet = excel['双到表(村)']\n",
    "# a = sheet.cell(11, 4).value.split(\"、\")\n",
    "\n",
    "ans = {}\n",
    "\n",
    "for i in range(7,203+1):\n",
    "    a = sheet.cell(i, 4).value.split(\"、\")\n",
    "    for j in a:\n",
    "        if j in ans.keys():\n",
    "            ans[j.strip()] += 1\n",
    "        else:\n",
    "            ans[j.strip()] = 1\n",
    "\n",
    "s = 0\n",
    "for i in ans.keys():\n",
    "    s += ans[i]\n",
    "\n",
    "b = 0\n",
    "for i in ans.keys():\n",
    "    print(i,\" : \",ans[i]/s)\n",
    "    b += ans[i]/s\n",
    "\n",
    "print(\"总计：\", b)"
   ]
  },
  {
   "cell_type": "markdown",
   "metadata": {},
   "source": [
    "### 获得最大行和最大列"
   ]
  },
  {
   "cell_type": "code",
   "execution_count": 91,
   "metadata": {},
   "outputs": [
    {
     "name": "stdout",
     "output_type": "stream",
     "text": [
      "6\n",
      "2\n"
     ]
    }
   ],
   "source": [
    "print(sheet.max_row)\n",
    "print(sheet.max_column)"
   ]
  },
  {
   "cell_type": "markdown",
   "metadata": {},
   "source": [
    "### 获取行和列"
   ]
  },
  {
   "cell_type": "code",
   "execution_count": 96,
   "metadata": {},
   "outputs": [
    {
     "name": "stdout",
     "output_type": "stream",
     "text": [
      "(<Cell 'page1'.A1>, <Cell 'page1'.B1>)\n",
      "hello\n",
      "world\n",
      "(<Cell 'page1'.A2>, <Cell 'page1'.B2>)\n",
      "1\n",
      "2\n",
      "(<Cell 'page1'.A3>, <Cell 'page1'.B3>)\n",
      "3\n",
      "4\n",
      "(<Cell 'page1'.A4>, <Cell 'page1'.B4>)\n",
      "5\n",
      "6\n",
      "(<Cell 'page1'.A5>, <Cell 'page1'.B5>)\n",
      "7\n",
      "8\n",
      "(<Cell 'page1'.A6>, <Cell 'page1'.B6>)\n",
      "9\n",
      "0\n"
     ]
    }
   ],
   "source": [
    "for row in sheet.rows:\n",
    "    print(row)\n",
    "    for cell in row:\n",
    "        print(cell.value)"
   ]
  },
  {
   "cell_type": "code",
   "execution_count": 98,
   "metadata": {},
   "outputs": [
    {
     "name": "stdout",
     "output_type": "stream",
     "text": [
      "1\n",
      "2\n"
     ]
    }
   ],
   "source": [
    "for cell in list(sheet.rows)[1]:\n",
    "    print(cell.value)"
   ]
  },
  {
   "cell_type": "markdown",
   "metadata": {},
   "source": [
    "# openpyxl之生成xlsx\n",
    "\n",
    "生成xlsx文件需要导入openpyxlWorkBook模块"
   ]
  },
  {
   "cell_type": "code",
   "execution_count": 153,
   "metadata": {},
   "outputs": [],
   "source": [
    "from openpyxl import Workbook\n",
    "\n",
    "wb = Workbook() #这样就新建了一个新的工作表（只是还没被保存）"
   ]
  },
  {
   "cell_type": "code",
   "execution_count": 160,
   "metadata": {},
   "outputs": [
    {
     "name": "stdout",
     "output_type": "stream",
     "text": [
      "['Sheet', 'Data']\n",
      "['Sheet', 'Data']\n"
     ]
    }
   ],
   "source": [
    "print(wb.sheetnames) # 提供一个默认名叫Sheet的表，office2016下新建提供默认Sheet1\n",
    "\n",
    "sheet.title = 'Sheet1'\n",
    "# 新建一个工作表，可以指定索引，适当安排其在工作簿中的位置\n",
    "\n",
    "print(wb.sheetnames)\n",
    "\n",
    "wb.create_sheet('Data', index=1)  # 被安排到第二个工作表，index=0就是第一个位置\n",
    "\n",
    "# 删除某个工作表\n",
    "# wb.remove('Data')\n",
    "del wb['Data']"
   ]
  },
  {
   "cell_type": "markdown",
   "metadata": {},
   "source": [
    "### 写入单元格"
   ]
  },
  {
   "cell_type": "code",
   "execution_count": null,
   "metadata": {},
   "outputs": [],
   "source": [
    "# 直接给单元格赋值就行\n",
    "sheet['A1'] = 'good'\n",
    "# B9处写入平均值\n",
    "sheet['B9'] = '=AVERAGE(B2:B8)'"
   ]
  }
 ],
 "metadata": {
  "kernelspec": {
   "display_name": "Python 3",
   "language": "python",
   "name": "python3"
  },
  "language_info": {
   "codemirror_mode": {
    "name": "ipython",
    "version": 3
   },
   "file_extension": ".py",
   "mimetype": "text/x-python",
   "name": "python",
   "nbconvert_exporter": "python",
   "pygments_lexer": "ipython3",
   "version": "3.7.0"
  }
 },
 "nbformat": 4,
 "nbformat_minor": 2
}
