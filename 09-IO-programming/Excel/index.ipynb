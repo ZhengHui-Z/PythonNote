{
 "cells": [
  {
   "cell_type": "markdown",
   "metadata": {},
   "source": [
    "# Working with Excel Files in Python\n",
    "\n",
    "\n",
    "> 关于excel兼容性简介：（建议放弃xls而转型xlsx）\n",
    "- xls格式和xlsx格式： xls是Excel 97-2003版的格式，xlsx是Excel 2007之后版本创建的格式。两种版本在保存时编码不一样。而且Excel 2007之后的版本增加了新的系统函数，更加方便和实用。具体区别如下表：\n",
    "\n",
    "|xls|xlsx|\n",
    "|:-|:-|\n",
    "|97-2003版|2007之后版|\n",
    "|只能打开xls格式，无法直接打开xlsx格式\t|可以直接打开xls、xlsx格式|\n",
    "|只有65536行、256列\t|可以有1048576行、16384列|\n",
    "|占用空间大|\t占用空间小，运算速度也会快一点|\n",
    "\n",
    "目前没有python库能同时对xls和xlsx格式进行读写操作，下面介绍一些相关的Python第三方库：\n",
    "\n",
    "### [openpyxl](xlsx读写操作-openpyxl.ipynb)\n",
    "\n",
    "推荐！！！一个用于对2010 excel文件进行读写操作的第三方库 (ie: .xlsx)\n",
    "\n",
    "[Download](http://pypi.python.org/pypi/openpyxl) | [Documentation](https://openpyxl.readthedocs.org/) | [Bitbucket](https://bitbucket.org/openpyxl/openpyxl)\n",
    "\n",
    "### xlsxwriter\n",
    "\n",
    "可用于Excel 2010 于编写数据、格式化信息，特别是Excel 2010格式的图表 (ie: .xlsx)\n",
    "\n",
    "[Download](https://pypi.python.org/pypi/XlsxWriter) | [Documentation](https://xlsxwriter.readthedocs.org/) | [GitHub](https://github.com/jmcnamara/XlsxWriter)\n",
    "\n",
    "### xlrd\n",
    "\n",
    "这个包用于从旧的Excel文件中读取数据和格式化信息 (ie: .xls)\n",
    "\n",
    "[Download](http://pypi.python.org/pypi/xlrd) | [Documentation](http://xlrd.readthedocs.io/en/latest/) | [GitHub](https://github.com/python-excel/xlrd)\n",
    "\n",
    "### [xlwt](xlwt之生成xls文件.ipynb)\n",
    "\n",
    "这个包用于向旧的Excel文件写入数据和格式化信息 (ie: .xls)\n",
    "\n",
    "[Download](http://pypi.python.org/pypi/xlutils) | [Documentation](http://xlwt.readthedocs.io/en/latest/) | [Examples](https://github.com/python-excel/xlwt/tree/master/examples) | [GitHub](https://github.com/python-excel/xlwt)"
   ]
  }
 ],
 "metadata": {
  "kernelspec": {
   "display_name": "Python 3",
   "language": "python",
   "name": "python3"
  },
  "language_info": {
   "codemirror_mode": {
    "name": "ipython",
    "version": 3
   },
   "file_extension": ".py",
   "mimetype": "text/x-python",
   "name": "python",
   "nbconvert_exporter": "python",
   "pygments_lexer": "ipython3",
   "version": "3.6.6"
  }
 },
 "nbformat": 4,
 "nbformat_minor": 2
}
