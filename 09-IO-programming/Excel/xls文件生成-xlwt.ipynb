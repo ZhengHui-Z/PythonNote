{
 "cells": [
  {
   "cell_type": "code",
   "execution_count": 1,
   "metadata": {},
   "outputs": [],
   "source": [
    "import xlwt\n",
    "\n",
    "import xlrd"
   ]
  },
  {
   "cell_type": "code",
   "execution_count": 2,
   "metadata": {},
   "outputs": [],
   "source": [
    "import xlwt\n",
    "from xlwt import Workbook\n",
    "\n",
    "book = Workbook(encoding='utf-8')\n",
    "\n",
    "sheet1 = book.add_sheet('啦啦啦啦啦啦啦啦啦')\n",
    "\n",
    "sheet1.write(0,0,\"我是第一行第一列\")\n",
    "sheet1.write(0,1,\"我是第一行第二列\")\n",
    "\n",
    "sheet1.write(1,0,\"我是第2行第一列\")\n",
    "sheet1.write(1,1,\"我是第2行第二列\")\n",
    "\n",
    "# 保存Excel book.save('path/文件名称.xls')\n",
    "book.save('simple.xls')\n"
   ]
  }
 ],
 "metadata": {
  "kernelspec": {
   "display_name": "Python 3",
   "language": "python",
   "name": "python3"
  },
  "language_info": {
   "codemirror_mode": {
    "name": "ipython",
    "version": 3
   },
   "file_extension": ".py",
   "mimetype": "text/x-python",
   "name": "python",
   "nbconvert_exporter": "python",
   "pygments_lexer": "ipython3",
   "version": "3.7.0"
  }
 },
 "nbformat": 4,
 "nbformat_minor": 2
}
