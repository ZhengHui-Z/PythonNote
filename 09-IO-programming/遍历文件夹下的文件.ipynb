{
 "cells": [
  {
   "cell_type": "markdown",
   "metadata": {},
   "source": [
    "### python遍历文件夹下的文件\n",
    "\n",
    "> 在读文件的时候往往需要遍历文件夹，python的os.path包含了很多文件、文件夹操作的方法。下面列出：\n",
    "\n",
    "```\n",
    "os.path.abspath(path) #返回绝对路径\n",
    "os.path.basename(path) #返回文件名\n",
    "os.path.commonprefix(list) #返回多个路径中，所有path共有的最长的路径。\n",
    "os.path.dirname(path) #返回文件路径\n",
    "os.path.exists(path)  #路径存在则返回True,路径损坏返回False\n",
    "os.path.lexists  #路径存在则返回True,路径损坏也返回True\n",
    "os.path.expanduser(path)  #把path中包含的\"~\"和\"~user\"转换成用户目录\n",
    "os.path.expandvars(path)  #根据环境变量的值替换path中包含的”$name”和”${name}”\n",
    "os.path.getatime(path)  #返回最后一次进入此path的时间。\n",
    "os.path.getmtime(path)  #返回在此path下最后一次修改的时间。\n",
    "os.path.getctime(path)  #返回path的大小\n",
    "os.path.getsize(path)  #返回文件大小，如果文件不存在就返回错误\n",
    "os.path.isabs(path)  #判断是否为绝对路径\n",
    "os.path.isfile(path)  #判断路径是否为文件\n",
    "os.path.isdir(path)  #判断路径是否为目录\n",
    "os.path.islink(path)  #判断路径是否为链接\n",
    "os.path.ismount(path)  #判断路径是否为挂载点（）\n",
    "os.path.join(path1[, path2[, ...]])  #把目录和文件名合成一个路径\n",
    "os.path.normcase(path)  #转换path的大小写和斜杠\n",
    "os.path.normpath(path)  #规范path字符串形式\n",
    "os.path.realpath(path)  #返回path的真实路径\n",
    "os.path.relpath(path[, start])  #从start开始计算相对路径\n",
    "os.path.samefile(path1, path2)  #判断目录或文件是否相同\n",
    "os.path.sameopenfile(fp1, fp2)  #判断fp1和fp2是否指向同一文件\n",
    "os.path.samestat(stat1, stat2)  #判断stat tuple stat1和stat2是否指向同一个文件\n",
    "os.path.split(path)  #把路径分割成dirname和basename，返回一个元组\n",
    "os.path.splitdrive(path)   #一般用在windows下，返回驱动器名和路径组成的元组\n",
    "os.path.splitext(path)  #分割路径，返回路径名和文件扩展名的元组\n",
    "os.path.splitunc(path)  #把路径分割为加载点与文件\n",
    "os.path.walk(path, visit, arg)  #遍历path，进入每个目录都调用visit函数，visit函数必须有3个参数(arg, dirname, names)，dirname表示当前目录的目录名，names代表当前目录下的所有文件名，args则为walk的第三个参数\n",
    "os.path.supports_unicode_filenames  #设置是否支持unicode路径名\n",
    "```"
   ]
  }
 ],
 "metadata": {
  "kernelspec": {
   "display_name": "Python 3",
   "language": "python",
   "name": "python3"
  },
  "language_info": {
   "codemirror_mode": {
    "name": "ipython",
    "version": 3
   },
   "file_extension": ".py",
   "mimetype": "text/x-python",
   "name": "python",
   "nbconvert_exporter": "python",
   "pygments_lexer": "ipython3",
   "version": "3.7.0"
  }
 },
 "nbformat": 4,
 "nbformat_minor": 2
}
