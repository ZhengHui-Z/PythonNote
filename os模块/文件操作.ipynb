{
 "cells": [
  {
   "cell_type": "code",
   "execution_count": 2,
   "metadata": {},
   "outputs": [],
   "source": [
    "import os"
   ]
  },
  {
   "cell_type": "markdown",
   "metadata": {},
   "source": [
    "# 文件列表\n",
    "\n",
    "判断文件夹和文件\n",
    "> os.path.isdir(path)\n",
    "\n",
    "> os.path.isfile(path)\n",
    "\n"
   ]
  },
  {
   "cell_type": "code",
   "execution_count": 15,
   "metadata": {},
   "outputs": [
    {
     "name": "stdout",
     "output_type": "stream",
     "text": [
      "3.jpg\n",
      "2.jpg\n",
      "5.jpg\n",
      "1.jpg\n",
      "test isdir\n",
      "4.jpg\n"
     ]
    }
   ],
   "source": [
    "path = \"/home/albert/PythonNote/Pytorch/img/\"\n",
    "list = os.listdir(path)\n",
    "\n",
    "for li in list:\n",
    "#     print(path+li)\n",
    "    if os.path.isdir(path+li):\n",
    "        print(li,\"isdir\")\n",
    "    else:\n",
    "        print(li)"
   ]
  }
 ],
 "metadata": {
  "kernelspec": {
   "display_name": "Python 3",
   "language": "python",
   "name": "python3"
  },
  "language_info": {
   "codemirror_mode": {
    "name": "ipython",
    "version": 3
   },
   "file_extension": ".py",
   "mimetype": "text/x-python",
   "name": "python",
   "nbconvert_exporter": "python",
   "pygments_lexer": "ipython3",
   "version": "3.6.4"
  }
 },
 "nbformat": 4,
 "nbformat_minor": 2
}
