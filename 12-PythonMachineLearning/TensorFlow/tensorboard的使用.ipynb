{
 "cells": [
  {
   "cell_type": "code",
   "execution_count": 1,
   "metadata": {},
   "outputs": [],
   "source": [
    "import tensorflow as tf"
   ]
  },
  {
   "cell_type": "code",
   "execution_count": 2,
   "metadata": {},
   "outputs": [],
   "source": [
    "with tf.name_scope('graph') as scope:\n",
    "     matrix1 = tf.constant([[3., 3.]],name ='matrix1')  #1 row by 2 column\n",
    "     matrix2 = tf.constant([[2.],[2.]],name ='matrix2') # 2 row by 1 column\n",
    "     product = tf.matmul(matrix1, matrix2,name='product')\n",
    "  \n",
    "sess = tf.Session()\n",
    "\n",
    "writer = tf.summary.FileWriter(\"logs/\", sess.graph)\n",
    "\n",
    "init = tf.global_variables_initializer()\n",
    "\n",
    "sess.run(init)"
   ]
  },
  {
   "cell_type": "markdown",
   "metadata": {},
   "source": [
    "这里相对于第一篇tensorflow多了一点东西，tf.name_scope函数是作用域名，上述代码斯即在graph作用域op下，又有三个op（分别是matrix1，matrix2，product),用tf函数内部的name参数命名，这样会在tensorboard中显示，具体图像还请看下面。\n",
    "\n",
    "很重要：运行上面的代码，查询当前目录，就可以找到一个新生成的文件，已命名为logs，我们需在终端上运行tensorboard，生成本地链接，具体看我截图，当然你也可以将上面的代码直接生成一个py文档在终端运行，也会在终端当前目录生成一个logs文件，然后运行**tensorboards --logdir logs**指令，就可以生成一个链接，复制那个链接，在google浏览器（我试过火狐也行）粘贴显示，对于tensorboard 中显示的网址打不开的朋友们, 请使用 http://localhost:6006 （如果这个没有成功，我之前没有安装tensorboard，也出现链接，但那个链接点开什么都没有，所以还有一种可能就是你没有安装tensorboard，使用pip install tensorboard安装tensorboard，python3用pip3 install tensorboard"
   ]
  }
 ],
 "metadata": {
  "kernelspec": {
   "display_name": "Python 2",
   "language": "python",
   "name": "python2"
  },
  "language_info": {
   "codemirror_mode": {
    "name": "ipython",
    "version": 2
   },
   "file_extension": ".py",
   "mimetype": "text/x-python",
   "name": "python",
   "nbconvert_exporter": "python",
   "pygments_lexer": "ipython2",
   "version": "2.7.14"
  }
 },
 "nbformat": 4,
 "nbformat_minor": 2
}
