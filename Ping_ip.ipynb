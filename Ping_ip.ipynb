{
 "cells": [
  {
   "cell_type": "code",
   "execution_count": 2,
   "metadata": {},
   "outputs": [
    {
     "name": "stdout",
     "output_type": "stream",
     "text": [
      "backinfo\n",
      "1\n",
      "<class 'int'>\n",
      "no\n",
      "[]\n"
     ]
    }
   ],
   "source": [
    "import os\n",
    "import sys\n",
    "\n",
    "iplist = list()\n",
    "ip = \"172.16.156.123\"\n",
    "# ip = 'www.baidu.com'\n",
    "backinfo = os.system('ping -c 1 -w 1 %s' % ip)  # 实现pingIP地址的功能，-c1指发送报文一次，-w1指等待1秒\n",
    "print ('backinfo')\n",
    "print (backinfo)\n",
    "print (type(backinfo))\n",
    "if backinfo:\n",
    "    print ('no')\n",
    "else:\n",
    "    iplist.append(ip)\n",
    "print (iplist)\n"
   ]
  }
 ],
 "metadata": {
  "kernelspec": {
   "display_name": "Python 3",
   "language": "python",
   "name": "python3"
  },
  "language_info": {
   "codemirror_mode": {
    "name": "ipython",
    "version": 3
   },
   "file_extension": ".py",
   "mimetype": "text/x-python",
   "name": "python",
   "nbconvert_exporter": "python",
   "pygments_lexer": "ipython3",
   "version": "3.6.5"
  }
 },
 "nbformat": 4,
 "nbformat_minor": 2
}
