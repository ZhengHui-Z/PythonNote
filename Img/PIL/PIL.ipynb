{
 "cells": [
  {
   "cell_type": "markdown",
   "metadata": {},
   "source": [
    "PIL中所涉及的基本概念有如下几个：通道（bands）、模式（mode）、尺寸（size）、坐标系统（coordinate system）、调色板（palette）、信息（info）和滤波器（filters）。\n",
    "\n",
    "1、  通道\n",
    "\n",
    "每张图片都是由一个或者多个数据通道构成。PIL允许在单张图片中合成相同维数和深度的多个通道。\n",
    "\n",
    "以RGB图像为例，每张图片都是由三个数据通道构成，分别为R、G和B通道。而对于灰度图像，则只有一个通道。\n",
    "\n",
    "对于一张图片的通道数量和名称，可以通过方法getbands()来获取。方法getbands()是Image模块的方法，它会返回一个字符串元组（tuple）。该元组将包括每一个通道的名称。"
   ]
  },
  {
   "cell_type": "code",
   "execution_count": 19,
   "metadata": {},
   "outputs": [],
   "source": [
    "import numpy as np\n",
    "from PIL import Image\n",
    "import matplotlib.pyplot as plt"
   ]
  },
  {
   "cell_type": "code",
   "execution_count": 13,
   "metadata": {},
   "outputs": [],
   "source": [
    "img = Image.open(\"004.bmp\")"
   ]
  },
  {
   "cell_type": "code",
   "execution_count": 24,
   "metadata": {},
   "outputs": [
    {
     "data": {
      "text/plain": [
       "('L', (72, 1980))"
      ]
     },
     "execution_count": 24,
     "metadata": {},
     "output_type": "execute_result"
    }
   ],
   "source": [
    "img.mode ,img.size"
   ]
  },
  {
   "cell_type": "code",
   "execution_count": 23,
   "metadata": {},
   "outputs": [
    {
     "data": {
      "text/plain": [
       "((1980, 72), dtype('uint8'), array([[255, 100,   0],\n",
       "        [144,   0,   0],\n",
       "        [  1,   0,  40],\n",
       "        [  0,  22, 176],\n",
       "        [  4, 186, 194]], dtype=uint8))"
      ]
     },
     "execution_count": 23,
     "metadata": {},
     "output_type": "execute_result"
    }
   ],
   "source": [
    "data = np.array(img)\n",
    "data.shape,data.dtype,data[121:125+1,5:7+1]"
   ]
  },
  {
   "cell_type": "code",
   "execution_count": 74,
   "metadata": {},
   "outputs": [
    {
     "data": {
      "text/plain": [
       "((1980, 72), dtype('bool'))"
      ]
     },
     "execution_count": 74,
     "metadata": {},
     "output_type": "execute_result"
    }
   ],
   "source": [
    "# 模式“1”为二值图像，非黑即白。但是它每个像素用8个bit表示，0表示黑，255表示白\n",
    "img1 = img.convert(\"1\")\n",
    "data = np.array(img1)\n",
    "data.shape,data.dtype"
   ]
  },
  {
   "cell_type": "code",
   "execution_count": 11,
   "metadata": {},
   "outputs": [
    {
     "data": {
      "text/plain": [
       "((730, 730), array([[228, 228, 228, ..., 228, 228, 228],\n",
       "        [228, 228, 228, ..., 228, 228, 228],\n",
       "        [228, 228, 228, ..., 228, 228, 228],\n",
       "        ..., \n",
       "        [228, 228, 228, ..., 228, 228, 228],\n",
       "        [228, 228, 228, ..., 228, 228, 228],\n",
       "        [228, 228, 228, ..., 228, 228, 228]], dtype=uint8))"
      ]
     },
     "execution_count": 11,
     "metadata": {},
     "output_type": "execute_result"
    }
   ],
   "source": [
    "# 模式“L”为灰色图像，它的每个像素用8个bit表示，0表示黑，255表示白，其他数字表示不同的灰度。\n",
    "# 在PIL中，从模式“RGB”转换为“L”模式是按照下面的公式转换的：\n",
    "# L = R * 299/1000 + G * 587/1000+ B * 114/1000\n",
    "\n",
    "img2 = img.convert(\"L\")\n",
    "img2.show()\n",
    "img2\n",
    "data = np.array(img2)\n",
    "data.shape,data"
   ]
  },
  {
   "cell_type": "code",
   "execution_count": 8,
   "metadata": {},
   "outputs": [
    {
     "data": {
      "text/plain": [
       "((730, 730), array([[189, 218, 189, ..., 218, 189, 218],\n",
       "        [218, 189, 218, ..., 189, 218, 189],\n",
       "        [189, 218, 189, ..., 218, 189, 218],\n",
       "        ..., \n",
       "        [218, 189, 218, ..., 189, 218, 189],\n",
       "        [189, 218, 189, ..., 183, 224, 183],\n",
       "        [218, 189, 218, ..., 224, 183, 224]], dtype=uint8))"
      ]
     },
     "execution_count": 8,
     "metadata": {},
     "output_type": "execute_result"
    }
   ],
   "source": [
    "# 模式“P”为8位彩色图像，它的每个像素用8个bit表示，其对应的彩色值是按照调色板查询出来的。\n",
    "img3 = img.convert(\"P\")\n",
    "img3.show()\n",
    "data = np.array(img3)\n",
    "\n",
    "data.shape,data"
   ]
  },
  {
   "cell_type": "code",
   "execution_count": 61,
   "metadata": {},
   "outputs": [
    {
     "data": {
      "text/plain": [
       "(1980, 72, 4)"
      ]
     },
     "execution_count": 61,
     "metadata": {},
     "output_type": "execute_result"
    }
   ],
   "source": [
    "# 模式“RGBA”为32位彩色图像，它的每个像素用32个bit表示，其中24bit表示红色、绿色和蓝色三个通道，另外8bit表示alpha通道，即透明通道。\n",
    "img4 = img.convert(\"RGBA\")\n",
    "img4.show()\n",
    "data = np.array(img4)\n",
    "data.shape"
   ]
  },
  {
   "cell_type": "code",
   "execution_count": 75,
   "metadata": {},
   "outputs": [
    {
     "data": {
      "text/plain": [
       "(1980, 72, 4)"
      ]
     },
     "execution_count": 75,
     "metadata": {},
     "output_type": "execute_result"
    }
   ],
   "source": [
    "img4 = img.convert(\"RGBA\")\n",
    "img4.show()\n",
    "data = np.array(img4)\n",
    "data.shape"
   ]
  },
  {
   "cell_type": "code",
   "execution_count": 81,
   "metadata": {},
   "outputs": [
    {
     "data": {
      "text/plain": [
       "((1980, 72), array([[255, 255, 255, ..., 255, 255, 255],\n",
       "        [255, 255, 255, ..., 255, 255, 255],\n",
       "        [255, 255, 255, ..., 255, 255, 255],\n",
       "        ..., \n",
       "        [255, 255, 255, ..., 255, 255, 255],\n",
       "        [255, 255, 255, ..., 255, 255, 255],\n",
       "        [255, 255, 255, ..., 255, 255, 255]]))"
      ]
     },
     "execution_count": 81,
     "metadata": {},
     "output_type": "execute_result"
    }
   ],
   "source": [
    "# 模式“I”为32位整型灰色图像，它的每个像素用32个bit表示，0表示黑，255表示白，(0,255)之间的数字表示不同的灰度。\n",
    "# 在PIL中，从模式“RGB”转换为“I”模式是按照下面的公式转换的：\n",
    "# I = R * 299/1000 + G * 587/1000 + B * 114/1000\n",
    "\n",
    "img5 = img.convert(\"I\")\n",
    "data = np.array(img5)\n",
    "data.shape,data"
   ]
  }
 ],
 "metadata": {
  "kernelspec": {
   "display_name": "Python 3",
   "language": "python",
   "name": "python3"
  },
  "language_info": {
   "codemirror_mode": {
    "name": "ipython",
    "version": 3
   },
   "file_extension": ".py",
   "mimetype": "text/x-python",
   "name": "python",
   "nbconvert_exporter": "python",
   "pygments_lexer": "ipython3",
   "version": "3.6.3"
  }
 },
 "nbformat": 4,
 "nbformat_minor": 2
}
