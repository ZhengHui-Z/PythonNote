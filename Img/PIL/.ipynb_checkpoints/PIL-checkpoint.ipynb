{
 "cells": [
  {
   "cell_type": "markdown",
   "metadata": {},
   "source": [
    "PIL中所涉及的基本概念有如下几个：通道（bands）、模式（mode）、尺寸（size）、坐标系统（coordinate system）、调色板（palette）、信息（info）和滤波器（filters）。\n",
    "\n",
    "1、  通道\n",
    "\n",
    "每张图片都是由一个或者多个数据通道构成。PIL允许在单张图片中合成相同维数和深度的多个通道。\n",
    "\n",
    "以RGB图像为例，每张图片都是由三个数据通道构成，分别为R、G和B通道。而对于灰度图像，则只有一个通道。\n",
    "\n",
    "对于一张图片的通道数量和名称，可以通过方法getbands()来获取。方法getbands()是Image模块的方法，它会返回一个字符串元组（tuple）。该元组将包括每一个通道的名称。"
   ]
  },
  {
   "cell_type": "code",
   "execution_count": 11,
   "metadata": {},
   "outputs": [],
   "source": [
    "import numpy as np\n",
    "from PIL import Image\n",
    "import matplotlib.pyplot as plt"
   ]
  },
  {
   "cell_type": "code",
   "execution_count": 5,
   "metadata": {},
   "outputs": [],
   "source": [
    "img = Image.open(\"1.jpg\")"
   ]
  },
  {
   "cell_type": "code",
   "execution_count": 10,
   "metadata": {},
   "outputs": [
    {
     "data": {
      "text/plain": [
       "('RGB', (512, 512))"
      ]
     },
     "execution_count": 10,
     "metadata": {},
     "output_type": "execute_result"
    }
   ],
   "source": [
    "img.mode ,img.size"
   ]
  },
  {
   "cell_type": "code",
   "execution_count": 25,
   "metadata": {},
   "outputs": [
    {
     "data": {
      "text/plain": [
       "((512, 512), array([[ True, False,  True, ..., False,  True, False],\n",
       "        [False,  True, False, ..., False, False, False],\n",
       "        [ True, False,  True, ...,  True, False,  True],\n",
       "        ..., \n",
       "        [False, False, False, ..., False, False, False],\n",
       "        [False, False,  True, ..., False,  True, False],\n",
       "        [False, False, False, ..., False, False, False]], dtype=bool))"
      ]
     },
     "execution_count": 25,
     "metadata": {},
     "output_type": "execute_result"
    }
   ],
   "source": [
    "# 模式“1”为二值图像，非黑即白。但是它每个像素用8个bit表示，0表示黑，255表示白\n",
    "img1 = img.convert(\"1\")\n",
    "data = np.array(img1)\n",
    "data.shape,data"
   ]
  },
  {
   "cell_type": "code",
   "execution_count": 27,
   "metadata": {},
   "outputs": [
    {
     "data": {
      "text/plain": [
       "((512, 512), array([[132, 133, 135, ...,  80,  87,  85],\n",
       "        [131, 133, 136, ...,  83,  86,  81],\n",
       "        [131, 133, 136, ...,  86,  84,  73],\n",
       "        ..., \n",
       "        [ 36,  40,  35, ...,  54,  55,  57],\n",
       "        [ 36,  41,  37, ...,  52,  52,  49],\n",
       "        [ 40,  45,  40, ...,  63,  64,  58]], dtype=uint8))"
      ]
     },
     "execution_count": 27,
     "metadata": {},
     "output_type": "execute_result"
    }
   ],
   "source": [
    "# 模式“L”为灰色图像，它的每个像素用8个bit表示，0表示黑，255表示白，其他数字表示不同的灰度。\n",
    "# 在PIL中，从模式“RGB”转换为“L”模式是按照下面的公式转换的：\n",
    "# L = R * 299/1000 + G * 587/1000+ B * 114/1000\n",
    "\n",
    "img2 = img.convert(\"L\")\n",
    "img2.show()\n",
    "data = np.array(img2)\n",
    "data.shape,data"
   ]
  },
  {
   "cell_type": "code",
   "execution_count": 30,
   "metadata": {},
   "outputs": [
    {
     "data": {
      "text/plain": [
       "((512, 512), array([[ 62,  98,  62, ...,  55,  54,  55],\n",
       "        [ 98,  98, 104, ...,  60,  55,  54],\n",
       "        [ 61,  62,  98, ...,  55,  60,  55],\n",
       "        ..., \n",
       "        [ 11,  53,  11, ...,  53,  54,  53],\n",
       "        [ 53,  53,  47, ...,  12,  53,  53],\n",
       "        [ 47,  17,  53, ...,  54,  54,  53]], dtype=uint8))"
      ]
     },
     "execution_count": 30,
     "metadata": {},
     "output_type": "execute_result"
    }
   ],
   "source": [
    "# 模式“P”为8位彩色图像，它的每个像素用8个bit表示，其对应的彩色值是按照调色板查询出来的。\n",
    "img3 = img.convert(\"P\")\n",
    "img3.show()\n",
    "data = np.array(img3)\n",
    "data.shape,data"
   ]
  },
  {
   "cell_type": "code",
   "execution_count": 40,
   "metadata": {},
   "outputs": [
    {
     "data": {
      "text/plain": [
       "((512, 512, 4), array([[[197, 111,  78, 255],\n",
       "         [198, 112,  79, 255],\n",
       "         [200, 114,  81, 255],\n",
       "         ..., \n",
       "         [123,  65,  45, 255],\n",
       "         [133,  70,  55, 255],\n",
       "         [132,  68,  58, 255]],\n",
       " \n",
       "        [[196, 110,  77, 255],\n",
       "         [198, 112,  79, 255],\n",
       "         [201, 115,  82, 255],\n",
       "         ..., \n",
       "         [126,  68,  48, 255],\n",
       "         [131,  69,  56, 255],\n",
       "         [127,  63,  54, 255]],\n",
       " \n",
       "        [[196, 110,  77, 255],\n",
       "         [198, 112,  79, 255],\n",
       "         [201, 115,  82, 255],\n",
       "         ..., \n",
       "         [130,  71,  53, 255],\n",
       "         [129,  67,  56, 255],\n",
       "         [119,  56,  47, 255]],\n",
       " \n",
       "        ..., \n",
       "        [[ 50,  29,  36, 255],\n",
       "         [ 55,  34,  39, 255],\n",
       "         [ 51,  29,  32, 255],\n",
       "         ..., \n",
       "         [ 78,  44,  43, 255],\n",
       "         [ 79,  45,  44, 255],\n",
       "         [ 83,  47,  47, 255]],\n",
       " \n",
       "        [[ 50,  29,  36, 255],\n",
       "         [ 56,  35,  40, 255],\n",
       "         [ 53,  31,  34, 255],\n",
       "         ..., \n",
       "         [ 77,  43,  41, 255],\n",
       "         [ 77,  43,  41, 255],\n",
       "         [ 74,  39,  37, 255]],\n",
       " \n",
       "        [[ 54,  33,  40, 255],\n",
       "         [ 60,  39,  44, 255],\n",
       "         [ 56,  34,  37, 255],\n",
       "         ..., \n",
       "         [ 88,  54,  52, 255],\n",
       "         [ 89,  55,  53, 255],\n",
       "         [ 83,  48,  46, 255]]], dtype=uint8))"
      ]
     },
     "execution_count": 40,
     "metadata": {},
     "output_type": "execute_result"
    }
   ],
   "source": [
    "# 模式“RGBA”为32位彩色图像，它的每个像素用32个bit表示，其中24bit表示红色、绿色和蓝色三个通道，另外8bit表示alpha通道，即透明通道。\n",
    "img4 = img.convert(\"RGBA\")\n",
    "img4.show()\n",
    "data = np.array(img4)\n",
    "data.shape,data"
   ]
  },
  {
   "cell_type": "code",
   "execution_count": null,
   "metadata": {},
   "outputs": [],
   "source": []
  }
 ],
 "metadata": {
  "kernelspec": {
   "display_name": "Python 3",
   "language": "python",
   "name": "python3"
  },
  "language_info": {
   "codemirror_mode": {
    "name": "ipython",
    "version": 3
   },
   "file_extension": ".py",
   "mimetype": "text/x-python",
   "name": "python",
   "nbconvert_exporter": "python",
   "pygments_lexer": "ipython3",
   "version": "3.6.3"
  }
 },
 "nbformat": 4,
 "nbformat_minor": 2
}
