{
 "cells": [
  {
   "cell_type": "markdown",
   "metadata": {},
   "source": [
    "# Python 从入门到放弃\n",
    "\n",
    "         作者：ZhengHui\n"
   ]
  },
  {
   "cell_type": "code",
   "execution_count": 1,
   "metadata": {},
   "outputs": [
    {
     "name": "stdout",
     "output_type": "stream",
     "text": [
      "Python 从入门到放弃\n"
     ]
    }
   ],
   "source": [
    "print (\"Python 从入门到放弃\")"
   ]
  },
  {
   "cell_type": "markdown",
   "metadata": {},
   "source": [
    "### 目录：\n",
    "- [前言](about.ipynd)\n",
    "> ### 第一部分 Python基础\n",
    "- 第一章 环境搭建及推荐工具\n",
    "    - [第一节：环境搭建](01-EnvironmentAndTools/Enviroment.ipynb)\n",
    "    - [第二节：常用第三方库](01-EnvironmentAndTools/Tools.ipynb)\n",
    "- 第二章 Python 基础\n",
    "    - [第一节：数据类型和变量]()\n",
    "    - [第二节：字符串和编码]()\n",
    "    - [第三节: 列表list]()\n",
    "    - [第四节：序列元组(tuple)]()\n",
    "    - [第五节：字典dic]()\n",
    "    - [第六节：集合set]()\n",
    "    - [第七节：条件判断]()\n",
    "    - [第八节：循环]()\n",
    "- 第三章 函数\n",
    "    - [第一节：函数使用]()\n",
    "    - [第二节：函数定义]()\n",
    "    - [第一节：函数参数]()\n",
    "    - [第一节：函数递归]()\n",
    "- 第二章 高级特性\n",
    "- 第三章 函数式编程\n",
    "- 第四章 面向对象高级编程\n",
    "- 第五章 进程和线程\n",
    "- 第六章 错误调试和测试\n"
   ]
  }
 ],
 "metadata": {
  "kernelspec": {
   "display_name": "Python 3",
   "language": "python",
   "name": "python3"
  },
  "language_info": {
   "codemirror_mode": {
    "name": "ipython",
    "version": 3
   },
   "file_extension": ".py",
   "mimetype": "text/x-python",
   "name": "python",
   "nbconvert_exporter": "python",
   "pygments_lexer": "ipython3",
   "version": "3.6.3"
  }
 },
 "nbformat": 4,
 "nbformat_minor": 2
}
