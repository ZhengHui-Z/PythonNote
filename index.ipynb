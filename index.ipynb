{
 "cells": [
  {
   "cell_type": "markdown",
   "metadata": {},
   "source": [
    "# Python 从入门到放弃\n",
    "\n",
    "         作者：ZhengHui\n"
   ]
  },
  {
   "cell_type": "code",
   "execution_count": 1,
   "metadata": {
    "scrolled": true
   },
   "outputs": [
    {
     "name": "stdout",
     "output_type": "stream",
     "text": [
      "Python 从入门到放弃\n"
     ]
    }
   ],
   "source": [
    "print (\"Python 从入门到放弃\")"
   ]
  },
  {
   "cell_type": "markdown",
   "metadata": {},
   "source": [
    "### 目录：\n",
    "- [前言](Preface.ipynb)\n",
    "> ### 第一部分 Python基础\n",
    "- 第一章 环境搭建及相关资料\n",
    "    - [第一节：环境搭建](01-PythonEnvironmentAndResources/Enviroment.ipynb)\n",
    "    - [第二节：Python资料汇总](01-EnvironmentAndResources/Resources.ipynb)\n",
    "- 第二章 Python 基础\n",
    "    - [第一节：数据类型和变量](02-PythonBasics/变量和数据类型.ipynb)\n",
    "    - [第二节：全局变量和局部变量](02-PythonBasics/全局变量和局部变量.ipynb)\n",
    "    - [第三节：字符串和编码](02-PythonBasics/字符串和编码.ipynb)\n",
    "    - [第四节: 列表list](02-PythonBasics/列表list.ipynb)\n",
    "    - [第五节：序列元组tuple](02-PythonBasics/序列元组tuple.ipynb)\n",
    "    - [第六节：字典dic](02-PythonBasics/字典dic.ipynb)\n",
    "    - [第七节：集合set](02-PythonBasics/集合set.ipynb)\n",
    "    - [第八节：条件判断](02-PythonBasics/条件判断.ipynb)\n",
    "    - [第九节：循环](02-PythonBasics/循环.ipynb)\n",
    "- 第三章 函数\n",
    "    - [第一节：函数使用](03-PythonFunction/函数使用.ipynb)\n",
    "    - [第二节：函数定义](03-PythonFunction/函数定义.ipynb)\n",
    "    - [第三节：函数参数](03-PythonFunction/函数参数.ipynb)\n",
    "    - [第四节：函数递归](03-PythonFunction/函数递归.ipynb)\n",
    "    - [第六节：常用内置函数](03-PythonFunction/Python%20Built-in%20function/index.ipynb)\n",
    "- 第四章 高级特性\n",
    "    - [第一节：切片](04-PythonAdvancedFeatures/切片.ipynb)\n",
    "    - [第二节：迭代](04-PythonAdvancedFeatures/迭代.ipynb)\n",
    "    - [第三节：列表生成式](04-PythonAdvancedFeatures/列表生成式.ipynb)\n",
    "    - [第四节：生成器](04-PythonAdvancedFeatures/生成器.ipynb)\n",
    "    - [第五节：迭代器](04-PythonAdvancedFeatures/迭代器.ipynb)\n",
    "    \n",
    "- 第五章 面向对象高级编程\n",
    "    - [创建和使用类](05-PythonObject/创建和使用类.ipynb)\n",
    "    - [访问属性](05-PythonObject/访问属性.ipynb)\n",
    "    - [Python内置类属性](05-PythonObject/Python内置类属性.ipynb)\n",
    "    - [继承](05-PythonObject/继承.ipynb)\n",
    "    - [垃圾回收](05-PythonObject/垃圾回收.ipynb)\n",
    "    - [方法重写和运算符重载](05-PythonObject/方法重写和运算符重载.ipynb)\n",
    "    - [导入类](05-PythonObject/导入类.ipynb)\n",
    "    - [类编码风格](05-PythonObject/类编码风格.ipynb)\n",
    "    \n",
    "- 第六章 函数式编程\n",
    "    - [第一节：高阶函数](06-PythonFunctionalProgramming/高阶函数.ipynb)\n",
    "    - [第二节：函数作为参数使用](06-PythonFunctionalProgramming/函数作为参数使用.ipynb)\n",
    "    - [第三节：匿名函数](06-PythonFunctionalProgramming/匿名函数.ipynb)\n",
    "    - [第四节：生成器](06-PythonFunctionalProgramming/生成器.ipynb)\n",
    "    - [第五节：迭代器](06-PythonFunctionalProgramming/迭代器.ipynb)\n",
    "\n",
    "- 第七章 进程和线程\n",
    "    - []()\n",
    "    - []()\n",
    "- 第八章 网络相关\n",
    "    - [网络通讯socket]()\n",
    "\n",
    "- 第九章 IO编程\n",
    "    - [文件读写](09-IO-programming/文件读写.ipynb)\n",
    "    - [数据库读写操作](09-IO-programming/Sql/index.ipynb)\n",
    "    - [StringIO和BytesIO](09-IO-programming/StringIO和BytesIO.ipynb)\n",
    "    - [序列化](09-IO-programming/序列化.ipynb)\n",
    "    - [异步IO](09-IO-programming/异步IO.ipynb)\n",
    "- 第十章 错误调试和测试\n",
    "\n",
    "- 第十一 常用第三库\n",
    "    - [科学计算库](11-PythonThird-partyLibraries/01-ScientificComputing/index.ipynb)\n",
    "    - [数据处理](11-PythonThird-partyLibraries/02-DataProcessing/index.ipynb)\n",
    "    - [数据可视化 Matplotlib](11-PythonThird-partyLibraries/03-DataVisualization/Matplotlib/index.ipynb)\n",
    "    - [图像处理](11-PythonThird-partyLibraries/04-ImageProcessing/index.ipynb)\n",
    "    - [Python加速Cython](11-PythonThird-partyLibraries\\05-Cython)\n",
    "- 第十二 机器学习基础笔记\n",
    "    - [Pytorch学习笔记]()\n",
    "    - [神经网络基础]()\n",
    "    - [待续。。。]()\n",
    "\n",
    "- 第十三 爬虫\n",
    "\n",
    "- 第十四 web开发\n"
   ]
  }
 ],
 "metadata": {
  "kernelspec": {
   "display_name": "Python 3",
   "language": "python",
   "name": "python3"
  },
  "language_info": {
   "codemirror_mode": {
    "name": "ipython",
    "version": 3
   },
   "file_extension": ".py",
   "mimetype": "text/x-python",
   "name": "python",
   "nbconvert_exporter": "python",
   "pygments_lexer": "ipython3",
   "version": "3.7.1"
  }
 },
 "nbformat": 4,
 "nbformat_minor": 2
}
