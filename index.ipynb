{
 "cells": [
  {
   "cell_type": "markdown",
   "metadata": {},
   "source": [
    "# Python 从入门到放弃\n",
    "\n",
    "         作者：ZhengHui\n"
   ]
  },
  {
   "cell_type": "code",
   "execution_count": 1,
   "metadata": {},
   "outputs": [
    {
     "name": "stdout",
     "output_type": "stream",
     "text": [
      "Python 从入门到放弃\n"
     ]
    }
   ],
   "source": [
    "print (\"Python 从入门到放弃\")"
   ]
  },
  {
   "cell_type": "markdown",
   "metadata": {},
   "source": [
    "### 目录：\n",
    "- [前言](Preface.ipynb)\n",
    "> ### 第一部分 Python基础\n",
    "- 第一章 环境搭建及相关资料\n",
    "    - [第一节：环境搭建](01-PythonEnvironmentAndResources/Enviroment.ipynb)\n",
    "    - [第二节：Python资料汇总](01-EnvironmentAndResources/Resources.ipynb)\n",
    "- 第二章 Python 基础\n",
    "    - [第一节：数据类型和变量](02-PythonBasics/数据类型和变量.ipynb)\n",
    "    - [第二节：全局变量和局部变量](02-PythonBasics/全局变量和局部变量.ipynb)\n",
    "    - [第三节：字符串和编码](02-PythonBasics/字符串和编码.ipynb)\n",
    "    - [第四节: 列表list](02-PythonBasics/列表list.ipynb)\n",
    "    - [第五节：序列元组tuple](02-PythonBasics/序列元组tuple.ipynb)\n",
    "    - [第六节：字典dic](02-PythonBasics/字典dic.ipynb)\n",
    "    - [第七节：集合set](02-PythonBasics/集合set.ipynb)\n",
    "    - [第八节：条件判断](02-PythonBasics/条件判断.ipynb)\n",
    "    - [第九节：循环](02-PythonBasics/循环.ipynb)\n",
    "- 第三章 函数\n",
    "    - [第一节：函数使用](03-PythonFunction/函数使用.ipynb)\n",
    "    - [第二节：函数定义](03-PythonFunction/函数定义.ipynb)\n",
    "    - [第三节：函数参数](03-PythonFunction/函数参数.ipynb)\n",
    "    - [第四节：函数递归](03-PythonFunction/函数使用.ipynb)\n",
    "    - [第六节：常用内置函数](03-PythonFunction/Python%20Built-in%20function/index.ipynb)\n",
    "- 第四章 高级特性\n",
    "    - [第一节：切片]()\n",
    "    - [第二节：迭代]()\n",
    "    - [第三节：列表生成式]()\n",
    "    - [第四节：生成器]()\n",
    "    - [第五节：迭代器]()\n",
    "    \n",
    "- 第五章 面向对象高级编程\n",
    "    - [创建和使用类]()\n",
    "    - [访问属性]()\n",
    "    - [Python内置类属性]()\n",
    "    - [继承]()\n",
    "    - [垃圾回收]()\n",
    "    - [方法重写和运算符重载]()\n",
    "    - [导入类]()\n",
    "    - [类编码风格]()\n",
    "    \n",
    "- 第六章 函数式编程\n",
    "    - [第一节：高阶函数]()\n",
    "    - [第二节：函数作为参数使用]()\n",
    "    - [第三节：匿名函数]()\n",
    "    - [第四节：生成器]()\n",
    "    - [第五节：迭代器]()\n",
    "\n",
    "- 第七章 进程和线程\n",
    "    - []()\n",
    "    - []()\n",
    "- 第八章 网络相关\n",
    "\n",
    "- 第九章 IO编程\n",
    "    - [文件读写]()\n",
    "    - [StringIO和BytesIO]()\n",
    "    - [序列化]()\n",
    "    - [异步IO]()\n",
    "- 第十章 错误调试和测试\n",
    "\n",
    "- 第十一章 常用第三库\n",
    "    - [科学计算库](11-PythonThird-partyLibraries/01-ScientificComputing/index.ipynb)\n",
    "    - [数据处理](11-PythonThird-partyLibraries/02-DataProcessing/index.ipynb)\n",
    "    - [数据可视化 Matplotlib](11-PythonThird-partyLibraries/03-DataVisualization/Matplotlib/index.ipynb)\n",
    "    - [图像处理](11-PythonThird-partyLibraries/04-ImageProcessing/index.ipynb)\n",
    "    - [让Python飞起来Cython]()\n",
    "- 第十二章 机器学习基础笔记\n",
    "    - [Pytorch学习笔记]()\n",
    "    - [神经网络基础]()\n",
    "    - [待续。。。]()"
   ]
  }
 ],
 "metadata": {
  "kernelspec": {
   "display_name": "Python 3",
   "language": "python",
   "name": "python3"
  },
  "language_info": {
   "codemirror_mode": {
    "name": "ipython",
    "version": 3
   },
   "file_extension": ".py",
   "mimetype": "text/x-python",
   "name": "python",
   "nbconvert_exporter": "python",
   "pygments_lexer": "ipython3",
   "version": "3.7.0"
  }
 },
 "nbformat": 4,
 "nbformat_minor": 2
}
