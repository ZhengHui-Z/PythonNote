{
 "cells": [
  {
   "cell_type": "markdown",
   "metadata": {},
   "source": [
    "### LMDB的全称是Lightning Memory-Mapped Database，闪电般的内存映射数据库。它文件结构简单，一个文件夹，里面一个数据文件，一个锁文件。数据随意复制，随意传输。它的访问简单，不需要运行单独的数据库管理进程，只要在访问数据的代码里引用LMDB库，访问时给文件路径即可。"
   ]
  },
  {
   "cell_type": "markdown",
   "metadata": {},
   "source": [
    "#### - 操作流程\n",
    "\n",
    "- 概况地讲，操作LMDB的流程是：\n",
    "\n",
    "- 通过env = lmdb.open()打开环境\n",
    "\n",
    "- 通过txn = env.begin()建立事务\n",
    "\n",
    "- 通过txn.put(key, value)进行插入和修改\n",
    "\n",
    "- 通过txn.delete(key)进行删除\n",
    "\n",
    "- 通过txn.get(key)进行查询\n",
    "\n",
    "- 通过txn.cursor()进行遍历\n",
    "\n",
    "- 通过txn.commit()提交更改\n",
    "\n",
    "[官方代码](https://lmdb.readthedocs.io/en/release/#named-databases)"
   ]
  },
  {
   "cell_type": "code",
   "execution_count": 2,
   "metadata": {},
   "outputs": [],
   "source": [
    "# 实例操作\n",
    "#!/usr/bin/env python\n",
    "\n",
    "import lmdb\n",
    "import os, sys\n",
    "import numpy as np"
   ]
  },
  {
   "cell_type": "code",
   "execution_count": 5,
   "metadata": {},
   "outputs": [],
   "source": [
    "#basic setting\n",
    "lmdb_file = 'lmdb_data' # 期望生成的数据文件\n",
    "batch_size = 200        # lmdb对于数据进行的是先缓存后一次性写入从而提高效率，因此定义一个batch_size控制每次写入的量。"
   ]
  },
  {
   "cell_type": "code",
   "execution_count": 7,
   "metadata": {},
   "outputs": [],
   "source": [
    "# create the leveldb file\n",
    "lmdb_env = lmdb.open(lmdb_file, map_size=int(1e12)) # 生成一个数据文件，定义最大空间\n",
    "lmdb_txn = lmdb_env.begin(write=True)               # 打开数据库的句柄"
   ]
  },
  {
   "cell_type": "code",
   "execution_count": null,
   "metadata": {},
   "outputs": [],
   "source": []
  }
 ],
 "metadata": {
  "kernelspec": {
   "display_name": "Python 3",
   "language": "python",
   "name": "python3"
  },
  "language_info": {
   "codemirror_mode": {
    "name": "ipython",
    "version": 3
   },
   "file_extension": ".py",
   "mimetype": "text/x-python",
   "name": "python",
   "nbconvert_exporter": "python",
   "pygments_lexer": "ipython3",
   "version": "3.6.4"
  }
 },
 "nbformat": 4,
 "nbformat_minor": 2
}
