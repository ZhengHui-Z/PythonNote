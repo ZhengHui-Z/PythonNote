{
 "cells": [
  {
   "cell_type": "markdown",
   "metadata": {},
   "source": [
    "# 配置环境\n",
    "\n",
    "- 强烈推荐使用 Anaconda，这个IDE集成了大部分常用的包，方便管理环境，安装第三方工具\n",
    "- IDE 可以使用 JB的Pycharm\n",
    "\n",
    "### 序言：\n",
    "- Python易用，但用好却不易，其中比较头疼的就是包管理和Python不同版本的问题，特别是当你使用Windows的时候。为了解决这些问题，有不少发行版的Python，比如WinPython、Anaconda等，这些发行版将python和许多常用的package打包，方便pythoners直接使用，此外，还有virtualenv、pyenv等工具管理虚拟环境。\n",
    "\n",
    "### Anaconda概述：\n",
    "- Anaconda是一个用于科学计算的Python发行版，支持 Linux, Mac, Windows系统，提供了包管理与环境管理的功能，可以很方便地解决多版本python并存、切换以及各种第三方包安装问题。Anaconda利用工具/命令conda来进行package和environment的管理，并且已经包含了Python和相关的配套工具。\n",
    "\n",
    "\n",
    "- 这里先解释下conda、anaconda这些概念的差别。conda可以理解为一个工具，也是一个可执行命令，其核心功能是包管理与环境管理。包管理与pip的使用类似，环境管理则允许用户方便地安装不同版本的python并可以快速切换。Anaconda则是一个打包的集合，里面预装好了conda、某个版本的python、众多packages、科学计算工具等等，所以也称为Python的一种发行版。其实还有Miniconda，顾名思义，它只包含最基本的内容——python与conda，以及相关的必须依赖项，对于空间要求严格的用户，Miniconda是一种选择。\n",
    "\n",
    "\n",
    "- 进入下文之前，说明一下conda的设计理念——conda将几乎所有的工具、第三方包都当做package对待，甚至包括python和conda自身！因此，conda打破了包管理与环境管理的约束，能非常方便地安装各种版本python、各种package并方便地切换。\n",
    "\n",
    "\n",
    "### Anaconda的安装\n",
    "\n",
    "- Anaconda的下载页参见[官网下载](https://www.anaconda.com)，Linux、Mac、Windows均支持。\n",
    "- 安装时，会发现有两个不同版本的Anaconda，分别对应Python 2.7和Python 3.6，两个版本其实除了这点区别外其他都一样。后面我们会看到，安装哪个版本并不本质，因为通过环境管理，我们可以很方便地切换运行时的Python版本。（本教程使用的是3.6版本）\n",
    "\n",
    "\n",
    "- 下载后直接按照说明安装即可。这里想提醒一点：尽量按照Anaconda默认的行为安装——不使用root权限，仅为个人安装，安装目录设置在个人主目录下（Windows就无所谓了）。这样的好处是，同一台机器上的不同用户完全可以安装、配置自己的Anaconda，不会互相影响。\n",
    "\n",
    "\n",
    "- 对于Mac、Linux系统，Anaconda安装好后，实际上就是在主目录下多了个文件夹（~/anaconda）而已，Windows会写入注册表。安装时，安装程序会把bin目录加入PATH（Linux/Mac写入~/.bashrc，Windows添加到系统变量PATH），这些操作也完全可以自己完成。以Linux/Mac为例，安装完成后设置PATH的操作是\n",
    "\n"
   ]
  },
  {
   "cell_type": "raw",
   "metadata": {},
   "source": [
    "# 将anaconda的bin目录加入PATH，根据版本不同，也可能是~/anaconda3/bin\n",
    "echo 'export PATH=\"~/anaconda2/bin:$PATH\"' >> ~/.bashrc\n",
    "# 更新bashrc以立即生效\n",
    "source ~/.bashrc"
   ]
  },
  {
   "cell_type": "markdown",
   "metadata": {},
   "source": [
    "- 配置好PATH后，可以通过which conda或conda --version命令检查是否正确。假如安装的是Python 2.7对应的版本，运行python --version或python -V可以得到Python 2.7.12 :: Anaconda 4.1.1 (64-bit)，也说明该发行版默认的环境是Python 2.7。"
   ]
  },
  {
   "cell_type": "markdown",
   "metadata": {},
   "source": [
    "### Conda的包管理\n",
    "\n",
    "Conda的包管理就比较好理解了，这部分功能与pip类似。\n",
    "\n",
    "- 例如，如果需要安装scipy："
   ]
  },
  {
   "cell_type": "markdown",
   "metadata": {},
   "source": [
    "```\n",
    "# 安装scipy\n",
    "conda install scipy\n",
    "# conda会从从远程搜索scipy的相关信息和依赖项目，对于python 3.4，conda会同时安装numpy和mkl（运算加速的库）\n",
    "\n",
    "# 查看已经安装的packages\n",
    "conda list\n",
    "# 最新版的conda是从site-packages文件夹中搜索已经安装的包，不依赖于pip，因此可以显示出通过各种方式安装的包\n",
    "```"
   ]
  },
  {
   "cell_type": "markdown",
   "metadata": {},
   "source": [
    "### conda的一些常用操作如下："
   ]
  },
  {
   "cell_type": "markdown",
   "metadata": {},
   "source": [
    "```\n",
    "# 查看当前环境下已安装的包\n",
    "conda list\n",
    "\n",
    "# 查看某个指定环境的已安装包\n",
    "conda list -n python34\n",
    "\n",
    "# 查找package信息\n",
    "conda search numpy\n",
    "\n",
    "# 安装package\n",
    "conda install -n python34 numpy\n",
    "# 如果不用-n指定环境名称，则被安装在当前活跃环境\n",
    "# 也可以通过-c指定通过某个channel安装\n",
    "\n",
    "# 更新package\n",
    "conda update -n python34 numpy\n",
    "\n",
    "# 删除package\n",
    "conda remove -n python34 numpy\n",
    "```"
   ]
  },
  {
   "cell_type": "markdown",
   "metadata": {},
   "source": [
    ">### 相关下载下载：\n",
    "- [anaconda下载地址](https://www.anaconda.com/download/)\n",
    "- [pycharm下载地址](http://www.jetbrains.com/pycharm/)"
   ]
  },
  {
   "cell_type": "code",
   "execution_count": 1,
   "metadata": {},
   "outputs": [
    {
     "name": "stdout",
     "output_type": "stream",
     "text": [
      "Hello World!\n"
     ]
    }
   ],
   "source": [
    "print (\"Hello World!\")"
   ]
  }
 ],
 "metadata": {
  "kernelspec": {
   "display_name": "Python 3",
   "language": "python",
   "name": "python3"
  },
  "language_info": {
   "codemirror_mode": {
    "name": "ipython",
    "version": 3
   },
   "file_extension": ".py",
   "mimetype": "text/x-python",
   "name": "python",
   "nbconvert_exporter": "python",
   "pygments_lexer": "ipython3",
   "version": "3.7.0"
  }
 },
 "nbformat": 4,
 "nbformat_minor": 2
}
