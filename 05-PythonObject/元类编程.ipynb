{
 "cells": [
  {
   "cell_type": "code",
   "execution_count": 4,
   "metadata": {},
   "outputs": [],
   "source": [
    "# 动态创建类\n",
    "\n",
    "def creat_class(name):\n",
    "    if name == \"user\":\n",
    "        class User:\n",
    "            def __str__(self):\n",
    "                return \"user\"\n",
    "        return User\n",
    "    elif name == \"company\":\n",
    "        class Company:\n",
    "            def __str__(self):\n",
    "                return \"Company\"\n",
    "        return Company"
   ]
  },
  {
   "cell_type": "code",
   "execution_count": 7,
   "metadata": {},
   "outputs": [
    {
     "name": "stdout",
     "output_type": "stream",
     "text": [
      "<class '__main__.creat_class.<locals>.User'>\n"
     ]
    }
   ],
   "source": [
    "# 创建一个类\n",
    "\n",
    "MyClass = creat_class(\"user\")\n",
    "my_obj = MyClass()\n",
    "print(type(my_obj))"
   ]
  },
  {
   "cell_type": "markdown",
   "metadata": {},
   "source": [
    "使用type方法创建一个类\n",
    "\n",
    "> type(class_name, bases, dict) -> a new type\n",
    "type函数接收3个参数\n",
    "\n",
    "1: 要被创建的类名   --str\n",
    "\n",
    "2: 被创建的类的父类  --tuple\n",
    "\n",
    "3: 该类中的方法和属性  -- dict"
   ]
  },
  {
   "cell_type": "code",
   "execution_count": 16,
   "metadata": {},
   "outputs": [
    {
     "name": "stdout",
     "output_type": "stream",
     "text": [
      "user\n",
      "I am user\n",
      "I am BaseClass\n"
     ]
    }
   ],
   "source": [
    "class BaseClass:\n",
    "    def answer(self):\n",
    "        return \"I am BaseClass\"\n",
    "\n",
    "\n",
    "def say(self):\n",
    "    return \"I am user\"\n",
    "\n",
    "User = type(\"User\", (BaseClass, ), {\"name\": \"user\", \"say\":say})\n",
    "\n",
    "my_obj = User()\n",
    "\n",
    "print(my_obj.name)\n",
    "print(my_obj.say())\n",
    "print(my_obj.answer())"
   ]
  },
  {
   "cell_type": "code",
   "execution_count": 24,
   "metadata": {},
   "outputs": [
    {
     "name": "stdout",
     "output_type": "stream",
     "text": [
      "User\n"
     ]
    }
   ],
   "source": [
    "# 元类\n",
    "class MetaClass(type):\n",
    "    def __new__(cls, *args, **kwargs):\n",
    "        return super().__new__(cls, *args, **kwargs)\n",
    "        \n",
    "\n",
    "class User(metaclass=MetaClass):\n",
    "    def __init__(self, name):\n",
    "        self.name = name\n",
    "\n",
    "    def __str__(self):\n",
    "        return self.name\n",
    "\n",
    "my_obj = User(\"User\")\n",
    "print(my_obj)"
   ]
  },
  {
   "cell_type": "markdown",
   "metadata": {},
   "source": [
    "通过元类实现orm"
   ]
  },
  {
   "cell_type": "code",
   "execution_count": null,
   "metadata": {},
   "outputs": [],
   "source": [
    "class User:\n",
    "    name = "
   ]
  }
 ],
 "metadata": {
  "kernelspec": {
   "display_name": "Python 3",
   "language": "python",
   "name": "python3"
  },
  "language_info": {
   "codemirror_mode": {
    "name": "ipython",
    "version": 3
   },
   "file_extension": ".py",
   "mimetype": "text/x-python",
   "name": "python",
   "nbconvert_exporter": "python",
   "pygments_lexer": "ipython3",
   "version": "3.7.1"
  }
 },
 "nbformat": 4,
 "nbformat_minor": 2
}
