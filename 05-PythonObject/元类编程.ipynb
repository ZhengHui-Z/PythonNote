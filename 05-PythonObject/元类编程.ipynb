{
 "cells": [
  {
   "cell_type": "code",
   "execution_count": 4,
   "metadata": {},
   "outputs": [],
   "source": [
    "# 动态创建类\n",
    "\n",
    "def creat_class(name):\n",
    "    if name == \"user\":\n",
    "        class User:\n",
    "            def __str__(self):\n",
    "                return \"user\"\n",
    "        return User\n",
    "    elif name == \"company\":\n",
    "        class Company:\n",
    "            def __str__(self):\n",
    "                return \"Company\"\n",
    "        return Company"
   ]
  },
  {
   "cell_type": "code",
   "execution_count": 7,
   "metadata": {},
   "outputs": [
    {
     "name": "stdout",
     "output_type": "stream",
     "text": [
      "<class '__main__.creat_class.<locals>.User'>\n"
     ]
    }
   ],
   "source": [
    "# 创建一个类\n",
    "\n",
    "MyClass = creat_class(\"user\")\n",
    "my_obj = MyClass()\n",
    "print(type(my_obj))"
   ]
  },
  {
   "cell_type": "markdown",
   "metadata": {},
   "source": [
    "使用type方法创建一个类\n",
    "\n",
    "> type(class_name, bases, dict) -> a new type\n",
    "type函数接收3个参数\n",
    "\n",
    "1: 要被创建的类名   --str\n",
    "\n",
    "2: 被创建的类的父类  --tuple\n",
    "\n",
    "3: 该类中的方法和属性  -- dict"
   ]
  },
  {
   "cell_type": "code",
   "execution_count": 16,
   "metadata": {},
   "outputs": [
    {
     "name": "stdout",
     "output_type": "stream",
     "text": [
      "user\n",
      "I am user\n",
      "I am BaseClass\n"
     ]
    }
   ],
   "source": [
    "class BaseClass:\n",
    "    def answer(self):\n",
    "        return \"I am BaseClass\"\n",
    "\n",
    "\n",
    "def say(self):\n",
    "    return \"I am user\"\n",
    "\n",
    "User = type(\"User\", (BaseClass, ), {\"name\": \"user\", \"say\":say})\n",
    "\n",
    "my_obj = User()\n",
    "\n",
    "print(my_obj.name)\n",
    "print(my_obj.say())\n",
    "print(my_obj.answer())"
   ]
  },
  {
   "cell_type": "code",
   "execution_count": 24,
   "metadata": {},
   "outputs": [
    {
     "name": "stdout",
     "output_type": "stream",
     "text": [
      "User\n"
     ]
    }
   ],
   "source": [
    "# 元类\n",
    "class MetaClass(type):\n",
    "    def __new__(cls, *args, **kwargs):\n",
    "        return super().__new__(cls, *args, **kwargs)\n",
    "        \n",
    "\n",
    "class User(metaclass=MetaClass):\n",
    "    def __init__(self, name):\n",
    "        self.name = name\n",
    "\n",
    "    def __str__(self):\n",
    "        return self.name\n",
    "\n",
    "my_obj = User(\"User\")\n",
    "print(my_obj)"
   ]
  },
  {
   "cell_type": "code",
   "execution_count": null,
   "metadata": {},
   "outputs": [],
   "source": []
  },
  {
   "cell_type": "markdown",
   "metadata": {},
   "source": [
    "通过元类实现orm\n",
    "\n",
    "以django Model模块为例"
   ]
  },
  {
   "cell_type": "code",
   "execution_count": 1,
   "metadata": {},
   "outputs": [
    {
     "name": "stdout",
     "output_type": "stream",
     "text": [
      "insert user(name,age) value(bobby,28)\n"
     ]
    }
   ],
   "source": [
    "# 需求\n",
    "import numbers\n",
    "\n",
    "\n",
    "class Field:\n",
    "    pass\n",
    "\n",
    "class IntField(Field):\n",
    "    # 数据描述符\n",
    "    def __init__(self, db_column, min_value=None, max_value=None):\n",
    "        self._value = None\n",
    "        self.min_value = min_value\n",
    "        self.max_value = max_value\n",
    "        self.db_column = db_column\n",
    "        if min_value is not None:\n",
    "            if not isinstance(min_value, numbers.Integral):\n",
    "                raise ValueError(\"min_value must be int\")\n",
    "            elif min_value < 0:\n",
    "                raise ValueError(\"min_value must be positive int\")\n",
    "        if max_value is not None:\n",
    "            if not isinstance(max_value, numbers.Integral):\n",
    "                raise ValueError(\"max_value must be int\")\n",
    "            elif max_value < 0:\n",
    "                raise ValueError(\"max_value must be positive int\")\n",
    "        if min_value is not None and max_value is not None:\n",
    "            if min_value > max_value:\n",
    "                raise ValueError(\"min_value must be smaller than max_value\")\n",
    "\n",
    "    def __get__(self, instance, owner):\n",
    "        return self._value\n",
    "\n",
    "    def __set__(self, instance, value):\n",
    "        if not isinstance(value, numbers.Integral):\n",
    "            raise ValueError(\"int value need\")\n",
    "        if value < self.min_value or value > self.max_value:\n",
    "            raise ValueError(\"value must between min_value and max_value\")\n",
    "        self._value = value\n",
    "\n",
    "\n",
    "class CharField(Field):\n",
    "    def __init__(self, db_column, max_length=None):\n",
    "        self._value = None\n",
    "        self.db_column = db_column\n",
    "        if max_length is None:\n",
    "            raise ValueError(\"you must spcify max_lenth for charfiled\")\n",
    "        self.max_length = max_length\n",
    "\n",
    "    def __get__(self, instance, owner):\n",
    "        return self._value\n",
    "\n",
    "    def __set__(self, instance, value):\n",
    "        if not isinstance(value, str):\n",
    "            raise ValueError(\"string value need\")\n",
    "        if len(value) > self.max_length:\n",
    "            raise ValueError(\"value len excess len of max_length\")\n",
    "        self._value = value\n",
    "\n",
    "\n",
    "class ModelMetaClass(type):\n",
    "    def __new__(cls, name, bases, attrs, **kwargs):\n",
    "        if name == \"BaseModel\":\n",
    "            return super().__new__(cls, name, bases, attrs, **kwargs)\n",
    "        fields = {}\n",
    "        for key, value in attrs.items():\n",
    "            if isinstance(value, Field):\n",
    "                fields[key] = value\n",
    "        attrs_meta = attrs.get(\"Meta\", None)\n",
    "        _meta = {}\n",
    "        db_table = name.lower()\n",
    "        if attrs_meta is not None:\n",
    "            table = getattr(attrs_meta, \"db_table\", None)\n",
    "            if table is not None:\n",
    "                db_table = table\n",
    "        _meta[\"db_table\"] = db_table\n",
    "        attrs[\"_meta\"] = _meta\n",
    "        attrs[\"fields\"] = fields\n",
    "        del attrs[\"Meta\"]\n",
    "        return super().__new__(cls, name, bases, attrs, **kwargs)\n",
    "\n",
    "\n",
    "class BaseModel(metaclass=ModelMetaClass):\n",
    "    def __init__(self, *args, **kwargs):\n",
    "        for key, value in kwargs.items():\n",
    "            setattr(self, key, value)\n",
    "        return super().__init__()\n",
    "\n",
    "    def save(self):\n",
    "        fields = []\n",
    "        values = []\n",
    "        for key, value in self.fields.items():\n",
    "            db_column = value.db_column\n",
    "            if db_column is None:\n",
    "                db_column = key.lower()\n",
    "            fields.append(db_column)\n",
    "            value = getattr(self, key)\n",
    "            values.append(str(value))\n",
    "\n",
    "        sql = \"insert {db_table}({fields}) value({values})\".format(db_table=self._meta[\"db_table\"],\n",
    "                                                                   fields=\",\".join(fields), values=\",\".join(values))\n",
    "        print(sql)\n",
    "        pass\n",
    "\n",
    "class User(BaseModel):\n",
    "    name = CharField(db_column=\"name\", max_length=10)\n",
    "    age = IntField(db_column=\"age\", min_value=1, max_value=100)\n",
    "\n",
    "    class Meta:\n",
    "        db_table = \"user\"\n",
    "\n",
    "\n",
    "if __name__ == \"__main__\":\n",
    "    user = User(name=\"bobby\", age=28)\n",
    "    user.name = \"bobby\"\n",
    "    user.age = 28\n",
    "    user.save()\n"
   ]
  }
 ],
 "metadata": {
  "kernelspec": {
   "display_name": "Python 3",
   "language": "python",
   "name": "python3"
  },
  "language_info": {
   "codemirror_mode": {
    "name": "ipython",
    "version": 3
   },
   "file_extension": ".py",
   "mimetype": "text/x-python",
   "name": "python",
   "nbconvert_exporter": "python",
   "pygments_lexer": "ipython3",
   "version": "3.7.0"
  }
 },
 "nbformat": 4,
 "nbformat_minor": 2
}
