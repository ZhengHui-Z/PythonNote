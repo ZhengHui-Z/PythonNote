{
 "cells": [
  {
   "cell_type": "code",
   "execution_count": 6,
   "metadata": {},
   "outputs": [
    {
     "name": "stdout",
     "output_type": "stream",
     "text": [
      "[2. 4. 6.]\n"
     ]
    }
   ],
   "source": [
    "import tensorflow as tf  \n",
    "  \n",
    "with tf.device('/cpu:0'):  \n",
    "    a = tf.constant([1.0,2.0,3.0],shape=[3],name='a')  \n",
    "    b = tf.constant([1.0,2.0,3.0],shape=[3],name='b')  \n",
    "with tf.device('/gpu:1'):  \n",
    "    c = a+b  \n",
    "     \n",
    "#注意：allow_soft_placement=True表明：计算设备可自行选择，如果没有这个参数，会报错。  \n",
    "#因为不是所有的操作都可以被放在GPU上，如果强行将无法放在GPU上的操作指定到GPU上，将会报错。  \n",
    "sess = tf.Session(config=tf.ConfigProto(allow_soft_placement=True,log_device_placement=True))  \n",
    "#sess = tf.Session(config=tf.ConfigProto(log_device_placement=True))  \n",
    "sess.run(tf.global_variables_initializer())  \n",
    "print(sess.run(c))  "
   ]
  }
 ],
 "metadata": {
  "kernelspec": {
   "display_name": "Python 2",
   "language": "python",
   "name": "python2"
  },
  "language_info": {
   "codemirror_mode": {
    "name": "ipython",
    "version": 2
   },
   "file_extension": ".py",
   "mimetype": "text/x-python",
   "name": "python",
   "nbconvert_exporter": "python",
   "pygments_lexer": "ipython2",
   "version": "2.7.14"
  }
 },
 "nbformat": 4,
 "nbformat_minor": 2
}
