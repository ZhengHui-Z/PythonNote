{
 "cells": [
  {
   "cell_type": "code",
   "execution_count": 2,
   "metadata": {},
   "outputs": [],
   "source": [
    "import numpy as np"
   ]
  },
  {
   "cell_type": "code",
   "execution_count": 15,
   "metadata": {},
   "outputs": [
    {
     "data": {
      "text/plain": [
       "(array([[[[1, 2, 3],\n",
       "          [2, 2, 3],\n",
       "          [3, 1, 1],\n",
       "          [4, 1, 1]],\n",
       " \n",
       "         [[1, 5, 6],\n",
       "          [2, 5, 6],\n",
       "          [3, 2, 2],\n",
       "          [4, 2, 2]],\n",
       " \n",
       "         [[1, 8, 9],\n",
       "          [2, 8, 9],\n",
       "          [3, 3, 3],\n",
       "          [4, 3, 3]]],\n",
       " \n",
       " \n",
       "        [[[1, 2, 3],\n",
       "          [2, 2, 3],\n",
       "          [3, 1, 1],\n",
       "          [4, 1, 1]],\n",
       " \n",
       "         [[1, 5, 6],\n",
       "          [2, 5, 6],\n",
       "          [3, 2, 2],\n",
       "          [4, 2, 2]],\n",
       " \n",
       "         [[1, 8, 9],\n",
       "          [2, 8, 9],\n",
       "          [3, 3, 3],\n",
       "          [4, 3, 3]]]]), (2, 3, 4, 3))"
      ]
     },
     "execution_count": 15,
     "metadata": {},
     "output_type": "execute_result"
    }
   ],
   "source": [
    "new_data = np.array([\n",
    "    [[[1,2,3],[2,2,3],[3,1,1],[4,1,1]],\n",
    "    [[1,5,6],[2,5,6],[3,2,2],[4,2,2]],\n",
    "    [[1,8,9],[2,8,9],[3,3,3],[4,3,3]]],\n",
    "    [[[1,2,3],[2,2,3],[3,1,1],[4,1,1]],\n",
    "    [[1,5,6],[2,5,6],[3,2,2],[4,2,2]],\n",
    "    [[1,8,9],[2,8,9],[3,3,3],[4,3,3]]]\n",
    "])\n",
    "\n",
    "new_data,    new_data.shape"
   ]
  },
  {
   "cell_type": "code",
   "execution_count": 11,
   "metadata": {},
   "outputs": [
    {
     "data": {
      "text/plain": [
       "[1, 2, 3, 4, 5, 6, [1, 2, 3, 9]]"
      ]
     },
     "execution_count": 11,
     "metadata": {},
     "output_type": "execute_result"
    }
   ],
   "source": [
    "n = [1,2,3,4,5,6,[1,2,3,9]]\n",
    "n"
   ]
  },
  {
   "cell_type": "code",
   "execution_count": 13,
   "metadata": {},
   "outputs": [
    {
     "data": {
      "text/plain": [
       "True"
      ]
     },
     "execution_count": 13,
     "metadata": {},
     "output_type": "execute_result"
    }
   ],
   "source": [
    "9 in n[6]"
   ]
  },
  {
   "cell_type": "code",
   "execution_count": 22,
   "metadata": {},
   "outputs": [
    {
     "name": "stdout",
     "output_type": "stream",
     "text": [
      "Variable containing:\n",
      " 2.4629\n",
      "[torch.FloatTensor of size 1]\n",
      "\n"
     ]
    }
   ],
   "source": [
    "import torch\n",
    "from torch.autograd import Variable\n",
    "from warpctc_pytorch import CTCLoss\n",
    "\n",
    "ctc_loss = CTCLoss()\n",
    "# expected shape of seqLength x batchSize x alphabet_size\n",
    "probs = torch.FloatTensor([[[0.1, 0.6, 0.1, 0.1, 0.1], [0.1, 0.1, 0.6, 0.1, 0.1]]]).transpose(0, 1).contiguous()\n",
    "labels = Variable(torch.IntTensor([1, 2]))\n",
    "label_sizes = Variable(torch.IntTensor([2]))\n",
    "probs_sizes = Variable(torch.IntTensor([2]))\n",
    "probs = Variable(probs, requires_grad=True) # tells autograd to compute gradients for probs\n",
    "cost = ctc_loss(probs, labels, probs_sizes, label_sizes)\n",
    "print(cost)\n",
    "cost.backward()"
   ]
  },
  {
   "cell_type": "code",
   "execution_count": null,
   "metadata": {},
   "outputs": [],
   "source": []
  }
 ],
 "metadata": {
  "kernelspec": {
   "display_name": "Python 3",
   "language": "python",
   "name": "python3"
  },
  "language_info": {
   "codemirror_mode": {
    "name": "ipython",
    "version": 3
   },
   "file_extension": ".py",
   "mimetype": "text/x-python",
   "name": "python",
   "nbconvert_exporter": "python",
   "pygments_lexer": "ipython3",
   "version": "3.6.4"
  }
 },
 "nbformat": 4,
 "nbformat_minor": 2
}
