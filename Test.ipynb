{
 "cells": [
  {
   "cell_type": "code",
   "execution_count": 2,
   "metadata": {},
   "outputs": [],
   "source": [
    "import numpy as np"
   ]
  },
  {
   "cell_type": "code",
   "execution_count": 15,
   "metadata": {},
   "outputs": [
    {
     "data": {
      "text/plain": [
       "(array([[[[1, 2, 3],\n",
       "          [2, 2, 3],\n",
       "          [3, 1, 1],\n",
       "          [4, 1, 1]],\n",
       " \n",
       "         [[1, 5, 6],\n",
       "          [2, 5, 6],\n",
       "          [3, 2, 2],\n",
       "          [4, 2, 2]],\n",
       " \n",
       "         [[1, 8, 9],\n",
       "          [2, 8, 9],\n",
       "          [3, 3, 3],\n",
       "          [4, 3, 3]]],\n",
       " \n",
       " \n",
       "        [[[1, 2, 3],\n",
       "          [2, 2, 3],\n",
       "          [3, 1, 1],\n",
       "          [4, 1, 1]],\n",
       " \n",
       "         [[1, 5, 6],\n",
       "          [2, 5, 6],\n",
       "          [3, 2, 2],\n",
       "          [4, 2, 2]],\n",
       " \n",
       "         [[1, 8, 9],\n",
       "          [2, 8, 9],\n",
       "          [3, 3, 3],\n",
       "          [4, 3, 3]]]]), (2, 3, 4, 3))"
      ]
     },
     "execution_count": 15,
     "metadata": {},
     "output_type": "execute_result"
    }
   ],
   "source": [
    "new_data = np.array([\n",
    "    [[[1,2,3],[2,2,3],[3,1,1],[4,1,1]],\n",
    "    [[1,5,6],[2,5,6],[3,2,2],[4,2,2]],\n",
    "    [[1,8,9],[2,8,9],[3,3,3],[4,3,3]]],\n",
    "    [[[1,2,3],[2,2,3],[3,1,1],[4,1,1]],\n",
    "    [[1,5,6],[2,5,6],[3,2,2],[4,2,2]],\n",
    "    [[1,8,9],[2,8,9],[3,3,3],[4,3,3]]]\n",
    "])\n",
    "\n",
    "new_data,    new_data.shape"
   ]
  },
  {
   "cell_type": "code",
   "execution_count": 17,
   "metadata": {},
   "outputs": [
    {
     "data": {
      "text/plain": [
       "array([[[1, 2, 3],\n",
       "        [2, 2, 3],\n",
       "        [3, 1, 1],\n",
       "        [4, 1, 1]],\n",
       "\n",
       "       [[1, 5, 6],\n",
       "        [2, 5, 6],\n",
       "        [3, 2, 2],\n",
       "        [4, 2, 2]],\n",
       "\n",
       "       [[1, 8, 9],\n",
       "        [2, 8, 9],\n",
       "        [3, 3, 3],\n",
       "        [4, 3, 3]]])"
      ]
     },
     "execution_count": 17,
     "metadata": {},
     "output_type": "execute_result"
    }
   ],
   "source": [
    "new_data[1]"
   ]
  }
 ],
 "metadata": {
  "kernelspec": {
   "display_name": "Python 3",
   "language": "python",
   "name": "python3"
  },
  "language_info": {
   "codemirror_mode": {
    "name": "ipython",
    "version": 3
   },
   "file_extension": ".py",
   "mimetype": "text/x-python",
   "name": "python",
   "nbconvert_exporter": "python",
   "pygments_lexer": "ipython3",
   "version": "3.6.3"
  }
 },
 "nbformat": 4,
 "nbformat_minor": 2
}
