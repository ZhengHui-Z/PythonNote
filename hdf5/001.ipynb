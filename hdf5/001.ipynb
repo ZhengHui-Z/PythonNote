{
 "cells": [
  {
   "cell_type": "markdown",
   "metadata": {},
   "source": [
    "### h5py简单介绍\n",
    "**h5py文件是存放两类对象的容器，数据集(dataset)和组(group)，dataset类似数组类的数据集合，和numpy的数组差不多。group是像文件夹一样的容器，它好比python中的字典，有键(key)和值(value)。group中可以存放dataset或者其他的group。”键”就是组成员的名称，”值”就是组成员对象本身(组或者数据集)，下面来看下如何创建组和数据集。**\n"
   ]
  },
  {
   "cell_type": "markdown",
   "metadata": {},
   "source": [
    "**1. 创建一个h5py文件**"
   ]
  },
  {
   "cell_type": "code",
   "execution_count": null,
   "metadata": {},
   "outputs": [],
   "source": [
    "import h5py\n",
    "import numpy as np\n",
    "\n",
    "#要是读取文件的话，就把w换成r\n",
    "f=h5py.File(\"myh5py.hdf5\",\"w\")"
   ]
  },
  {
   "cell_type": "markdown",
   "metadata": {},
   "source": [
    "**2. 创建dataset数据集**"
   ]
  },
  {
   "cell_type": "code",
   "execution_count": 13,
   "metadata": {},
   "outputs": [
    {
     "name": "stdout",
     "output_type": "stream",
     "text": [
      "dset1\n",
      "/dset1\n",
      "(20,)\n",
      "[0 0 0 0 0 0 0 0 0 0 0 0 0 0 0 0 0 0 0 0]\n"
     ]
    }
   ],
   "source": [
    "\n",
    "#要是读取文件的话，就把w换成r\n",
    "with h5py.File(\"myh5py.hdf5\",\"w\") as f:\n",
    "    #deset1是数据集的name，（20,）代表数据集的shape，i代表的是数据集的元素类型\n",
    "    d1=f.create_dataset(\"dset1\", (20,), 'i')\n",
    "    for key in f.keys():\n",
    "        print(key)\n",
    "        print(f[key].name)\n",
    "        print(f[key].shape)\n",
    "        print(f[key].value)"
   ]
  },
  {
   "cell_type": "code",
   "execution_count": 16,
   "metadata": {},
   "outputs": [
    {
     "name": "stdout",
     "output_type": "stream",
     "text": [
      "/dset1\n",
      "[ 0  1  2  3  4  5  6  7  8  9 10 11 12 13 14 15 16 17 18 19]\n",
      "/dset2\n",
      "[ 0  1  2  3  4  5  6  7  8  9 10 11 12 13 14]\n"
     ]
    }
   ],
   "source": [
    "with h5py.File(\"myh5py.hdf5\",\"w\") as f:\n",
    "\n",
    "    d1=f.create_dataset(\"dset1\",(20,),'i')\n",
    "    #赋值\n",
    "    d1[...]=np.arange(20)\n",
    "    #或者我们可以直接按照下面的方式创建数据集并赋值\n",
    "    f[\"dset2\"]=np.arange(15)\n",
    "\n",
    "    for key in f.keys():\n",
    "        print(f[key].name)\n",
    "        print(f[key].value)"
   ]
  },
  {
   "cell_type": "code",
   "execution_count": null,
   "metadata": {},
   "outputs": [],
   "source": []
  }
 ],
 "metadata": {
  "kernelspec": {
   "display_name": "Python 3",
   "language": "python",
   "name": "python3"
  },
  "language_info": {
   "codemirror_mode": {
    "name": "ipython",
    "version": 3
   },
   "file_extension": ".py",
   "mimetype": "text/x-python",
   "name": "python",
   "nbconvert_exporter": "python",
   "pygments_lexer": "ipython3",
   "version": "3.6.4"
  }
 },
 "nbformat": 4,
 "nbformat_minor": 2
}
